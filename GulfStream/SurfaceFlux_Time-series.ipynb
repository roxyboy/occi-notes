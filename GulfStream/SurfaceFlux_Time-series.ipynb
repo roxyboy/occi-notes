{
 "cells": [
  {
   "cell_type": "code",
   "execution_count": 1,
   "metadata": {},
   "outputs": [
    {
     "name": "stderr",
     "output_type": "stream",
     "text": [
      "/scratch/cnt0024/hmg2840/tuchida/condapack/lib/python3.7/site-packages/distributed/dashboard/core.py:72: UserWarning: \n",
      "Failed to start diagnostics server on port 8787. [Errno 13] Permission denied\n",
      "  warnings.warn(\"\\n\" + msg)\n"
     ]
    },
    {
     "data": {
      "text/html": [
       "<table style=\"border: 2px solid white;\">\n",
       "<tr>\n",
       "<td style=\"vertical-align: top; border: 0px solid white\">\n",
       "<h3 style=\"text-align: left;\">Client</h3>\n",
       "<ul style=\"text-align: left; list-style: none; margin: 0; padding: 0;\">\n",
       "  <li><b>Scheduler: </b>tcp://127.0.0.1:36693</li>\n",
       "  <li><b>Dashboard: </b><a href='http://127.0.0.1:45611/status' target='_blank'>http://127.0.0.1:45611/status</a>\n",
       "</ul>\n",
       "</td>\n",
       "<td style=\"vertical-align: top; border: 0px solid white\">\n",
       "<h3 style=\"text-align: left;\">Cluster</h3>\n",
       "<ul style=\"text-align: left; list-style:none; margin: 0; padding: 0;\">\n",
       "  <li><b>Workers: </b>8</li>\n",
       "  <li><b>Cores: </b>56</li>\n",
       "  <li><b>Memory: </b>270.19 GB</li>\n",
       "</ul>\n",
       "</td>\n",
       "</tr>\n",
       "</table>"
      ],
      "text/plain": [
       "<Client: 'tcp://127.0.0.1:36693' processes=8 threads=56, memory=270.19 GB>"
      ]
     },
     "execution_count": 1,
     "metadata": {},
     "output_type": "execute_result"
    }
   ],
   "source": [
    "from dask.distributed import Client, LocalCluster\n",
    "# from dask_jobqueue import SLURMCluster\n",
    "\n",
    "# # cluster = LocalCluster()\n",
    "# cluster = SLURMCluster(cores=24, name='test', walltime='00:30:00',\n",
    "#                        job_extra=['--constraint=HSW24','--exclusive','--nodes=1'], \n",
    "#                        memory='118GB', interface='ib0'\n",
    "#                       )\n",
    "# cluster.scale(120)\n",
    "# # # cluster.adapt(minimum=1, maximum=48)\n",
    "\n",
    "# client = Client(cluster)\n",
    "client = Client()\n",
    "client"
   ]
  },
  {
   "cell_type": "code",
   "execution_count": 2,
   "metadata": {},
   "outputs": [
    {
     "name": "stdout",
     "output_type": "stream",
     "text": [
      "             JOBID PARTITION     NAME     USER ST       TIME  NODES NODELIST(REASON)\n",
      "          10562606      visu      viz  tuchida  R       5:37      1 n4368\n",
      "8\n"
     ]
    }
   ],
   "source": [
    "!squeue -u tuchida\n",
    "\n",
    "import time\n",
    "nb_workers = 0\n",
    "while True:\n",
    "    nb_workers = len(client.scheduler_info()[\"workers\"])\n",
    "    if nb_workers >= 2:\n",
    "        break\n",
    "    time.sleep(1)\n",
    "print(nb_workers)"
   ]
  },
  {
   "cell_type": "code",
   "execution_count": 3,
   "metadata": {},
   "outputs": [],
   "source": [
    "import xarray as xr\n",
    "import numpy as np\n",
    "import xscale\n",
    "import gsw\n",
    "import os.path as op\n",
    "from xhistogram.xarray import histogram as xhist\n",
    "\n",
    "from matplotlib.gridspec import GridSpec\n",
    "import matplotlib.pyplot as plt\n",
    "%matplotlib inline"
   ]
  },
  {
   "cell_type": "code",
   "execution_count": 4,
   "metadata": {},
   "outputs": [],
   "source": [
    "ddir = '/store/CT1/hmg2840/lbrodeau/eNATL60/eNATL60-BLBT02-S/'\n",
    "xtra = '/store/CT1/hmg2840/lbrodeau/eNATL60/eNATL60-BLBT02X-S'\n",
    "scratch = '/scratch/cnt0024/hmg2840/tuchida/temp'"
   ]
  },
  {
   "cell_type": "code",
   "execution_count": 5,
   "metadata": {},
   "outputs": [],
   "source": [
    "g = 9.81\n",
    "Ce = 1e-2\n",
    "cp = 4e3\n",
    "ys,ye = (2000-1,2500+1)\n",
    "xs,xe = (2300-1,3100+1)\n",
    "ncoars = 5\n",
    "zchunk = 4\n",
    "z10 = 6\n",
    "\n",
    "dsmask = xr.open_dataset(op.join(ddir,'../eNATL60-I/mesh_mask_eNATL60_3.6.nc'), \n",
    "                         chunks={'z':zchunk}).isel(t=0)\n",
    "maskT = dsmask.tmask.isel(z=slice(None,95),y=slice(ys,ye),x=slice(xs,xe))"
   ]
  },
  {
   "cell_type": "code",
   "execution_count": 6,
   "metadata": {},
   "outputs": [],
   "source": [
    "At = (dsmask.e1t * dsmask.e2t).sel(y=slice(ys,ye),\n",
    "                                   x=slice(xs,xe)).where(xr.DataArray(maskT[0].data, dims=['y','x']\n",
    "                                                                     ) != 0.)\n",
    "Au = (dsmask.e1u * dsmask.e2u).sel(y=slice(ys,ye),\n",
    "                                   x=slice(xs,xe)).where(xr.DataArray(maskT[0].data, dims=['y','x']\n",
    "                                                                     ) != 0.)\n",
    "Av = (dsmask.e1v * dsmask.e2v).sel(y=slice(ys,ye),\n",
    "                                   x=slice(xs,xe)).where(xr.DataArray(maskT[0].data, dims=['y','x']\n",
    "                                                                     ) != 0.)\n",
    "e1u = dsmask.e1u.sel(y=slice(ys,ye),x=slice(xs,xe)).where(xr.DataArray(maskT[0].data, dims=['y','x']\n",
    "                                                                      ) != 0.)\n",
    "# e2u = dsmask.e2u[0].sel(y=slice(ys,ye),x=slice(xs,xe))\n",
    "# e1v = dsmask.e1v[0].sel(y=slice(ys,ye),x=slice(xs,xe))\n",
    "e2v = dsmask.e2v.sel(y=slice(ys,ye),x=slice(xs,xe)).where(xr.DataArray(maskT[0].data, dims=['y','x']\n",
    "                                                                      ) != 0.)\n",
    "e2t = dsmask.e2t.sel(y=slice(ys,ye),x=slice(xs,xe)).where(xr.DataArray(maskT[0].data, dims=['y','x']\n",
    "                                                                      ) != 0.)\n",
    "e1t = dsmask.e1t.sel(y=slice(ys,ye),x=slice(xs,xe)).where(xr.DataArray(maskT[0].data, dims=['y','x']\n",
    "                                                                      ) != 0.)\n",
    "gdepw = xr.open_dataset(op.join(scratch,'gdepw_eNATL60.nc')\n",
    "                       ).gdepw.sel(y=slice(ys,ye),x=slice(xs,xe))\n",
    "# e3t = dsmask.e3t_1d[0]\n",
    "# e3w = dsmask.e3w_1d[0]"
   ]
  },
  {
   "cell_type": "code",
   "execution_count": 7,
   "metadata": {},
   "outputs": [],
   "source": [
    "cori = xr.apply_ufunc(gsw.f, dsmask.nav_lat.isel(y=slice(ys,ye),x=slice(xs,xe)),\n",
    "                      dask='parallelized', output_dtypes=[float,])\n",
    "Atb = At.isel(y=slice(1,-1),x=slice(1,-1)).coarsen({'y':ncoars,'x':ncoars}, boundary='trim').sum(skipna=True)\n",
    "fb = xr.apply_ufunc(gsw.f, (dsmask.nav_lat.isel(y=slice(ys+1,ye-1),x=slice(xs+1,xe-1))\n",
    "                            * At.isel(y=slice(1,-1),x=slice(1,-1))\n",
    "                           ).coarsen({'y':ncoars,'x':ncoars}, boundary='trim').sum() / Atb,\n",
    "                    dask='parallelized', output_dtypes=[float,]\n",
    "                   )\n",
    "e1tb = e1t.isel(y=slice(1,-1),x=slice(1,-1)).coarsen({'y':ncoars,'x':ncoars},boundary='trim').sum(skipna=True)\n",
    "e2tb = e2t.isel(y=slice(1,-1),x=slice(1,-1)).coarsen({'y':ncoars,'x':ncoars},boundary='trim').sum(skipna=True)\n",
    "Aub = Au.isel(y=slice(1,-1),x=slice(1,-1)).coarsen({'y':ncoars,'x':ncoars}, boundary='trim').sum(skipna=True)\n",
    "Avb = Av.isel(y=slice(1,-1),x=slice(1,-1)).coarsen({'y':ncoars,'x':ncoars}, boundary='trim').sum(skipna=True)\n",
    "# Atb = At.coarsen({'y':5,'x':5}, boundary='trim').sum()"
   ]
  },
  {
   "cell_type": "code",
   "execution_count": 7,
   "metadata": {
    "jupyter": {
     "source_hidden": true
    }
   },
   "outputs": [],
   "source": [
    "# def filt(da, area=None):\n",
    "    \n",
    "# #     if area is not None:\n",
    "#         win_2D = (da * area).window\n",
    "#     else:\n",
    "#         win_2D = da.window\n",
    "    \n",
    "#     win_2D.set(window='hanning', cutoff=20, dim=['y','x'], n=[30,30])\n",
    "#     bw = win_2D.boundary_weights(drop_dims=[])\n",
    "#     da_LS = win_2D.convolve(weights=bw)\n",
    "    \n",
    "#     if area is not None:\n",
    "#         area_win = area.window\n",
    "#         area_win.set(window='hanning', cutoff=20, dim=['y','x'], n=[30,30])\n",
    "#         bw = area_win.boundary_weights(drop_dims=[])\n",
    "#         da_LS *= area_win.convolve(weights=bw)**-1\n",
    "    \n",
    "#     da_SS = da - da_LS\n",
    "    \n",
    "#     return da_SS"
   ]
  },
  {
   "cell_type": "code",
   "execution_count": 8,
   "metadata": {
    "collapsed": true,
    "jupyter": {
     "outputs_hidden": true,
     "source_hidden": true
    }
   },
   "outputs": [
    {
     "data": {
      "text/plain": [
       "158.024264"
      ]
     },
     "execution_count": 8,
     "metadata": {},
     "output_type": "execute_result"
    }
   ],
   "source": [
    "xr.open_dataset(op.join(ddir,'00658801-00669600/eNATL60-BLBT02_1h_20091102_20091106_gridW_20091102-20091102.nc'),\n",
    "               chunks=({'time_counter':1,'depthw':1})).sel(depthw=slice(None,510)).vovecrtz[0,0].data.nbytes*1e-6"
   ]
  },
  {
   "cell_type": "code",
   "execution_count": 9,
   "metadata": {
    "collapsed": true,
    "jupyter": {
     "outputs_hidden": true,
     "source_hidden": true
    }
   },
   "outputs": [
    {
     "data": {
      "text/html": [
       "<pre>&lt;xarray.Dataset&gt;\n",
       "Dimensions:               (axis_nbounds: 2, depthw: 74, time_counter: 120, x: 8354, y: 4729)\n",
       "Coordinates:\n",
       "    nav_lat               (y, x) float32 dask.array&lt;chunksize=(4729, 8354), meta=np.ndarray&gt;\n",
       "    nav_lon               (y, x) float32 dask.array&lt;chunksize=(4729, 8354), meta=np.ndarray&gt;\n",
       "  * depthw                (depthw) float32 0.0 1.0000261 ... 487.90018 500.50638\n",
       "    time_centered         (time_counter) datetime64[ns] dask.array&lt;chunksize=(1,), meta=np.ndarray&gt;\n",
       "  * time_counter          (time_counter) datetime64[ns] 2009-11-02T00:30:00 ... 2009-11-06T23:30:00\n",
       "Dimensions without coordinates: axis_nbounds, x, y\n",
       "Data variables:\n",
       "    depthw_bounds         (time_counter, depthw, axis_nbounds) float32 dask.array&lt;chunksize=(24, 1, 2), meta=np.ndarray&gt;\n",
       "    time_centered_bounds  (time_counter, axis_nbounds) datetime64[ns] dask.array&lt;chunksize=(1, 2), meta=np.ndarray&gt;\n",
       "    time_counter_bounds   (time_counter, axis_nbounds) datetime64[ns] dask.array&lt;chunksize=(1, 2), meta=np.ndarray&gt;\n",
       "    vovecrtz              (time_counter, depthw, y, x) float32 dask.array&lt;chunksize=(1, 1, 4729, 8354), meta=np.ndarray&gt;\n",
       "Attributes:\n",
       "    name:         /scratch/tmp/5091688/eNATL60-BLBT02_1h_20091102_20091106_gridW\n",
       "    description:  ocean W grid variables\n",
       "    title:        ocean W grid variables\n",
       "    Conventions:  CF-1.6\n",
       "    timeStamp:    2019-Mar-09 11:57:06 GMT\n",
       "    uuid:         b541dd09-f592-4c7f-a4fa-0e01f9b6bcfa\n",
       "    ibegin:       0\n",
       "    ni:           8354\n",
       "    jbegin:       0\n",
       "    nj:           10\n",
       "    file_name:    eNATL60-BLBT02_1h_20091102_20091106_gridW_20091102-20091102.nc\n",
       "    TimeStamp:    10/03/2019 00:59:17 +0100</pre>"
      ],
      "text/plain": [
       "<xarray.Dataset>\n",
       "Dimensions:               (axis_nbounds: 2, depthw: 74, time_counter: 120, x: 8354, y: 4729)\n",
       "Coordinates:\n",
       "    nav_lat               (y, x) float32 dask.array<chunksize=(4729, 8354), meta=np.ndarray>\n",
       "    nav_lon               (y, x) float32 dask.array<chunksize=(4729, 8354), meta=np.ndarray>\n",
       "  * depthw                (depthw) float32 0.0 1.0000261 ... 487.90018 500.50638\n",
       "    time_centered         (time_counter) datetime64[ns] dask.array<chunksize=(1,), meta=np.ndarray>\n",
       "  * time_counter          (time_counter) datetime64[ns] 2009-11-02T00:30:00 ... 2009-11-06T23:30:00\n",
       "Dimensions without coordinates: axis_nbounds, x, y\n",
       "Data variables:\n",
       "    depthw_bounds         (time_counter, depthw, axis_nbounds) float32 dask.array<chunksize=(24, 1, 2), meta=np.ndarray>\n",
       "    time_centered_bounds  (time_counter, axis_nbounds) datetime64[ns] dask.array<chunksize=(1, 2), meta=np.ndarray>\n",
       "    time_counter_bounds   (time_counter, axis_nbounds) datetime64[ns] dask.array<chunksize=(1, 2), meta=np.ndarray>\n",
       "    vovecrtz              (time_counter, depthw, y, x) float32 dask.array<chunksize=(1, 1, 4729, 8354), meta=np.ndarray>\n",
       "Attributes:\n",
       "    name:         /scratch/tmp/5091688/eNATL60-BLBT02_1h_20091102_20091106_gridW\n",
       "    description:  ocean W grid variables\n",
       "    title:        ocean W grid variables\n",
       "    Conventions:  CF-1.6\n",
       "    timeStamp:    2019-Mar-09 11:57:06 GMT\n",
       "    uuid:         b541dd09-f592-4c7f-a4fa-0e01f9b6bcfa\n",
       "    ibegin:       0\n",
       "    ni:           8354\n",
       "    jbegin:       0\n",
       "    nj:           10\n",
       "    file_name:    eNATL60-BLBT02_1h_20091102_20091106_gridW_20091102-20091102.nc\n",
       "    TimeStamp:    10/03/2019 00:59:17 +0100"
      ]
     },
     "execution_count": 9,
     "metadata": {},
     "output_type": "execute_result"
    }
   ],
   "source": [
    "dsW = xr.open_mfdataset(op.join(ddir,'00658801-00669600/eNATL60-BLBT02_1h_20091102_20091106_gridW_200911*.nc'),\n",
    "                        chunks={'time_counter':1,'depthw':1}, combine='by_coords'\n",
    "                       ).sel(depthw=slice(None,510))\n",
    "dsT = xr.open_mfdataset(op.join(ddir,'00658801-00669600/eNATL60-BLBT02_1h_20091102_20091106_gridT_200911*.nc'),\n",
    "                        chunks={'time_counter':1,'deptht':1}, combine='by_coords'\n",
    "                       ).sel(deptht=slice(None,510))\n",
    "dsS = xr.open_mfdataset(op.join(ddir,'00658801-00669600/eNATL60-BLBT02_1h_20091102_20091106_gridS_200911*.nc'),\n",
    "                        chunks={'time_counter':1,'deptht':1}, combine='by_coords'\n",
    "                       ).sel(deptht=slice(None,510))\n",
    "dsW"
   ]
  },
  {
   "cell_type": "code",
   "execution_count": 10,
   "metadata": {
    "collapsed": true,
    "jupyter": {
     "outputs_hidden": true,
     "source_hidden": true
    }
   },
   "outputs": [
    {
     "data": {
      "text/html": [
       "<pre>&lt;xarray.DataArray (time_counter: 120, depthw: 73, y: 500, x: 800)&gt;\n",
       "dask.array&lt;mul, shape=(120, 73, 500, 800), dtype=float64, chunksize=(1, 1, 500, 800), chunktype=numpy.ndarray&gt;\n",
       "Coordinates:\n",
       "  * depthw         (depthw) float64 1.0 2.157 3.471 4.943 ... 475.4 487.9 500.5\n",
       "    nav_lat        (y, x) float32 dask.array&lt;chunksize=(500, 800), meta=np.ndarray&gt;\n",
       "    nav_lon        (y, x) float32 dask.array&lt;chunksize=(500, 800), meta=np.ndarray&gt;\n",
       "    time_centered  (time_counter) datetime64[ns] dask.array&lt;chunksize=(1,), meta=np.ndarray&gt;\n",
       "  * time_counter   (time_counter) datetime64[ns] 2009-11-02T00:30:00 ... 2009-11-06T23:30:00\n",
       "Dimensions without coordinates: y, x</pre>"
      ],
      "text/plain": [
       "<xarray.DataArray (time_counter: 120, depthw: 73, y: 500, x: 800)>\n",
       "dask.array<mul, shape=(120, 73, 500, 800), dtype=float64, chunksize=(1, 1, 500, 800), chunktype=numpy.ndarray>\n",
       "Coordinates:\n",
       "  * depthw         (depthw) float64 1.0 2.157 3.471 4.943 ... 475.4 487.9 500.5\n",
       "    nav_lat        (y, x) float32 dask.array<chunksize=(500, 800), meta=np.ndarray>\n",
       "    nav_lon        (y, x) float32 dask.array<chunksize=(500, 800), meta=np.ndarray>\n",
       "    time_centered  (time_counter) datetime64[ns] dask.array<chunksize=(1,), meta=np.ndarray>\n",
       "  * time_counter   (time_counter) datetime64[ns] 2009-11-02T00:30:00 ... 2009-11-06T23:30:00\n",
       "Dimensions without coordinates: y, x"
      ]
     },
     "execution_count": 10,
     "metadata": {},
     "output_type": "execute_result"
    }
   ],
   "source": [
    "maskT = dsmask.tmask[0].sel(y=slice(ys,ye),x=slice(xs,xe)).isel(z=slice(None,len(dsW.depthw)))\n",
    "    \n",
    "CT = dsT.votemper.sel(y=slice(ys,ye),x=slice(xs,xe)\n",
    "                     ).where(xr.DataArray(maskT.data, dims=['deptht','y','x']).chunk({'deptht':1})!=0.\n",
    "                            )\n",
    "SA = dsS.vosaline.sel(y=slice(ys,ye),x=slice(xs,xe)\n",
    "                     ).where(xr.DataArray(maskT.data, dims=['deptht','y','x']).chunk({'deptht':1})!=0.\n",
    "                            )\n",
    "w = dsW.vovecrtz.sel(y=slice(ys,ye),x=slice(xs,xe)\n",
    "                    ).where(xr.DataArray(maskT.data, dims=['depthw','y','x']).chunk({'deptht':1})!=0.\n",
    "                           )\n",
    "\n",
    "buoy = -g*xr.apply_ufunc(gsw.sigma0, SA, CT, \n",
    "                         dask='parallelized', output_dtypes=[float,]\n",
    "                        )*1e-3\n",
    "\n",
    "ws = filt(w.chunk({'depthw':1}), area=At)\n",
    "bs = filt(buoy.chunk({'deptht':1}), area=At)\n",
    "\n",
    "wsbs = (ws.isel(depthw=slice(1,None)) \n",
    "        * bs.chunk({'deptht':-1}).interp({'deptht':ws.depthw.isel(depthw=slice(1,None)).data},\n",
    "                                         method='linear').data\n",
    "       )\n",
    "wsbs"
   ]
  },
  {
   "cell_type": "code",
   "execution_count": null,
   "metadata": {
    "jupyter": {
     "source_hidden": true
    }
   },
   "outputs": [],
   "source": [
    "wsbs[:,15].mean('time_counter').plot(figsize=(12,7), vmin=-1e-7, vmax=1e-7, cmap='RdBu_r')"
   ]
  },
  {
   "cell_type": "code",
   "execution_count": null,
   "metadata": {
    "jupyter": {
     "source_hidden": true
    }
   },
   "outputs": [],
   "source": [
    "wsbs_b = ((wsbs*At).coarsen({'y':5,'x':5},boundary='trim').sum() \n",
    "          * At.coarsen({'y':5,'x':5},boundary='trim').sum()**-1\n",
    "         )\n",
    "s_b = ((SA*At).coarsen({'y':5,'x':5}, boundary='trim').sum()\n",
    "       / At.coarsen({'y':5,'x':5}, boundary='trim').sum()\n",
    "      )\n",
    "t_b = ((CT*At).coarsen({'y':5,'x':5}, boundary='trim').sum()\n",
    "       / At.coarsen({'y':5,'x':5}, boundary='trim').sum()\n",
    "      )\n",
    "\n",
    "z10 = 6\n",
    "sig0_b = xr.apply_ufunc(gsw.sigma0, s_b, t_b, \n",
    "                        dask='parallelized', output_dtypes=[float,]\n",
    "                       ).persist()\n",
    "b_b = -g*sig0_b*1e-3\n",
    "\n",
    "nMLD_b = z10 + np.abs((sig0_b.isel(deptht=slice(z10,None))\n",
    "                       - sig0_b.isel(deptht=z10)\n",
    "                      ) - 0.03).argmin(dim='deptht')"
   ]
  },
  {
   "cell_type": "code",
   "execution_count": 9,
   "metadata": {
    "collapsed": true,
    "jupyter": {
     "outputs_hidden": true,
     "source_hidden": true
    }
   },
   "outputs": [
    {
     "data": {
      "text/html": [
       "<pre>&lt;xarray.DataArray (time: 5, x: 4)&gt;\n",
       "dask.array&lt;concatenate, shape=(5, 4), dtype=float64, chunksize=(1, 4), chunktype=numpy.ndarray&gt;\n",
       "Dimensions without coordinates: time, x</pre>"
      ],
      "text/plain": [
       "<xarray.DataArray (time: 5, x: 4)>\n",
       "dask.array<concatenate, shape=(5, 4), dtype=float64, chunksize=(1, 4), chunktype=numpy.ndarray>\n",
       "Dimensions without coordinates: time, x"
      ]
     },
     "execution_count": 9,
     "metadata": {},
     "output_type": "execute_result"
    }
   ],
   "source": [
    "import dask.array as dsar\n",
    "xr.concat([xr.DataArray(np.random.random((2,4)), dims=['time','x']).chunk({'time':1}),\n",
    "           xr.DataArray(np.random.random((3,4)), dims=['time','x']).chunk({'time':1})], 'time')"
   ]
  },
  {
   "cell_type": "code",
   "execution_count": 8,
   "metadata": {},
   "outputs": [],
   "source": [
    "def filt(da, area=None):\n",
    "    \n",
    "    if area is not None:\n",
    "        win_2D = (da * area).window\n",
    "    else:\n",
    "        win_2D = da.window\n",
    "    \n",
    "    win_2D.set(window='hanning', cutoff=20, dim=['y','x'], n=[30,30])\n",
    "    bw = win_2D.boundary_weights(drop_dims=[])\n",
    "    da_LS = win_2D.convolve(weights=bw)\n",
    "    \n",
    "    if area is not None:\n",
    "        area_win = area.window\n",
    "        area_win.set(window='hanning', cutoff=20, dim=['y','x'], n=[30,30])\n",
    "        bw = area_win.boundary_weights(drop_dims=[])\n",
    "        da_LS *= area_win.convolve(weights=bw)**-1\n",
    "    \n",
    "    da_SS = da - da_LS\n",
    "    \n",
    "    return da_SS"
   ]
  },
  {
   "cell_type": "code",
   "execution_count": 13,
   "metadata": {},
   "outputs": [
    {
     "name": "stdout",
     "output_type": "stream",
     "text": [
      "[[27 28 29 30  1]\n",
      " [ 2  3  4  5  6]\n",
      " [ 7  8  9 10 11]\n",
      " [12 13 14 15 16]] [712801 712801 712801 712801 712801]\n"
     ]
    }
   ],
   "source": [
    "# dirs = np.arange(669601,756000,43200,dtype=int)\n",
    "days = np.concatenate((np.arange(27,31,dtype=int), np.arange(1,17,dtype=int))).reshape((4,5))\n",
    "# days = np.arange(17,32, dtype=int).reshape((3,5))\n",
    "dirs = np.repeat(np.array([712801]),days.shape[0]+1)\n",
    "print(days,dirs)"
   ]
  },
  {
   "cell_type": "code",
   "execution_count": 17,
   "metadata": {},
   "outputs": [
    {
     "ename": "AttributeError",
     "evalue": "'Dataset' object has no attribute 'sozotaux'",
     "output_type": "error",
     "traceback": [
      "\u001b[0;31m---------------------------------------------------------------------------\u001b[0m",
      "\u001b[0;31mAttributeError\u001b[0m                            Traceback (most recent call last)",
      "\u001b[0;32m<ipython-input-17-378bb81705c4>\u001b[0m in \u001b[0;36m<module>\u001b[0;34m\u001b[0m\n\u001b[1;32m     53\u001b[0m                                   ).where(xr.DataArray(maskT.data[0], dims=['y','x']\n\u001b[1;32m     54\u001b[0m                                                       ) != 0.)\n\u001b[0;32m---> 55\u001b[0;31m         taux = d2Du.sozotaux[-1].sel(y=slice(ys,ye),x=slice(xs,xe)\n\u001b[0m\u001b[1;32m     56\u001b[0m                                     ).where(xr.DataArray(maskT.data[0], dims=['y','x']\n\u001b[1;32m     57\u001b[0m                                                         ) != 0.)\n",
      "\u001b[0;32m/scratch/cnt0024/hmg2840/tuchida/condapack/lib/python3.7/site-packages/xarray/core/common.py\u001b[0m in \u001b[0;36m__getattr__\u001b[0;34m(self, name)\u001b[0m\n\u001b[1;32m    231\u001b[0m                     \u001b[0;32mreturn\u001b[0m \u001b[0msource\u001b[0m\u001b[0;34m[\u001b[0m\u001b[0mname\u001b[0m\u001b[0;34m]\u001b[0m\u001b[0;34m\u001b[0m\u001b[0;34m\u001b[0m\u001b[0m\n\u001b[1;32m    232\u001b[0m         raise AttributeError(\n\u001b[0;32m--> 233\u001b[0;31m             \u001b[0;34m\"{!r} object has no attribute {!r}\"\u001b[0m\u001b[0;34m.\u001b[0m\u001b[0mformat\u001b[0m\u001b[0;34m(\u001b[0m\u001b[0mtype\u001b[0m\u001b[0;34m(\u001b[0m\u001b[0mself\u001b[0m\u001b[0;34m)\u001b[0m\u001b[0;34m.\u001b[0m\u001b[0m__name__\u001b[0m\u001b[0;34m,\u001b[0m \u001b[0mname\u001b[0m\u001b[0;34m)\u001b[0m\u001b[0;34m\u001b[0m\u001b[0;34m\u001b[0m\u001b[0m\n\u001b[0m\u001b[1;32m    234\u001b[0m         )\n\u001b[1;32m    235\u001b[0m \u001b[0;34m\u001b[0m\u001b[0m\n",
      "\u001b[0;31mAttributeError\u001b[0m: 'Dataset' object has no attribute 'sozotaux'"
     ]
    }
   ],
   "source": [
    "month = 11\n",
    "year = 2009\n",
    "for k in range(0,len(dirs)-1):\n",
    "    for i in days[k]:\n",
    "        j = month\n",
    "        l = j\n",
    "        m = month+1\n",
    "#         if k > 0:\n",
    "#             j = m\n",
    "        if i < days[0,0]:\n",
    "            l = m\n",
    "\n",
    "        d2D = xr.open_dataset(op.join(xtra,'%08d-%08d/eNATL60-BLBT02X_1h_%4d%02d%02d_%4d%02d%02d_gridT-2D_%4d%02d%02d-%4d%02d%02d.nc'\n",
    "                                      % (dirs[k],int(dirs[k]+10800*days.shape[0]-1),\n",
    "                                         year,j,days[0,0],year,m,days[-1,-1],\n",
    "                                         year,l,i,year,l,i)),\n",
    "                              chunks={'time_counter':1}\n",
    "                             )\n",
    "        d2Du = xr.open_dataset(op.join(xtra,'%08d-%08d/eNATL60-BLBT02X_1h_%4d%02d%02d_%4d%02d%02d_gridU-2D_%4d%02d%02d-%4d%02d%02d.nc'\n",
    "                                       % (dirs[k],int(dirs[k]+10800*days.shape[0]-1),\n",
    "                                         year,j,days[0,0],year,m,days[-1,-1],\n",
    "                                         year,l,i,year,l,i)),\n",
    "                              chunks={'time_counter':1}\n",
    "                             )\n",
    "        d2Dv = xr.open_dataset(op.join(xtra,'%08d-%08d/eNATL60-BLBT02X_1h_%4d%02d%02d_%4d%02d%02d_gridV-2D_%4d%02d%02d-%4d%02d%02d.nc'\n",
    "                                       % (dirs[k],int(dirs[k]+10800*days.shape[0]-1),\n",
    "                                         year,j,days[0,0],year,m,days[-1,-1],\n",
    "                                         year,l,i,year,l,i)),\n",
    "                              chunks={'time_counter':1}\n",
    "                             )\n",
    "        dsT = xr.open_dataset(op.join(xtra,'%08d-%08d/eNATL60-BLBT02X_1h_%4d%02d%02d_%4d%02d%02d_gridT_%4d%02d%02d-%4d%02d%02d.nc' \n",
    "                                      % (dirs[k],int(dirs[k]+10800*days.shape[0]-1),\n",
    "                                         year,j,days[0,0],year,m,days[-1,-1],\n",
    "                                         year,l,i,year,l,i)),\n",
    "                              chunks={'time_counter':1}\n",
    "                             ).sel(deptht=slice(None,810))\n",
    "        dsS = xr.open_dataset(op.join(xtra,'%08d-%08d/eNATL60-BLBT02X_1h_%4d%02d%02d_%4d%02d%02d_gridS_%4d%02d%02d-%4d%02d%02d.nc' \n",
    "                                      % (dirs[k],int(dirs[k]+10800*days.shape[0]-1),\n",
    "                                         year,j,days[0,0],year,m,days[-1,-1],\n",
    "                                         year,l,i,year,l,i)),\n",
    "                              chunks={'time_counter':1}\n",
    "                             ).sel(deptht=slice(None,810))\n",
    "\n",
    "        \n",
    "\n",
    "        CT = dsT.votemper[-1].sel(y=slice(ys,ye),x=slice(xs,xe)\n",
    "                                 ).where(xr.DataArray(maskT.data, dims=['deptht','y','x']\n",
    "                                                     ) != 0.)\n",
    "        SA = dsS.vosaline[-1].sel(y=slice(ys,ye),x=slice(xs,xe)\n",
    "                                 ).where(xr.DataArray(maskT.data, dims=['deptht','y','x']\n",
    "                                                     ) != 0.)\n",
    "        ssh = d2D.sossheig[-1].sel(y=slice(ys,ye),x=slice(xs,xe)\n",
    "                                  ).where(xr.DataArray(maskT.data[0], dims=['y','x']\n",
    "                                                      ) != 0.)\n",
    "        taux = d2Du.sozotaux[-1].sel(y=slice(ys,ye),x=slice(xs,xe)\n",
    "                                    ).where(xr.DataArray(maskT.data[0], dims=['y','x']\n",
    "                                                        ) != 0.)\n",
    "        tauy = d2Dv.sometauy[-1].sel(y=slice(ys,ye),x=slice(xs,xe)\n",
    "                                    ).where(xr.DataArray(maskT.data[0], dims=['y','x']\n",
    "                                                        ) != 0.)\n",
    "        \n",
    "        sig0 = xr.apply_ufunc(gsw.sigma0, SA, CT, \n",
    "                              dask='parallelized', output_dtypes=[float,])\n",
    "        buoy = -g * sig0 * 1e-3\n",
    "#         buoy = -g * (sig0+1e3-rho0) * rho0**-1\n",
    "        bm = filt(buoy.chunk({'deptht':1}), area=At)\n",
    "\n",
    "#######################\n",
    "        nMLD = z10 + np.abs((sig0.isel(deptht=slice(z10,None))\n",
    "                             - sig0.isel(deptht=z10)\n",
    "                            ) - 0.03).argmin(dim='deptht').compute()\n",
    "        \n",
    "        e3t = dsmask.e3t_0.sel(y=slice(ys,ye),x=slice(xs,xe)) * (1+ssh*gdepw**-1)\n",
    "\n",
    "        MLD = e3t.where(e3t.z<=nMLD.compute()).sum('z',skipna=True).compute()\n",
    "        \n",
    "\n",
    "        bmx = (bm.isel(x=slice(1,None))\n",
    "               + bm.isel(x=slice(None,-1)).data\n",
    "              ) * .5\n",
    "        bmy = (bm.isel(y=slice(1,None))\n",
    "               + bm.isel(y=slice(None,-1)).data\n",
    "              ) * .5\n",
    "        dbmx = bmx.diff(dim='x') * e1u.isel(x=slice(1,-1))**-1\n",
    "        dbmy = bmy.diff(dim='y') * e2v.isel(y=slice(1,-1))**-1\n",
    "        dbmxH = (dbmx.isel(y=slice(1,-1)) \n",
    "                 * xr.DataArray(e3t.isel(z=slice(len(dsT.deptht)),y=slice(1,-1),x=slice(1,-1)).data,\n",
    "                                dims=['deptht','y','x'])\n",
    "                ).where(dbmx.deptht <= MLD.isel(y=slice(1,-1),x=slice(1,-1))).sum('deptht',skipna=True)\n",
    "        dbmyH = (dbmy.isel(x=slice(1,-1)) \n",
    "                 * xr.DataArray(e3t.isel(z=slice(len(dsT.deptht)),y=slice(1,-1),x=slice(1,-1)).data,\n",
    "                                dims=['deptht','y','x'])\n",
    "                ).where(dbmx.deptht <= MLD.isel(y=slice(1,-1),x=slice(1,-1))).sum('deptht',skipna=True)\n",
    "        \n",
    "        EBF = (tauy.isel(y=slice(1,-1),x=slice(1,-1)) * dbmxH\n",
    "               - taux.isel(y=slice(1,-1),x=slice(1,-1)) * dbmyH\n",
    "              ) * (MLD*cori).isel(y=slice(1,-1),x=slice(1,-1))**-1*1e-3\n",
    "        \n",
    "        EBF_b = ((EBF*At.sel(y=slice(1,-1),x=slice(1,-1))).coarsen({'y':ncoars,'x':ncoars},\n",
    "                                                                    boundary='trim').sum(skipna=True)\n",
    "                 * Atb**-1\n",
    "                )\n",
    "\n",
    "#####################  \n",
    "        if i == days[0,0]:\n",
    "            EBF_bar = EBF_b.compute()\n",
    "            \n",
    "        else:\n",
    "            EBF_bar = xr.concat([EBF_bar, EBF_b.compute()],\n",
    "                                 'time_counter')\n",
    "\n",
    "        \n",
    "#         client.restart()\n",
    "        print(str(l)+'-'+str(i))\n",
    "    \n",
    "\n",
    "dsave = EBF_bar.to_dataset(name='EBF')\n",
    "dsave.to_netcdf(op.join(scratch,'GulfStream/EBF_bar_24h_%4d-%02d-%02d_%02d-%02d.nc' \n",
    "                        % (year,j,days[0,0],m,days[-1,-1])))\n",
    "    \n",
    "#     if k < len(dirs)-2:\n",
    "#         del BFK_bar"
   ]
  },
  {
   "cell_type": "code",
   "execution_count": 32,
   "metadata": {},
   "outputs": [
    {
     "name": "stdout",
     "output_type": "stream",
     "text": [
      "5-6\n"
     ]
    },
    {
     "name": "stderr",
     "output_type": "stream",
     "text": [
      "distributed.scheduler - ERROR - Couldn't gather keys {\"('truediv-6903ec640f43b6eab4b0ac281ff98048', 0, 0, 0)\": []} state: ['waiting'] workers: []\n",
      "NoneType: None\n",
      "distributed.scheduler - ERROR - Workers don't have promised key: [], ('truediv-6903ec640f43b6eab4b0ac281ff98048', 0, 0, 0)\n",
      "NoneType: None\n"
     ]
    },
    {
     "name": "stdout",
     "output_type": "stream",
     "text": [
      "5-7\n",
      "5-8\n",
      "5-9\n",
      "5-10\n",
      "5-11\n",
      "5-12\n",
      "5-13\n",
      "5-14\n",
      "5-15\n",
      "5-16\n",
      "5-17\n",
      "5-18\n",
      "5-19\n",
      "5-20\n",
      "5-21\n",
      "5-22\n",
      "5-23\n",
      "5-24\n",
      "5-25\n",
      "5-26\n",
      "5-27\n",
      "5-28\n",
      "5-29\n",
      "5-30\n"
     ]
    }
   ],
   "source": [
    "month = 5\n",
    "year = 2010\n",
    "for k in range(0,len(dirs)-1):\n",
    "    for i in days[k]:\n",
    "        j = month\n",
    "        l = j\n",
    "        m = month+0\n",
    "#         if k > 0:\n",
    "#             j = m\n",
    "        if i < days[0,0]:\n",
    "            l = m\n",
    "\n",
    "        dsTflx = xr.open_dataset(op.join(xtra,'%08d-%08d/eNATL60-BLBT02X_1h_%4d%02d%02d_%4d%02d%02d_flxT_%4d%02d%02d-%4d%02d%02d.nc' \n",
    "                                         % (dirs[k],int(dirs[k]+10800*days.shape[0]-1),\n",
    "                                            year,j,days[0,0],year,m,days[-1,-1],\n",
    "                                            year,l,i,year,l,i)),\n",
    "                                 chunks={'time_counter':1}\n",
    "                                )\n",
    "        dsT = xr.open_dataset(op.join(xtra,'%08d-%08d/eNATL60-BLBT02X_1h_%4d%02d%02d_%4d%02d%02d_gridT_%4d%02d%02d-%4d%02d%02d.nc' \n",
    "                                      % (dirs[k],int(dirs[k]+10800*days.shape[0]-1),\n",
    "                                         year,j,days[0,0],year,m,days[-1,-1],\n",
    "                                         year,l,i,year,l,i)),\n",
    "                              chunks={'time_counter':1}\n",
    "                             ).isel(deptht=0)\n",
    "        dsS = xr.open_dataset(op.join(xtra,'%08d-%08d/eNATL60-BLBT02X_1h_%4d%02d%02d_%4d%02d%02d_gridS_%4d%02d%02d-%4d%02d%02d.nc' \n",
    "                                      % (dirs[k],int(dirs[k]+10800*days.shape[0]-1),\n",
    "                                         year,j,days[0,0],year,m,days[-1,-1],\n",
    "                                         year,l,i,year,l,i)),\n",
    "                              chunks={'time_counter':1}\n",
    "                             ).isel(deptht=0)\n",
    "\n",
    "\n",
    "#         if i == days[0,0]:\n",
    "        maskT = dsmask.tmask[0].sel(y=slice(ys,ye),x=slice(xs,xe))\n",
    "\n",
    "        CT = dsT.votemper.sel(y=slice(ys,ye),x=slice(xs,xe)\n",
    "                             ).where(xr.DataArray(maskT.data, dims=['y','x']\n",
    "                                                 ) != 0.)\n",
    "        SA = dsS.vosaline.sel(y=slice(ys,ye),x=slice(xs,xe)\n",
    "                             ).where(xr.DataArray(maskT.data, dims=['y','x']\n",
    "                                                 ) != 0.)\n",
    "        qtot = dsTflx.qt_oce.sel(y=slice(ys,ye),x=slice(xs,xe)\n",
    "                                ).where(xr.DataArray(maskT.data, dims=['y','x']\n",
    "                                                    ) != 0.)\n",
    "        stot = dsTflx.sowaflup.sel(y=slice(ys,ye),x=slice(xs,xe)\n",
    "                                  ).where(xr.DataArray(maskT.data, dims=['y','x']\n",
    "                                                      ) != 0.)\n",
    "        alpha = xr.apply_ufunc(gsw.alpha, SA, CT, 0.,\n",
    "                               dask='parallelized', output_dtypes=['float',])\n",
    "        beta = xr.apply_ufunc(gsw.beta, SA, CT, 0.,\n",
    "                              dask='parallelized', output_dtypes=['float',])\n",
    "        sig0 = xr.apply_ufunc(gsw.sigma0, SA, CT, \n",
    "                              dask='parallelized', output_dtypes=[float,])\n",
    "        Bo = g*(alpha * (-qtot) * ((sig0+1e3)*cp)**-1\n",
    "                + beta * stot * SA\n",
    "               )    # Positive values defined as destablizing conditions\n",
    "        qs = filt(qtot, area=At)\n",
    "        ss = filt(stot, area=At)\n",
    "        Bos = filt(Bo, area=At)\n",
    "\n",
    "#######################\n",
    "        qs_b = ((qs*At).coarsen({'y':5,'x':5}, boundary='trim').sum()\n",
    "                / At.coarsen({'y':5,'x':5}, boundary='trim').sum()\n",
    "               )\n",
    "        ss_b = ((ss*At).coarsen({'y':5,'x':5}, boundary='trim').sum()\n",
    "                / At.coarsen({'y':5,'x':5}, boundary='trim').sum()\n",
    "               )\n",
    "        Bos_b = ((Bos*At).coarsen({'y':5,'x':5}, boundary='trim').sum()\n",
    "                / At.coarsen({'y':5,'x':5}, boundary='trim').sum()\n",
    "               )\n",
    "        Bo_b = ((Bo*At).coarsen({'y':5,'x':5}, boundary='trim').sum()\n",
    "                / At.coarsen({'y':5,'x':5}, boundary='trim').sum()\n",
    "               )\n",
    "\n",
    "    #     del SA, CT\n",
    "\n",
    "#         z10 = 6        \n",
    "#         sig0_b = xr.apply_ufunc(gsw.sigma0, s_b, t_b, \n",
    "#                                 dask='parallelized', output_dtypes=[float,]\n",
    "#                                )\n",
    "#         [rho0_b,alpha0_b,beta0_b] = xr.apply_ufunc(gsw.rho_alpha_beta, s_b, t_b, 0,\n",
    "#                                                    dask='parallelized', output_dtypes=[float])\n",
    "#         b_b = -g*sig0_b*1e-3\n",
    "\n",
    "\n",
    "\n",
    "#         wsbsb_ML = wsbs_b.where(wsbs_b.depthw <= MLD)\n",
    "#####################  \n",
    "        if i == days[0,0]:\n",
    "            qs_bar = qs_b.compute()\n",
    "            ss_bar = ss_b.compute()\n",
    "            Bos_bar = Bos_b.compute()\n",
    "            Bot_bar = Bo_b.compute()\n",
    "            \n",
    "        else:\n",
    "            qs_bar = xr.concat([qs_bar, qs_b.compute()],\n",
    "                                 'time_counter')\n",
    "            ss_bar = xr.concat([ss_bar, ss_b.compute()],\n",
    "                                 'time_counter')\n",
    "            Bos_bar = xr.concat([Bos_bar, Bos_b.compute()],\n",
    "                                'time_counter') \n",
    "            Bot_bar = xr.concat([Bot_bar, Bo_b.compute()],\n",
    "                                'time_counter') \n",
    "\n",
    "        \n",
    "#         client.restart()\n",
    "        print(str(l)+'-'+str(i))\n",
    "    \n",
    "\n",
    "dsave = qs_bar.to_dataset(name='q_ssub')\n",
    "dsave['s_sub'] = ss_bar\n",
    "dsave['Bo_sub'] = Bos_bar\n",
    "dsave['Bo_tot'] = Bot_bar\n",
    "dsave.to_netcdf(op.join(scratch,'GulfStream/SurfFlux_bar_%4d-%02d-%02d_%02d-%02d.nc' \n",
    "                        % (year,j,days[0,0],m,days[-1,-1])))\n",
    "    \n",
    "#     if k < len(dirs)-2:\n",
    "#         del BFK_bar"
   ]
  },
  {
   "cell_type": "code",
   "execution_count": 18,
   "metadata": {
    "collapsed": true,
    "jupyter": {
     "outputs_hidden": true,
     "source_hidden": true
    }
   },
   "outputs": [
    {
     "data": {
      "text/plain": [
       "[<matplotlib.lines.Line2D at 0x2b4b815c8eb8>]"
      ]
     },
     "execution_count": 18,
     "metadata": {},
     "output_type": "execute_result"
    },
    {
     "data": {
      "image/png": "[encoded data removed]",
      "text/plain": [
       "<Figure size 432x288 with 1 Axes>"
      ]
     },
     "metadata": {
      "needs_background": "light"
     },
     "output_type": "display_data"
    }
   ],
   "source": [
    "qtot_bar[:48].mean(['y','x']).plot()"
   ]
  },
  {
   "cell_type": "code",
   "execution_count": 13,
   "metadata": {
    "collapsed": true,
    "jupyter": {
     "outputs_hidden": true,
     "source_hidden": true
    }
   },
   "outputs": [
    {
     "name": "stdout",
     "output_type": "stream",
     "text": [
      "4-11\n",
      "4-12\n",
      "4-13\n",
      "4-14\n",
      "4-15\n",
      "4-16\n",
      "4-17\n",
      "4-18\n",
      "4-19\n",
      "4-20\n",
      "4-21\n",
      "4-22\n",
      "4-23\n",
      "4-24\n",
      "4-25\n",
      "4-26\n",
      "4-27\n",
      "4-28\n",
      "4-29\n",
      "4-30\n",
      "5-1\n",
      "5-2\n",
      "5-3\n",
      "5-4\n",
      "5-5\n"
     ]
    }
   ],
   "source": [
    "month = 4\n",
    "year = 2010\n",
    "for k in range(0,len(dirs)-1):\n",
    "    for i in days[k]:\n",
    "        j = month\n",
    "        l = j\n",
    "        m = month+1\n",
    "#         if k > 0:\n",
    "#             j = m\n",
    "        if i < days[0,0]:\n",
    "            l = m\n",
    "#         dsW = xr.open_dataset(op.join(ddir,'%08d-%08d/eNATL60-BLBT02_1h_2009%2d%02d_2009%2d%02d_gridW_2009%2d%02d-2009%2d%02d.nc' \n",
    "#                                       % (dirs[k],dirs[k+1]-1,j,days[k,0],11,days[k,-1],l,i,l,i)),\n",
    "#                               chunks={'time_counter':1,'depthw':zchunk}\n",
    "#                              ).sel(depthw=slice(None,510))\n",
    "        dsT = xr.open_dataset(op.join(xtra,'%08d-%08d/eNATL60-BLBT02X_1h_%4d%02d%02d_%4d%02d%02d_gridT_%4d%02d%02d-%4d%02d%02d.nc' \n",
    "                                      % (dirs[k],int(dirs[k]+10800*days.shape[0]-1),\n",
    "                                         year,j,days[0,0],year,m,days[-1,-1],\n",
    "                                         year,l,i,year,l,i)),\n",
    "                              chunks={'time_counter':1,'deptht':zchunk}\n",
    "                             ).sel(deptht=slice(None,510))\n",
    "        dsS = xr.open_dataset(op.join(xtra,'%08d-%08d/eNATL60-BLBT02X_1h_%4d%02d%02d_%4d%02d%02d_gridS_%4d%02d%02d-%4d%02d%02d.nc' \n",
    "                                      % (dirs[k],int(dirs[k]+10800*days.shape[0]-1),\n",
    "                                         year,j,days[0,0],year,m,days[-1,-1],\n",
    "                                         year,l,i,year,l,i)),\n",
    "                              chunks={'time_counter':1,'deptht':zchunk}\n",
    "                             ).sel(deptht=slice(None,510))\n",
    "\n",
    "#         if i == days[0,0]:\n",
    "        maskT = dsmask.tmask[0].sel(y=slice(ys,ye),x=slice(xs,xe)\n",
    "                                    ).isel(z=slice(None,len(dsT.deptht)))\n",
    "\n",
    "        CT = dsT.votemper[-1].sel(y=slice(ys,ye),x=slice(xs,xe)\n",
    "                                 ).where(xr.DataArray(maskT.data, dims=['deptht','y','x']\n",
    "                                                 ) != 0.)\n",
    "        SA = dsS.vosaline[-1].sel(y=slice(ys,ye),x=slice(xs,xe)\n",
    "                                 ).where(xr.DataArray(maskT.data, dims=['deptht','y','x']\n",
    "                                                 ) != 0.)\n",
    "\n",
    "#######################\n",
    "        s_b = ((SA*At).coarsen({'y':5,'x':5}, boundary='trim').sum()\n",
    "               / At.coarsen({'y':5,'x':5}, boundary='trim').sum()\n",
    "              )\n",
    "        t_b = ((CT*At).coarsen({'y':5,'x':5}, boundary='trim').sum()\n",
    "               / At.coarsen({'y':5,'x':5}, boundary='trim').sum()\n",
    "              )\n",
    "    #     del SA, CT\n",
    "\n",
    "        z10 = 6\n",
    "        sig0_b = xr.apply_ufunc(gsw.sigma0, s_b, t_b, \n",
    "                                dask='parallelized', output_dtypes=[float,]\n",
    "                               )\n",
    "#         b_b = -g*sig0_b*1e-3\n",
    "\n",
    "        nMLD_b = z10 + np.abs((sig0_b.isel(deptht=slice(z10,None))\n",
    "                               - sig0_b.isel(deptht=z10)\n",
    "                              ) - 0.03).argmin(dim='deptht')\n",
    "        MLD = (xr.ones_like(sig0_b) * sig0_b.deptht\n",
    "              )[{'deptht':nMLD_b.compute()}].compute()\n",
    "        del nMLD_b, sig0_b\n",
    "#         if i == days[0,0]:\n",
    "#             MLD_b = MLD\n",
    "#         else:\n",
    "#             MLD_b = xr.concat([MLD_b, MLD], 'time_counter')\n",
    "\n",
    "\n",
    "#######################    \n",
    "        mu1 = 2*(-t_b.deptht) * MLD**-1 + 1\n",
    "        mu1 = mu1.where(mu1.deptht <= MLD)\n",
    "        mu = ((1.-mu1**2)*(1.+5/21*mu1**2)).chunk({'deptht':1})\n",
    "\n",
    "        dtx = (t_b*e2tb).diff(dim='x', label='upper') * Aub[:,:-1]**-1\n",
    "        dty = (t_b*e1tb).diff(dim='y', label='upper') * Avb[:-1]**-1\n",
    "        dsx = (s_b*e2tb).diff(dim='x', label='upper') * Aub[:,:-1]**-1\n",
    "        dsy = (s_b*e1tb).diff(dim='y', label='upper') * Avb[:-1]**-1\n",
    "\n",
    "        dtx = (dtx.isel(x=slice(1,None))\n",
    "               + dtx.isel(x=slice(None,-1)).data\n",
    "              ) * .5\n",
    "        dty = (dty.isel(y=slice(1,None)) \n",
    "               + dty.isel(y=slice(None,-1)).data\n",
    "              ) * .5\n",
    "        dsx = (dsx.isel(x=slice(1,None))\n",
    "               + dsx.isel(x=slice(None,-1)).data\n",
    "              ) * .5\n",
    "        dsy = (dsy.isel(y=slice(1,None)) \n",
    "               + dsy.isel(y=slice(None,-1)).data\n",
    "              ) * .5\n",
    "        \n",
    "        dtx = (dtx * xr.DataArray(e3t.data[:len(t_b.deptht)],dims=['deptht'])\n",
    "              ).where(dtx.deptht <= MLD.isel(x=slice(1,-1))).sum('deptht') * MLD.isel(x=slice(1,-1))**-1\n",
    "        dty = (dty * xr.DataArray(e3t.data[:len(t_b.deptht)],dims=['deptht'])\n",
    "              ).where(dty.deptht <= MLD.isel(y=slice(1,-1))).sum('deptht') * MLD.isel(y=slice(1,-1))**-1\n",
    "        dsx = (dsx * xr.DataArray(e3t.data[:len(s_b.deptht)],dims=['deptht'])\n",
    "              ).where(dsx.deptht <= MLD.isel(x=slice(1,-1))).sum('deptht') * MLD.isel(x=slice(1,-1))**-1\n",
    "        dsy = (dsy * xr.DataArray(e3t.data[:len(s_b.deptht)],dims=['deptht'])\n",
    "              ).where(dsy.deptht <= MLD.isel(y=slice(1,-1))).sum('deptht') * MLD.isel(y=slice(1,-1))**-1\n",
    "        \n",
    "#         gradT2 = dtx.isel(y=slice(1,-1))**2 + dty.isel(x=slice(1,-1))**2\n",
    "#         gradS2 = dsx.isel(y=slice(1,-1))**2 + dsy.isel(x=slice(1,-1))**2\n",
    "    #     del b_b, dbx, dby\n",
    "\n",
    "        tx2H = (Ce * mu.isel(y=slice(1,-1),x=slice(1,-1))\n",
    "                * (dtx.isel(y=slice(1,-1)) * MLD.isel(y=slice(1,-1),x=slice(1,-1))**2) \n",
    "                * np.abs(fb).isel(y=slice(1,-1),x=slice(1,-1))**-1\n",
    "               )\n",
    "        ty2H = (Ce * mu.isel(y=slice(1,-1),x=slice(1,-1))\n",
    "                * (dty.isel(x=slice(1,-1)) * MLD.isel(y=slice(1,-1),x=slice(1,-1))**2) \n",
    "                * np.abs(fb).isel(y=slice(1,-1),x=slice(1,-1))**-1\n",
    "               )\n",
    "        sx2H = (Ce * mu.isel(y=slice(1,-1),x=slice(1,-1))\n",
    "                * (dsx.isel(y=slice(1,-1)) * MLD.isel(y=slice(1,-1),x=slice(1,-1))**2) \n",
    "                * np.abs(fb).isel(y=slice(1,-1),x=slice(1,-1))**-1\n",
    "               )\n",
    "        sy2H = (Ce * mu.isel(y=slice(1,-1),x=slice(1,-1))\n",
    "                * (dsy.isel(x=slice(1,-1)) * MLD.isel(y=slice(1,-1),x=slice(1,-1))**2) \n",
    "                * np.abs(fb).isel(y=slice(1,-1),x=slice(1,-1))**-1\n",
    "               )\n",
    "\n",
    "#         wsbsb_ML = wsbs_b.where(wsbs_b.depthw <= MLD)\n",
    "#####################  \n",
    "        if i == days[0,0]:\n",
    "            tx_bar = ((tx2H * xr.DataArray(e3t[:len(tx2H.deptht)], dims='deptht',\n",
    "                                           coords={'deptht':tx2H.deptht.data}\n",
    "                                          )\n",
    "                      ).sum('deptht') * MLD.isel(y=slice(1,-1),x=slice(1,-1))**-1\n",
    "                     ).compute()\n",
    "            sx_bar = ((sx2H * xr.DataArray(e3t[:len(sx2H.deptht)], dims='deptht',\n",
    "                                           coords={'deptht':sx2H.deptht.data}\n",
    "                                          )\n",
    "                      ).sum('deptht') * MLD.isel(y=slice(1,-1),x=slice(1,-1))**-1\n",
    "                     ).compute()\n",
    "            ty_bar = ((ty2H * xr.DataArray(e3t[:len(ty2H.deptht)], dims='deptht',\n",
    "                                           coords={'deptht':ty2H.deptht.data}\n",
    "                                          )\n",
    "                      ).sum('deptht') * MLD.isel(y=slice(1,-1),x=slice(1,-1))**-1\n",
    "                     ).compute()\n",
    "            sy_bar = ((sy2H * xr.DataArray(e3t[:len(sy2H.deptht)], dims='deptht',\n",
    "                                           coords={'deptht':sy2H.deptht.data}\n",
    "                                          )\n",
    "                      ).sum('deptht') * MLD.isel(y=slice(1,-1),x=slice(1,-1))**-1\n",
    "                     ).compute()\n",
    "            \n",
    "        else:\n",
    "            tx_bar = xr.concat([tx_bar, ((tx2H * xr.DataArray(e3t[:len(tx2H.deptht)], dims='deptht',\n",
    "                                                              coords={'deptht':tx2H.deptht.data}\n",
    "                                                             )\n",
    "                                         ).sum('deptht') * MLD.isel(y=slice(1,-1),x=slice(1,-1))**-1\n",
    "                                        ).compute()\n",
    "                               ],\n",
    "                               'time_counter')\n",
    "            sx_bar = xr.concat([sx_bar, ((sx2H * xr.DataArray(e3t[:len(sx2H.deptht)], dims='deptht',\n",
    "                                                              coords={'deptht':sx2H.deptht.data}\n",
    "                                                             )\n",
    "                                         ).sum('deptht') * MLD.isel(y=slice(1,-1),x=slice(1,-1))**-1\n",
    "                                        ).compute()\n",
    "                               ],\n",
    "                               'time_counter')\n",
    "            ty_bar = xr.concat([ty_bar, ((ty2H * xr.DataArray(e3t[:len(ty2H.deptht)], dims='deptht',\n",
    "                                                              coords={'deptht':ty2H.deptht.data}\n",
    "                                                             )\n",
    "                                         ).sum('deptht') * MLD.isel(y=slice(1,-1),x=slice(1,-1))**-1\n",
    "                                        ).compute()\n",
    "                               ],\n",
    "                               'time_counter')\n",
    "            sy_bar = xr.concat([sy_bar, ((sy2H * xr.DataArray(e3t[:len(sy2H.deptht)], dims='deptht',\n",
    "                                                              coords={'deptht':sy2H.deptht.data}\n",
    "                                                             )\n",
    "                                         ).sum('deptht') * MLD.isel(y=slice(1,-1),x=slice(1,-1))**-1\n",
    "                                        ).compute()\n",
    "                               ],\n",
    "                               'time_counter')\n",
    "\n",
    "        del MLD, tx2H, sx2H, ty2H, sy2H\n",
    "        \n",
    "#         client.restart()\n",
    "        print(str(l)+'-'+str(i))\n",
    "    \n",
    "\n",
    "tx_bar.to_netcdf(op.join(scratch,'GulfStream/tx_bar-24h_%4d-%02d-%02d_%02d-%02d.nc' \n",
    "                         % (year,j,days[0,0],m,days[-1,-1])))\n",
    "ty_bar.to_netcdf(op.join(scratch,'GulfStream/ty_bar-24h_%4d-%02d-%02d_%02d-%02d.nc' \n",
    "                         % (year,j,days[0,0],m,days[-1,-1])))\n",
    "sx_bar.to_netcdf(op.join(scratch,'GulfStream/sx_bar-24h_%4d-%02d-%02d_%02d-%02d.nc' \n",
    "                         % (year,j,days[0,0],m,days[-1,-1])))\n",
    "sy_bar.to_netcdf(op.join(scratch,'GulfStream/sy_bar-24h_%4d-%02d-%02d_%02d-%02d.nc' \n",
    "                         % (year,j,days[0,0],m,days[-1,-1])))\n",
    "    \n",
    "#     if k < len(dirs)-2:\n",
    "#         del BFK_bar"
   ]
  },
  {
   "cell_type": "code",
   "execution_count": null,
   "metadata": {},
   "outputs": [
    {
     "name": "stderr",
     "output_type": "stream",
     "text": [
      "Future exception was never retrieved\n",
      "future: <Future finished exception=KeyError(\"('open_dataset-8c8011d877bb9158a68f73e18ee7160ftime_centered-69fb9fe9e165d798f6407f2823effca1', 0)\")>\n",
      "Traceback (most recent call last):\n",
      "  File \"/scratch/cnt0024/hmg2840/tuchida/condapack/lib/python3.7/site-packages/distributed/client.py\", line 1711, in _gather\n",
      "    quiet_exceptions=AllExit,\n",
      "  File \"/scratch/cnt0024/hmg2840/tuchida/condapack/lib/python3.7/site-packages/distributed/utils.py\", line 224, in All\n",
      "    result = await tasks.next()\n",
      "  File \"/scratch/cnt0024/hmg2840/tuchida/condapack/lib/python3.7/site-packages/distributed/client.py\", line 1700, in wait\n",
      "    st = self.futures[k]\n",
      "KeyError: \"('mean_agg-aggregate-f137fcf5009adfa225ec68d5d477e33a', 0, 0)\"\n",
      "\n",
      "During handling of the above exception, another exception occurred:\n",
      "\n",
      "Traceback (most recent call last):\n",
      "  File \"/scratch/cnt0024/hmg2840/tuchida/condapack/lib/python3.7/site-packages/tornado/gen.py\", line 742, in run\n",
      "    yielded = self.gen.throw(*exc_info)  # type: ignore\n",
      "  File \"/scratch/cnt0024/hmg2840/tuchida/condapack/lib/python3.7/site-packages/distributed/utils.py\", line 237, in quiet\n",
      "    yield task\n",
      "  File \"/scratch/cnt0024/hmg2840/tuchida/condapack/lib/python3.7/site-packages/tornado/gen.py\", line 735, in run\n",
      "    value = future.result()\n",
      "  File \"/scratch/cnt0024/hmg2840/tuchida/condapack/lib/python3.7/site-packages/distributed/client.py\", line 1700, in wait\n",
      "    st = self.futures[k]\n",
      "KeyError: \"('open_dataset-8c8011d877bb9158a68f73e18ee7160ftime_centered-69fb9fe9e165d798f6407f2823effca1', 0)\"\n",
      "distributed.nanny - WARNING - Restarting worker\n",
      "distributed.nanny - WARNING - Restarting worker\n",
      "distributed.nanny - WARNING - Restarting worker\n",
      "distributed.nanny - WARNING - Restarting worker\n",
      "distributed.nanny - WARNING - Restarting worker\n",
      "distributed.nanny - WARNING - Restarting worker\n",
      "distributed.nanny - WARNING - Restarting worker\n",
      "distributed.nanny - WARNING - Restarting worker\n"
     ]
    }
   ],
   "source": [
    "fig, (ax1,ax2) = plt.subplots(nrows=1, ncols=2, figsize=(20,7))\n",
    "fig.set_tight_layout(True)\n",
    "wsbsb_bar[0].plot(ax=ax1, vmin=-1e-7, vmax=1e-7, cmap='RdBu_r')\n",
    "(BFK_bar[0]*.1).plot(ax=ax2, vmin=0, vmax=1e-7, cmap='Reds')"
   ]
  },
  {
   "cell_type": "code",
   "execution_count": null,
   "metadata": {},
   "outputs": [],
   "source": [
    "MLD_b.mean('time_counter').plot(vmax=1.4e2, vmin=20, cmap='Blues')"
   ]
  },
  {
   "cell_type": "code",
   "execution_count": null,
   "metadata": {},
   "outputs": [],
   "source": [
    "wsbsb_ML.chunk({'depthw':-1}).mean(['time_counter','depthw']).plot(figsize=(8,5), cmap='RdBu_r', vmin=-1e-7, vmax=1e-7)"
   ]
  },
  {
   "cell_type": "code",
   "execution_count": null,
   "metadata": {},
   "outputs": [],
   "source": [
    "fig, ax = plt.subplots(figsize=(14,4))\n",
    "wsbs_bar.plot(ax=ax, c='r', lw=3)\n",
    "gradbb2H_bar.plot(ax=ax, c='k', ls='--', lw=2)"
   ]
  },
  {
   "cell_type": "code",
   "execution_count": null,
   "metadata": {},
   "outputs": [],
   "source": [
    "gradbb2H.name = 'BFK'\n",
    "wsbsb_ML.name = 'wsbs'\n",
    "from matplotlib.gridspec import GridSpec\n",
    "\n",
    "fig = plt.figure(figsize=(20,5))\n",
    "# fig.set_tight_layout(True)\n",
    "gs = GridSpec(1,5,figure=fig)\n",
    "ax1 = fig.add_subplot(gs[0,:2])\n",
    "ax2 = fig.add_subplot(gs[0,2:4])\n",
    "ax3 = fig.add_subplot(gs[0,4])\n",
    "wsbsb_ML[0,14,1:-1,1:-1].plot(ax=ax1, vmax=5e-8, cmap='coolwarm', rasterized=True)\n",
    "(1e2*gradbb2H[15,0]).plot(ax=ax2, vmin=0., vmax=5e-8, cmap='Reds', rasterized=True)\n",
    "xhist(1e2*gradbb2H[1:].transpose('time_counter','deptht','y','x').chunk({'time_counter':1}), \n",
    "      wsbsb_ML[:,:,1:-1,1:-1].chunk({'time_counter':1}),\n",
    "      bins=[np.logspace(-11,-6,30), np.logspace(-11,-6,30)]).plot(ax=ax3, cmap='Blues')\n",
    "ax3.plot(np.linspace(1e-11,1e-6), np.linspace(1e-11,1e-6), c='grey', ls='--')\n",
    "ax3.set_xscale('log')\n",
    "ax3.set_yscale('log')\n",
    "ax3.set_ylim([1e-11,1e-6])\n",
    "ax3.set_xlim([1e-11,1e-6])\n",
    "ax3.set_xlabel(r\"$\\overline{w'b'}^{xy}$ [m$^2$ s$^{-3}$]\", fontsize=14)\n",
    "ax3.set_ylabel(r\"$\\frac{H_{\\tt ML}^2|\\nabla_{\\tt H}\\overline{b}^{xyz}|^2}{f}$ [m$^2$ s$^{-3}$]\", \n",
    "               fontsize=14)\n",
    "ax1.set_title(r\"$\\overline{w'b'}^{xy}$ [m$^2$ s$^{-3}$]\", fontsize=15)\n",
    "ax2.set_title(r\"$H_{\\tt ML}^2|\\nabla_{\\tt H}\\overline{b}^{xyz}|^2 / f$ [m$^2$ s$^{-3}$]\", \n",
    "             fontsize=15)\n",
    "fig.suptitle(r\"Nov. 2, 2009\", fontsize=17, y=1.02)\n",
    "# plt.savefig('/scratch/cnt0024/hmg2840/tuchida/Figs/Nov-2-2009_GulfStreamPatch.pdf')"
   ]
  },
  {
   "cell_type": "code",
   "execution_count": null,
   "metadata": {},
   "outputs": [],
   "source": []
  }
 ],
 "metadata": {
  "kernelspec": {
   "display_name": "Python 3",
   "language": "python",
   "name": "python3"
  },
  "language_info": {
   "codemirror_mode": {
    "name": "ipython",
    "version": 3
   },
   "file_extension": ".py",
   "mimetype": "text/x-python",
   "name": "python",
   "nbconvert_exporter": "python",
   "pygments_lexer": "ipython3",
   "version": "3.7.3"
  }
 },
 "nbformat": 4,
 "nbformat_minor": 4
}
