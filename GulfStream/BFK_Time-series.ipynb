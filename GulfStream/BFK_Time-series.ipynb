{
 "cells": [
  {
   "cell_type": "code",
   "execution_count": 1,
   "metadata": {},
   "outputs": [
    {
     "name": "stderr",
     "output_type": "stream",
     "text": [
      "/scratch/cnt0024/hmg2840/tuchida/condapack/lib/python3.7/site-packages/distributed/dashboard/core.py:72: UserWarning: \n",
      "Failed to start diagnostics server on port 8787. [Errno 13] Permission denied\n",
      "  warnings.warn(\"\\n\" + msg)\n"
     ]
    },
    {
     "data": {
      "text/html": [
       "<table style=\"border: 2px solid white;\">\n",
       "<tr>\n",
       "<td style=\"vertical-align: top; border: 0px solid white\">\n",
       "<h3 style=\"text-align: left;\">Client</h3>\n",
       "<ul style=\"text-align: left; list-style: none; margin: 0; padding: 0;\">\n",
       "  <li><b>Scheduler: </b>tcp://127.0.0.1:37774</li>\n",
       "  <li><b>Dashboard: </b><a href='http://127.0.0.1:43286/status' target='_blank'>http://127.0.0.1:43286/status</a>\n",
       "</ul>\n",
       "</td>\n",
       "<td style=\"vertical-align: top; border: 0px solid white\">\n",
       "<h3 style=\"text-align: left;\">Cluster</h3>\n",
       "<ul style=\"text-align: left; list-style:none; margin: 0; padding: 0;\">\n",
       "  <li><b>Workers: </b>8</li>\n",
       "  <li><b>Cores: </b>56</li>\n",
       "  <li><b>Memory: </b>270.19 GB</li>\n",
       "</ul>\n",
       "</td>\n",
       "</tr>\n",
       "</table>"
      ],
      "text/plain": [
       "<Client: 'tcp://127.0.0.1:37774' processes=8 threads=56, memory=270.19 GB>"
      ]
     },
     "execution_count": 1,
     "metadata": {},
     "output_type": "execute_result"
    }
   ],
   "source": [
    "from dask.distributed import Client, LocalCluster\n",
    "# from dask_jobqueue import SLURMCluster\n",
    "\n",
    "# # cluster = LocalCluster()\n",
    "# cluster = SLURMCluster(cores=24, name='test', walltime='00:30:00',\n",
    "#                        job_extra=['--constraint=HSW24','--exclusive','--nodes=1'], \n",
    "#                        memory='118GB', interface='ib0'\n",
    "#                       ) \n",
    "# cluster.scale(120)\n",
    "# # # cluster.adapt(minimum=1, maximum=48)\n",
    "\n",
    "# client = Client(cluster)\n",
    "client = Client()\n",
    "client"
   ]
  },
  {
   "cell_type": "code",
   "execution_count": 2,
   "metadata": {},
   "outputs": [
    {
     "name": "stdout",
     "output_type": "stream",
     "text": [
      "             JOBID PARTITION     NAME     USER ST       TIME  NODES NODELIST(REASON)\n",
      "          10550126      visu      viz  tuchida  R       3:13      1 n4366\n",
      "8\n"
     ]
    }
   ],
   "source": [
    "!squeue -u tuchida\n",
    "\n",
    "import time\n",
    "nb_workers = 0\n",
    "while True:\n",
    "    nb_workers = len(client.scheduler_info()[\"workers\"])\n",
    "    if nb_workers >= 2:\n",
    "        break\n",
    "    time.sleep(1)\n",
    "print(nb_workers)"
   ]
  },
  {
   "cell_type": "code",
   "execution_count": 3,
   "metadata": {},
   "outputs": [],
   "source": [
    "import xarray as xr\n",
    "import numpy as np\n",
    "import xscale\n",
    "import gsw\n",
    "import os.path as op\n",
    "from xhistogram.xarray import histogram as xhist\n",
    "\n",
    "from matplotlib.gridspec import GridSpec\n",
    "import matplotlib.pyplot as plt\n",
    "%matplotlib inline"
   ]
  },
  {
   "cell_type": "code",
   "execution_count": 4,
   "metadata": {},
   "outputs": [],
   "source": [
    "ddir = '/store/CT1/hmg2840/lbrodeau/eNATL60/eNATL60-BLBT02-S/'\n",
    "xtra = '/store/CT1/hmg2840/lbrodeau/eNATL60/eNATL60-BLBT02X-S'\n",
    "scratch = '/scratch/cnt0024/hmg2840/tuchida/temp'"
   ]
  },
  {
   "cell_type": "code",
   "execution_count": 5,
   "metadata": {},
   "outputs": [
    {
     "data": {
      "text/html": [
       "<pre>&lt;xarray.Dataset&gt;\n",
       "Dimensions:       (x: 8354, y: 4729, z: 300)\n",
       "Dimensions without coordinates: x, y, z\n",
       "Data variables:\n",
       "    nav_lon       (y, x) float32 dask.array&lt;chunksize=(4729, 8354), meta=np.ndarray&gt;\n",
       "    nav_lat       (y, x) float32 dask.array&lt;chunksize=(4729, 8354), meta=np.ndarray&gt;\n",
       "    nav_lev       (z) float32 dask.array&lt;chunksize=(15,), meta=np.ndarray&gt;\n",
       "    time_counter  float64 dask.array&lt;chunksize=(), meta=np.ndarray&gt;\n",
       "    tmask         (z, y, x) int8 dask.array&lt;chunksize=(15, 4729, 8354), meta=np.ndarray&gt;\n",
       "    umask         (z, y, x) int8 dask.array&lt;chunksize=(15, 4729, 8354), meta=np.ndarray&gt;\n",
       "    vmask         (z, y, x) int8 dask.array&lt;chunksize=(15, 4729, 8354), meta=np.ndarray&gt;\n",
       "    fmask         (z, y, x) int8 dask.array&lt;chunksize=(15, 4729, 8354), meta=np.ndarray&gt;\n",
       "    tmaskutil     (y, x) int8 dask.array&lt;chunksize=(4729, 8354), meta=np.ndarray&gt;\n",
       "    umaskutil     (y, x) int8 dask.array&lt;chunksize=(4729, 8354), meta=np.ndarray&gt;\n",
       "    vmaskutil     (y, x) int8 dask.array&lt;chunksize=(4729, 8354), meta=np.ndarray&gt;\n",
       "    fmaskutil     (y, x) int8 dask.array&lt;chunksize=(4729, 8354), meta=np.ndarray&gt;\n",
       "    glamt         (y, x) float32 dask.array&lt;chunksize=(4729, 8354), meta=np.ndarray&gt;\n",
       "    glamu         (y, x) float32 dask.array&lt;chunksize=(4729, 8354), meta=np.ndarray&gt;\n",
       "    glamv         (y, x) float32 dask.array&lt;chunksize=(4729, 8354), meta=np.ndarray&gt;\n",
       "    glamf         (y, x) float32 dask.array&lt;chunksize=(4729, 8354), meta=np.ndarray&gt;\n",
       "    gphit         (y, x) float32 dask.array&lt;chunksize=(4729, 8354), meta=np.ndarray&gt;\n",
       "    gphiu         (y, x) float32 dask.array&lt;chunksize=(4729, 8354), meta=np.ndarray&gt;\n",
       "    gphiv         (y, x) float32 dask.array&lt;chunksize=(4729, 8354), meta=np.ndarray&gt;\n",
       "    gphif         (y, x) float32 dask.array&lt;chunksize=(4729, 8354), meta=np.ndarray&gt;\n",
       "    e1t           (y, x) float64 dask.array&lt;chunksize=(4729, 8354), meta=np.ndarray&gt;\n",
       "    e1u           (y, x) float64 dask.array&lt;chunksize=(4729, 8354), meta=np.ndarray&gt;\n",
       "    e1v           (y, x) float64 dask.array&lt;chunksize=(4729, 8354), meta=np.ndarray&gt;\n",
       "    e1f           (y, x) float64 dask.array&lt;chunksize=(4729, 8354), meta=np.ndarray&gt;\n",
       "    e2t           (y, x) float64 dask.array&lt;chunksize=(4729, 8354), meta=np.ndarray&gt;\n",
       "    e2u           (y, x) float64 dask.array&lt;chunksize=(4729, 8354), meta=np.ndarray&gt;\n",
       "    e2v           (y, x) float64 dask.array&lt;chunksize=(4729, 8354), meta=np.ndarray&gt;\n",
       "    e2f           (y, x) float64 dask.array&lt;chunksize=(4729, 8354), meta=np.ndarray&gt;\n",
       "    ff            (y, x) float64 dask.array&lt;chunksize=(4729, 8354), meta=np.ndarray&gt;\n",
       "    mbathy        (y, x) int16 dask.array&lt;chunksize=(4729, 8354), meta=np.ndarray&gt;\n",
       "    misf          (y, x) int16 dask.array&lt;chunksize=(4729, 8354), meta=np.ndarray&gt;\n",
       "    isfdraft      (y, x) float32 dask.array&lt;chunksize=(4729, 8354), meta=np.ndarray&gt;\n",
       "    e3t_0         (z, y, x) float64 dask.array&lt;chunksize=(15, 4729, 8354), meta=np.ndarray&gt;\n",
       "    e3u_0         (z, y, x) float64 dask.array&lt;chunksize=(15, 4729, 8354), meta=np.ndarray&gt;\n",
       "    e3v_0         (z, y, x) float64 dask.array&lt;chunksize=(15, 4729, 8354), meta=np.ndarray&gt;\n",
       "    e3w_0         (z, y, x) float64 dask.array&lt;chunksize=(15, 4729, 8354), meta=np.ndarray&gt;\n",
       "    gdept_0       (z, y, x) float32 dask.array&lt;chunksize=(15, 4729, 8354), meta=np.ndarray&gt;\n",
       "    gdepu         (z, y, x) float32 dask.array&lt;chunksize=(15, 4729, 8354), meta=np.ndarray&gt;\n",
       "    gdepv         (z, y, x) float32 dask.array&lt;chunksize=(15, 4729, 8354), meta=np.ndarray&gt;\n",
       "    gdepw_0       (z, y, x) float32 dask.array&lt;chunksize=(15, 4729, 8354), meta=np.ndarray&gt;\n",
       "    gdept_1d      (z) float64 dask.array&lt;chunksize=(15,), meta=np.ndarray&gt;\n",
       "    gdepw_1d      (z) float64 dask.array&lt;chunksize=(15,), meta=np.ndarray&gt;\n",
       "    e3t_1d        (z) float64 dask.array&lt;chunksize=(15,), meta=np.ndarray&gt;\n",
       "    e3w_1d        (z) float64 dask.array&lt;chunksize=(15,), meta=np.ndarray&gt;\n",
       "Attributes:\n",
       "    file_name:  mesh_mask.nc\n",
       "    TimeStamp:  13/07/2018 22:32:53 +0200</pre>"
      ],
      "text/plain": [
       "<xarray.Dataset>\n",
       "Dimensions:       (x: 8354, y: 4729, z: 300)\n",
       "Dimensions without coordinates: x, y, z\n",
       "Data variables:\n",
       "    nav_lon       (y, x) float32 dask.array<chunksize=(4729, 8354), meta=np.ndarray>\n",
       "    nav_lat       (y, x) float32 dask.array<chunksize=(4729, 8354), meta=np.ndarray>\n",
       "    nav_lev       (z) float32 dask.array<chunksize=(15,), meta=np.ndarray>\n",
       "    time_counter  float64 dask.array<chunksize=(), meta=np.ndarray>\n",
       "    tmask         (z, y, x) int8 dask.array<chunksize=(15, 4729, 8354), meta=np.ndarray>\n",
       "    umask         (z, y, x) int8 dask.array<chunksize=(15, 4729, 8354), meta=np.ndarray>\n",
       "    vmask         (z, y, x) int8 dask.array<chunksize=(15, 4729, 8354), meta=np.ndarray>\n",
       "    fmask         (z, y, x) int8 dask.array<chunksize=(15, 4729, 8354), meta=np.ndarray>\n",
       "    tmaskutil     (y, x) int8 dask.array<chunksize=(4729, 8354), meta=np.ndarray>\n",
       "    umaskutil     (y, x) int8 dask.array<chunksize=(4729, 8354), meta=np.ndarray>\n",
       "    vmaskutil     (y, x) int8 dask.array<chunksize=(4729, 8354), meta=np.ndarray>\n",
       "    fmaskutil     (y, x) int8 dask.array<chunksize=(4729, 8354), meta=np.ndarray>\n",
       "    glamt         (y, x) float32 dask.array<chunksize=(4729, 8354), meta=np.ndarray>\n",
       "    glamu         (y, x) float32 dask.array<chunksize=(4729, 8354), meta=np.ndarray>\n",
       "    glamv         (y, x) float32 dask.array<chunksize=(4729, 8354), meta=np.ndarray>\n",
       "    glamf         (y, x) float32 dask.array<chunksize=(4729, 8354), meta=np.ndarray>\n",
       "    gphit         (y, x) float32 dask.array<chunksize=(4729, 8354), meta=np.ndarray>\n",
       "    gphiu         (y, x) float32 dask.array<chunksize=(4729, 8354), meta=np.ndarray>\n",
       "    gphiv         (y, x) float32 dask.array<chunksize=(4729, 8354), meta=np.ndarray>\n",
       "    gphif         (y, x) float32 dask.array<chunksize=(4729, 8354), meta=np.ndarray>\n",
       "    e1t           (y, x) float64 dask.array<chunksize=(4729, 8354), meta=np.ndarray>\n",
       "    e1u           (y, x) float64 dask.array<chunksize=(4729, 8354), meta=np.ndarray>\n",
       "    e1v           (y, x) float64 dask.array<chunksize=(4729, 8354), meta=np.ndarray>\n",
       "    e1f           (y, x) float64 dask.array<chunksize=(4729, 8354), meta=np.ndarray>\n",
       "    e2t           (y, x) float64 dask.array<chunksize=(4729, 8354), meta=np.ndarray>\n",
       "    e2u           (y, x) float64 dask.array<chunksize=(4729, 8354), meta=np.ndarray>\n",
       "    e2v           (y, x) float64 dask.array<chunksize=(4729, 8354), meta=np.ndarray>\n",
       "    e2f           (y, x) float64 dask.array<chunksize=(4729, 8354), meta=np.ndarray>\n",
       "    ff            (y, x) float64 dask.array<chunksize=(4729, 8354), meta=np.ndarray>\n",
       "    mbathy        (y, x) int16 dask.array<chunksize=(4729, 8354), meta=np.ndarray>\n",
       "    misf          (y, x) int16 dask.array<chunksize=(4729, 8354), meta=np.ndarray>\n",
       "    isfdraft      (y, x) float32 dask.array<chunksize=(4729, 8354), meta=np.ndarray>\n",
       "    e3t_0         (z, y, x) float64 dask.array<chunksize=(15, 4729, 8354), meta=np.ndarray>\n",
       "    e3u_0         (z, y, x) float64 dask.array<chunksize=(15, 4729, 8354), meta=np.ndarray>\n",
       "    e3v_0         (z, y, x) float64 dask.array<chunksize=(15, 4729, 8354), meta=np.ndarray>\n",
       "    e3w_0         (z, y, x) float64 dask.array<chunksize=(15, 4729, 8354), meta=np.ndarray>\n",
       "    gdept_0       (z, y, x) float32 dask.array<chunksize=(15, 4729, 8354), meta=np.ndarray>\n",
       "    gdepu         (z, y, x) float32 dask.array<chunksize=(15, 4729, 8354), meta=np.ndarray>\n",
       "    gdepv         (z, y, x) float32 dask.array<chunksize=(15, 4729, 8354), meta=np.ndarray>\n",
       "    gdepw_0       (z, y, x) float32 dask.array<chunksize=(15, 4729, 8354), meta=np.ndarray>\n",
       "    gdept_1d      (z) float64 dask.array<chunksize=(15,), meta=np.ndarray>\n",
       "    gdepw_1d      (z) float64 dask.array<chunksize=(15,), meta=np.ndarray>\n",
       "    e3t_1d        (z) float64 dask.array<chunksize=(15,), meta=np.ndarray>\n",
       "    e3w_1d        (z) float64 dask.array<chunksize=(15,), meta=np.ndarray>\n",
       "Attributes:\n",
       "    file_name:  mesh_mask.nc\n",
       "    TimeStamp:  13/07/2018 22:32:53 +0200"
      ]
     },
     "execution_count": 5,
     "metadata": {},
     "output_type": "execute_result"
    }
   ],
   "source": [
    "g = 9.81\n",
    "Ce = 0.01\n",
    "rho0 = 999.8\n",
    "ys,ye = (2000-1,2500+1)\n",
    "xs,xe = (2300-1,3100+1)\n",
    "ncoars = 5\n",
    "zchunk = 15\n",
    "\n",
    "dsmask = xr.open_dataset(op.join(ddir,'../eNATL60-I/mesh_mask_eNATL60_3.6.nc'), \n",
    "                         chunks={'z':zchunk}).isel(t=0)\n",
    "dsmask"
   ]
  },
  {
   "cell_type": "code",
   "execution_count": 6,
   "metadata": {},
   "outputs": [],
   "source": [
    "At = (dsmask.e1t * dsmask.e2t).sel(y=slice(ys,ye),x=slice(xs,xe))\n",
    "Au = (dsmask.e1u * dsmask.e2u).sel(y=slice(ys,ye),x=slice(xs,xe))\n",
    "Av = (dsmask.e1v * dsmask.e2v).sel(y=slice(ys,ye),x=slice(xs,xe))\n",
    "e1u = dsmask.e1u.sel(y=slice(ys,ye),x=slice(xs,xe))\n",
    "# e2u = dsmask.e2u[0].sel(y=slice(ys,ye),x=slice(xs,xe))\n",
    "# e1v = dsmask.e1v[0].sel(y=slice(ys,ye),x=slice(xs,xe))\n",
    "e2v = dsmask.e2v.sel(y=slice(ys,ye),x=slice(xs,xe))\n",
    "e2t = dsmask.e2t.sel(y=slice(ys,ye),x=slice(xs,xe))\n",
    "e1t = dsmask.e1t.sel(y=slice(ys,ye),x=slice(xs,xe))\n",
    "gdepw = xr.open_dataset(op.join(scratch,'gdepw_eNATL60.nc')\n",
    "                       ).gdepw.sel(y=slice(ys,ye),x=slice(xs,xe))\n",
    "# e3t = dsmask.e3t_1d[0]\n",
    "# e3w = dsmask.e3w_1d[0]"
   ]
  },
  {
   "cell_type": "code",
   "execution_count": 7,
   "metadata": {},
   "outputs": [],
   "source": [
    "cori = gsw.f(dsmask.nav_lat.sel(y=slice(ys,ye),x=slice(xs,xe)))\n",
    "fb = xr.apply_ufunc(gsw.f,(dsmask.nav_lat.sel(y=slice(ys,ye),x=slice(xs,xe))*At).coarsen({'y':5,'x':5}, boundary='trim').sum()\n",
    "                           / At.coarsen({'y':ncoars,'x':ncoars}, boundary='trim').sum(),\n",
    "                    dask='parallelized', output_dtypes=[float,]\n",
    "                   )\n",
    "e1tb = e1t.coarsen({'y':ncoars,'x':ncoars},boundary='trim').sum()\n",
    "e2tb = e2t.coarsen({'y':ncoars,'x':ncoars},boundary='trim').sum()\n",
    "e1ub = e1u.coarsen({'y':ncoars,'x':ncoars},boundary='trim').sum()\n",
    "e2vb = e2v.coarsen({'y':ncoars,'x':ncoars},boundary='trim').sum()\n",
    "Aub = Au.coarsen({'y':ncoars,'x':ncoars}, boundary='trim').sum()\n",
    "Avb = Av.coarsen({'y':ncoars,'x':ncoars}, boundary='trim').sum()\n",
    "# Atb = At.coarsen({'y':5,'x':5}, boundary='trim').sum()"
   ]
  },
  {
   "cell_type": "code",
   "execution_count": 8,
   "metadata": {},
   "outputs": [],
   "source": [
    "def filt(da, area=None):\n",
    "    \n",
    "    if area is not None:\n",
    "        win_2D = (da * area).window\n",
    "    else:\n",
    "        win_2D = da.window\n",
    "    \n",
    "    win_2D.set(window='hanning', cutoff=20, dim=['y','x'], n=[30,30])\n",
    "    bw = win_2D.boundary_weights(drop_dims=[])\n",
    "    da_LS = win_2D.convolve(weights=bw)\n",
    "    \n",
    "    if area is not None:\n",
    "        area_win = area.window\n",
    "        area_win.set(window='hanning', cutoff=20, dim=['y','x'], n=[30,30])\n",
    "        bw = area_win.boundary_weights(drop_dims=[])\n",
    "        da_LS *= area_win.convolve(weights=bw)**-1\n",
    "    \n",
    "    return da_LS"
   ]
  },
  {
   "cell_type": "code",
   "execution_count": 8,
   "metadata": {
    "collapsed": true,
    "jupyter": {
     "outputs_hidden": true,
     "source_hidden": true
    }
   },
   "outputs": [
    {
     "data": {
      "text/plain": [
       "158.024264"
      ]
     },
     "execution_count": 8,
     "metadata": {},
     "output_type": "execute_result"
    }
   ],
   "source": [
    "xr.open_dataset(op.join(ddir,'00658801-00669600/eNATL60-BLBT02_1h_20091102_20091106_gridW_20091102-20091102.nc'),\n",
    "               chunks=({'time_counter':1,'depthw':1})).sel(depthw=slice(None,510)).vovecrtz[0,0].data.nbytes*1e-6"
   ]
  },
  {
   "cell_type": "code",
   "execution_count": 9,
   "metadata": {
    "collapsed": true,
    "jupyter": {
     "outputs_hidden": true,
     "source_hidden": true
    }
   },
   "outputs": [
    {
     "data": {
      "text/html": [
       "<pre>&lt;xarray.Dataset&gt;\n",
       "Dimensions:               (axis_nbounds: 2, depthw: 74, time_counter: 120, x: 8354, y: 4729)\n",
       "Coordinates:\n",
       "    nav_lat               (y, x) float32 dask.array&lt;chunksize=(4729, 8354), meta=np.ndarray&gt;\n",
       "    nav_lon               (y, x) float32 dask.array&lt;chunksize=(4729, 8354), meta=np.ndarray&gt;\n",
       "  * depthw                (depthw) float32 0.0 1.0000261 ... 487.90018 500.50638\n",
       "    time_centered         (time_counter) datetime64[ns] dask.array&lt;chunksize=(1,), meta=np.ndarray&gt;\n",
       "  * time_counter          (time_counter) datetime64[ns] 2009-11-02T00:30:00 ... 2009-11-06T23:30:00\n",
       "Dimensions without coordinates: axis_nbounds, x, y\n",
       "Data variables:\n",
       "    depthw_bounds         (time_counter, depthw, axis_nbounds) float32 dask.array&lt;chunksize=(24, 1, 2), meta=np.ndarray&gt;\n",
       "    time_centered_bounds  (time_counter, axis_nbounds) datetime64[ns] dask.array&lt;chunksize=(1, 2), meta=np.ndarray&gt;\n",
       "    time_counter_bounds   (time_counter, axis_nbounds) datetime64[ns] dask.array&lt;chunksize=(1, 2), meta=np.ndarray&gt;\n",
       "    vovecrtz              (time_counter, depthw, y, x) float32 dask.array&lt;chunksize=(1, 1, 4729, 8354), meta=np.ndarray&gt;\n",
       "Attributes:\n",
       "    name:         /scratch/tmp/5091688/eNATL60-BLBT02_1h_20091102_20091106_gridW\n",
       "    description:  ocean W grid variables\n",
       "    title:        ocean W grid variables\n",
       "    Conventions:  CF-1.6\n",
       "    timeStamp:    2019-Mar-09 11:57:06 GMT\n",
       "    uuid:         b541dd09-f592-4c7f-a4fa-0e01f9b6bcfa\n",
       "    ibegin:       0\n",
       "    ni:           8354\n",
       "    jbegin:       0\n",
       "    nj:           10\n",
       "    file_name:    eNATL60-BLBT02_1h_20091102_20091106_gridW_20091102-20091102.nc\n",
       "    TimeStamp:    10/03/2019 00:59:17 +0100</pre>"
      ],
      "text/plain": [
       "<xarray.Dataset>\n",
       "Dimensions:               (axis_nbounds: 2, depthw: 74, time_counter: 120, x: 8354, y: 4729)\n",
       "Coordinates:\n",
       "    nav_lat               (y, x) float32 dask.array<chunksize=(4729, 8354), meta=np.ndarray>\n",
       "    nav_lon               (y, x) float32 dask.array<chunksize=(4729, 8354), meta=np.ndarray>\n",
       "  * depthw                (depthw) float32 0.0 1.0000261 ... 487.90018 500.50638\n",
       "    time_centered         (time_counter) datetime64[ns] dask.array<chunksize=(1,), meta=np.ndarray>\n",
       "  * time_counter          (time_counter) datetime64[ns] 2009-11-02T00:30:00 ... 2009-11-06T23:30:00\n",
       "Dimensions without coordinates: axis_nbounds, x, y\n",
       "Data variables:\n",
       "    depthw_bounds         (time_counter, depthw, axis_nbounds) float32 dask.array<chunksize=(24, 1, 2), meta=np.ndarray>\n",
       "    time_centered_bounds  (time_counter, axis_nbounds) datetime64[ns] dask.array<chunksize=(1, 2), meta=np.ndarray>\n",
       "    time_counter_bounds   (time_counter, axis_nbounds) datetime64[ns] dask.array<chunksize=(1, 2), meta=np.ndarray>\n",
       "    vovecrtz              (time_counter, depthw, y, x) float32 dask.array<chunksize=(1, 1, 4729, 8354), meta=np.ndarray>\n",
       "Attributes:\n",
       "    name:         /scratch/tmp/5091688/eNATL60-BLBT02_1h_20091102_20091106_gridW\n",
       "    description:  ocean W grid variables\n",
       "    title:        ocean W grid variables\n",
       "    Conventions:  CF-1.6\n",
       "    timeStamp:    2019-Mar-09 11:57:06 GMT\n",
       "    uuid:         b541dd09-f592-4c7f-a4fa-0e01f9b6bcfa\n",
       "    ibegin:       0\n",
       "    ni:           8354\n",
       "    jbegin:       0\n",
       "    nj:           10\n",
       "    file_name:    eNATL60-BLBT02_1h_20091102_20091106_gridW_20091102-20091102.nc\n",
       "    TimeStamp:    10/03/2019 00:59:17 +0100"
      ]
     },
     "execution_count": 9,
     "metadata": {},
     "output_type": "execute_result"
    }
   ],
   "source": [
    "dsW = xr.open_mfdataset(op.join(ddir,'00658801-00669600/eNATL60-BLBT02_1h_20091102_20091106_gridW_200911*.nc'),\n",
    "                        chunks={'time_counter':1,'depthw':1}, combine='by_coords'\n",
    "                       ).sel(depthw=slice(None,510))\n",
    "dsT = xr.open_mfdataset(op.join(ddir,'00658801-00669600/eNATL60-BLBT02_1h_20091102_20091106_gridT_200911*.nc'),\n",
    "                        chunks={'time_counter':1,'deptht':1}, combine='by_coords'\n",
    "                       ).sel(deptht=slice(None,510))\n",
    "dsS = xr.open_mfdataset(op.join(ddir,'00658801-00669600/eNATL60-BLBT02_1h_20091102_20091106_gridS_200911*.nc'),\n",
    "                        chunks={'time_counter':1,'deptht':1}, combine='by_coords'\n",
    "                       ).sel(deptht=slice(None,510))\n",
    "dsW"
   ]
  },
  {
   "cell_type": "code",
   "execution_count": 10,
   "metadata": {
    "collapsed": true,
    "jupyter": {
     "outputs_hidden": true,
     "source_hidden": true
    }
   },
   "outputs": [
    {
     "data": {
      "text/html": [
       "<pre>&lt;xarray.DataArray (time_counter: 120, depthw: 73, y: 500, x: 800)&gt;\n",
       "dask.array&lt;mul, shape=(120, 73, 500, 800), dtype=float64, chunksize=(1, 1, 500, 800), chunktype=numpy.ndarray&gt;\n",
       "Coordinates:\n",
       "  * depthw         (depthw) float64 1.0 2.157 3.471 4.943 ... 475.4 487.9 500.5\n",
       "    nav_lat        (y, x) float32 dask.array&lt;chunksize=(500, 800), meta=np.ndarray&gt;\n",
       "    nav_lon        (y, x) float32 dask.array&lt;chunksize=(500, 800), meta=np.ndarray&gt;\n",
       "    time_centered  (time_counter) datetime64[ns] dask.array&lt;chunksize=(1,), meta=np.ndarray&gt;\n",
       "  * time_counter   (time_counter) datetime64[ns] 2009-11-02T00:30:00 ... 2009-11-06T23:30:00\n",
       "Dimensions without coordinates: y, x</pre>"
      ],
      "text/plain": [
       "<xarray.DataArray (time_counter: 120, depthw: 73, y: 500, x: 800)>\n",
       "dask.array<mul, shape=(120, 73, 500, 800), dtype=float64, chunksize=(1, 1, 500, 800), chunktype=numpy.ndarray>\n",
       "Coordinates:\n",
       "  * depthw         (depthw) float64 1.0 2.157 3.471 4.943 ... 475.4 487.9 500.5\n",
       "    nav_lat        (y, x) float32 dask.array<chunksize=(500, 800), meta=np.ndarray>\n",
       "    nav_lon        (y, x) float32 dask.array<chunksize=(500, 800), meta=np.ndarray>\n",
       "    time_centered  (time_counter) datetime64[ns] dask.array<chunksize=(1,), meta=np.ndarray>\n",
       "  * time_counter   (time_counter) datetime64[ns] 2009-11-02T00:30:00 ... 2009-11-06T23:30:00\n",
       "Dimensions without coordinates: y, x"
      ]
     },
     "execution_count": 10,
     "metadata": {},
     "output_type": "execute_result"
    }
   ],
   "source": [
    "maskT = dsmask.tmask[0].sel(y=slice(ys,ye),x=slice(xs,xe)).isel(z=slice(None,len(dsW.depthw)))\n",
    "    \n",
    "CT = dsT.votemper.sel(y=slice(ys,ye),x=slice(xs,xe)\n",
    "                     ).where(xr.DataArray(maskT.data, dims=['deptht','y','x']).chunk({'deptht':1})!=0.\n",
    "                            )\n",
    "SA = dsS.vosaline.sel(y=slice(ys,ye),x=slice(xs,xe)\n",
    "                     ).where(xr.DataArray(maskT.data, dims=['deptht','y','x']).chunk({'deptht':1})!=0.\n",
    "                            )\n",
    "w = dsW.vovecrtz.sel(y=slice(ys,ye),x=slice(xs,xe)\n",
    "                    ).where(xr.DataArray(maskT.data, dims=['depthw','y','x']).chunk({'deptht':1})!=0.\n",
    "                           )\n",
    "\n",
    "buoy = -g*xr.apply_ufunc(gsw.sigma0, SA, CT, \n",
    "                         dask='parallelized', output_dtypes=[float,]\n",
    "                        )*1e-3\n",
    "\n",
    "ws = filt(w.chunk({'depthw':1}), area=At)\n",
    "bs = filt(buoy.chunk({'deptht':1}), area=At)\n",
    "\n",
    "wsbs = (ws.isel(depthw=slice(1,None)) \n",
    "        * bs.chunk({'deptht':-1}).interp({'deptht':ws.depthw.isel(depthw=slice(1,None)).data},\n",
    "                                         method='linear').data\n",
    "       )\n",
    "wsbs"
   ]
  },
  {
   "cell_type": "code",
   "execution_count": null,
   "metadata": {
    "jupyter": {
     "source_hidden": true
    }
   },
   "outputs": [],
   "source": [
    "wsbs[:,15].mean('time_counter').plot(figsize=(12,7), vmin=-1e-7, vmax=1e-7, cmap='RdBu_r')"
   ]
  },
  {
   "cell_type": "code",
   "execution_count": null,
   "metadata": {
    "jupyter": {
     "source_hidden": true
    }
   },
   "outputs": [],
   "source": [
    "wsbs_b = ((wsbs*At).coarsen({'y':5,'x':5},boundary='trim').sum() \n",
    "          * At.coarsen({'y':5,'x':5},boundary='trim').sum()**-1\n",
    "         )\n",
    "s_b = ((SA*At).coarsen({'y':5,'x':5}, boundary='trim').sum()\n",
    "       / At.coarsen({'y':5,'x':5}, boundary='trim').sum()\n",
    "      )\n",
    "t_b = ((CT*At).coarsen({'y':5,'x':5}, boundary='trim').sum()\n",
    "       / At.coarsen({'y':5,'x':5}, boundary='trim').sum()\n",
    "      )\n",
    "\n",
    "z10 = 6\n",
    "sig0_b = xr.apply_ufunc(gsw.sigma0, s_b, t_b, \n",
    "                        dask='parallelized', output_dtypes=[float,]\n",
    "                       ).persist()\n",
    "b_b = -g*sig0_b*1e-3\n",
    "\n",
    "nMLD_b = z10 + np.abs((sig0_b.isel(deptht=slice(z10,None))\n",
    "                       - sig0_b.isel(deptht=z10)\n",
    "                      ) - 0.03).argmin(dim='deptht')"
   ]
  },
  {
   "cell_type": "code",
   "execution_count": 13,
   "metadata": {
    "collapsed": true,
    "jupyter": {
     "outputs_hidden": true
    }
   },
   "outputs": [
    {
     "data": {
      "text/html": [
       "<pre>&lt;xarray.DataArray (time: 5, x: 4)&gt;\n",
       "dask.array&lt;concatenate, shape=(5, 4), dtype=float64, chunksize=(1, 4), chunktype=numpy.ndarray&gt;\n",
       "Dimensions without coordinates: time, x</pre>"
      ],
      "text/plain": [
       "<xarray.DataArray (time: 5, x: 4)>\n",
       "dask.array<concatenate, shape=(5, 4), dtype=float64, chunksize=(1, 4), chunktype=numpy.ndarray>\n",
       "Dimensions without coordinates: time, x"
      ]
     },
     "execution_count": 13,
     "metadata": {},
     "output_type": "execute_result"
    }
   ],
   "source": [
    "import dask.array as dsar\n",
    "xr.concat([xr.DataArray(np.random.random((2,4)), dims=['time','x']).chunk({'time':1}),\n",
    "           xr.DataArray(np.random.random((3,4)), dims=['time','x']).chunk({'time':1})], 'time')"
   ]
  },
  {
   "cell_type": "code",
   "execution_count": 12,
   "metadata": {},
   "outputs": [
    {
     "name": "stdout",
     "output_type": "stream",
     "text": [
      "[[ 6  7  8  9 10]\n",
      " [11 12 13 14 15]\n",
      " [16 17 18 19 20]\n",
      " [21 22 23 24 25]\n",
      " [26 27 28 29 30]] [1058401 1058401 1058401 1058401 1058401 1058401]\n"
     ]
    }
   ],
   "source": [
    "# dirs = np.arange(669601,756000,43200,dtype=int)\n",
    "# days = np.concatenate((np.arange(11,31,dtype=int), np.arange(1,6,dtype=int))).reshape((5,5))\n",
    "days = np.arange(6,31, dtype=int).reshape((5,5))\n",
    "dirs = np.repeat(np.array([1058401]),days.shape[0]+1)\n",
    "print(days,dirs)"
   ]
  },
  {
   "cell_type": "code",
   "execution_count": 17,
   "metadata": {
    "collapsed": true,
    "jupyter": {
     "outputs_hidden": true,
     "source_hidden": true
    }
   },
   "outputs": [
    {
     "name": "stdout",
     "output_type": "stream",
     "text": [
      "11-27\n",
      "11-28\n",
      "11-29\n",
      "11-30\n",
      "12-1\n",
      "12-2\n",
      "12-3\n",
      "12-4\n",
      "12-5\n",
      "12-6\n",
      "12-7\n",
      "12-8\n",
      "12-9\n",
      "12-10\n",
      "12-11\n",
      "12-12\n",
      "12-13\n",
      "12-14\n",
      "12-15\n",
      "12-16\n"
     ]
    }
   ],
   "source": [
    "month = 11\n",
    "year = 2009\n",
    "for k in range(0,len(dirs)-1):\n",
    "    for i in days[k]:\n",
    "        j = month\n",
    "        l = j\n",
    "        m = month+1\n",
    "#         if k > 0:\n",
    "#             j = m\n",
    "        if i < days[0,0]:\n",
    "            l = m\n",
    "\n",
    "        dsT = xr.open_dataset(op.join(xtra,'%08d-%08d/eNATL60-BLBT02X_1h_%4d%02d%02d_%4d%02d%02d_gridT_%4d%02d%02d-%4d%02d%02d.nc' \n",
    "                                      % (dirs[k],int(dirs[k]+10800*days.shape[0]-1),\n",
    "                                         year,j,days[0,0],year,m,days[-1,-1],\n",
    "                                         year,l,i,year,l,i)),\n",
    "                              chunks={'time_counter':1,'deptht':zchunk}\n",
    "                             ).sel(deptht=slice(None,810))\n",
    "        dsS = xr.open_dataset(op.join(xtra,'%08d-%08d/eNATL60-BLBT02X_1h_%4d%02d%02d_%4d%02d%02d_gridS_%4d%02d%02d-%4d%02d%02d.nc' \n",
    "                                      % (dirs[k],int(dirs[k]+10800*days.shape[0]-1),\n",
    "                                         year,j,days[0,0],year,m,days[-1,-1],\n",
    "                                         year,l,i,year,l,i)),\n",
    "                              chunks={'time_counter':1,'deptht':zchunk}\n",
    "                             ).sel(deptht=slice(None,810))\n",
    "        d2D = xr.open_dataset(op.join(xtra,'%08d-%08d/eNATL60-BLBT02X_1h_%4d%02d%02d_%4d%02d%02d_gridT-2D_%4d%02d%02d-%4d%02d%02d.nc' \n",
    "                                      % (dirs[k],int(dirs[k]+10800*days.shape[0]-1),\n",
    "                                         year,j,days[0,0],year,m,days[-1,-1],\n",
    "                                         year,l,i,year,l,i)),\n",
    "                             )\n",
    "\n",
    "        if i == days[0,0]:\n",
    "            maskT = dsmask.tmask.sel(y=slice(ys,ye),x=slice(xs,xe)\n",
    "                                        ).isel(z=slice(None,len(dsT.deptht)))\n",
    "\n",
    "        CT = dsT.votemper[-1].sel(y=slice(ys,ye),x=slice(xs,xe)\n",
    "                                 ).where(xr.DataArray(maskT.data, dims=['deptht','y','x']\n",
    "                                                     ) != 0.)\n",
    "        SA = dsS.vosaline[-1].sel(y=slice(ys,ye),x=slice(xs,xe)\n",
    "                                 ).where(xr.DataArray(maskT.data, dims=['deptht','y','x']\n",
    "                                                     ) != 0.)\n",
    "        ssh = d2D.sossheig[-1].sel(y=slice(ys,ye),x=slice(xs,xe)\n",
    "                                  ).where(xr.DataArray(maskT.data[0], dims=['y','x']\n",
    "                                                      ) != 0.)\n",
    "    #     del dsT, dsS, dsW\n",
    "\n",
    "\n",
    "#######################\n",
    "        s_b = ((SA*At).coarsen({'y':ncoars,'x':ncoars}, boundary='trim').sum(skipna=True)\n",
    "               / At.coarsen({'y':ncoars,'x':ncoars}, boundary='trim').sum(skipna=True)\n",
    "              )\n",
    "        t_b = ((CT*At).coarsen({'y':ncoars,'x':ncoars}, boundary='trim').sum(skipna=True)\n",
    "               / At.coarsen({'y':ncoars,'x':ncoars}, boundary='trim').sum(skipna=True)\n",
    "              )\n",
    "    #     del SA, CT\n",
    "\n",
    "        z10 = 6\n",
    "        sig0_b = xr.apply_ufunc(gsw.sigma0, s_b, t_b, \n",
    "                                dask='parallelized', output_dtypes=[float,]\n",
    "                               )\n",
    "        b_b = -g*sig0_b*1e-3\n",
    "        \n",
    "        e3w = dsmask.e3w_0.sel(y=slice(ys,ye),x=slice(xs,xe)) * (1+ssh*gdepw**-1)\n",
    "        e3t = dsmask.e3t_0.sel(y=slice(ys,ye),x=slice(xs,xe)) * (1+ssh*gdepw**-1)\n",
    "        e3w_b = ((e3w*At).coarsen({'y':ncoars,'x':ncoars},boundary='trim').sum(skipna=True) \n",
    "                 * At.coarsen({'y':ncoars,'x':ncoars},boundary='trim').sum(skipna=True)**-1\n",
    "                )\n",
    "        e3t_b = ((e3t*At).coarsen({'y':ncoars,'x':ncoars},boundary='trim').sum(skipna=True) \n",
    "                 * At.coarsen({'y':ncoars,'x':ncoars},boundary='trim').sum(skipna=True)**-1\n",
    "                )\n",
    "\n",
    "        nMLD_b = z10 + np.abs((sig0_b.isel(deptht=slice(z10,None))\n",
    "                               - sig0_b.isel(deptht=z10)\n",
    "                              ) - 0.03).argmin(dim='deptht')\n",
    "#         MLD = (xr.ones_like(sig0_b) * sig0_b.deptht\n",
    "#               )[{'deptht':nMLD_b.compute()}].compute()\n",
    "        MLD = e3t_b.where(e3t_b.z<=nMLD_b.compute()).sum('z').compute()\n",
    "        del nMLD_b, sig0_b\n",
    "#         if i == days[0,0]:\n",
    "#             MLD_b = MLD\n",
    "#         else:\n",
    "#             MLD_b = xr.concat([MLD_b, MLD], 'time_counter')\n",
    "        \n",
    "\n",
    "#######################    \n",
    "#         bb_ML = ((b_b * xr.DataArray(e3t.data[:len(b_b.deptht)],dims=['deptht'])\n",
    "#                  ).where(b_b.deptht <= MLD).sum('deptht') \n",
    "#                  * MLD**-1)\n",
    "\n",
    "        zt_b = e3t_b[:len(dsT.deptht)].cumsum('z',skipna=True)\n",
    "#         mu1 = 2*(-b_b.deptht) * MLD**-1 + 1\n",
    "#         mu1 = mu1.where(mu1.deptht <= MLD)\n",
    "        mu1 = 2*(-zt_b) * MLD**-1 + 1\n",
    "        mu1 = mu1.where(zt_b <= MLD)\n",
    "        mu = xr.DataArray(((1.-mu1**2)*(1.+5/21*mu1**2)).data,\n",
    "                         dims=['deptht','y','x'],\n",
    "                         coords={'deptht':dsT.deptht.data}\n",
    "                         ).chunk({'deptht':zchunk})\n",
    "\n",
    "\n",
    "        bx = (b_b.isel(x=slice(1,None))\n",
    "              + b_b.isel(x=slice(None,-1)).data\n",
    "             ) * .5\n",
    "        by = (b_b.isel(y=slice(1,None))\n",
    "              + b_b.isel(y=slice(None,-1)).data\n",
    "             ) * .5\n",
    "        dbx = bx.diff(dim='x',skipna=True) * e1ub.isel(x=slice(1,-1))**-1\n",
    "        dby = by.diff(dim='y',skipna=True) * e2vb.isel(y=slice(1,-1))**-1\n",
    "        \n",
    "        dbx = (dbx.fillna(0.) * xr.DataArray(e3t_b.isel(z=slice(len(dsT.deptht))).isel(x=slice(1,-1)).data,\n",
    "                                             dims=['deptht','y','x'])\n",
    "              ).where(dbx.deptht <= MLD.isel(x=slice(1,-1))\n",
    "                     ).sum('deptht',skipna=True)\n",
    "        dby = (dby.fillna(0.) * xr.DataArray(e3t_b.isel(z=slice(len(dsT.deptht))).isel(y=slice(1,-1)).data,\n",
    "                                             dims=['deptht','y','x'])\n",
    "              ).where(dby.deptht <= MLD.isel(y=slice(1,-1))\n",
    "                     ).sum('deptht',skipna=True)\n",
    "        \n",
    "        \n",
    "        tx = (t_b.isel(x=slice(1,None))\n",
    "              + t_b.isel(x=slice(None,-1)).data\n",
    "             ) * .5\n",
    "        ty = (t_b.isel(y=slice(1,None))\n",
    "              + t_b.isel(y=slice(None,-1)).data\n",
    "             ) * .5\n",
    "        dtx = tx.diff(dim='x',skipna=True) * e1ub.isel(x=slice(1,-1))**-1\n",
    "        dty = ty.diff(dim='y',skipna=True) * e2vb.isel(y=slice(1,-1))**-1\n",
    "        \n",
    "        dtx = (dtx.fillna(0.) * xr.DataArray(e3t_b.isel(z=slice(len(dsT.deptht))).isel(x=slice(1,-1)).data,\n",
    "                                             dims=['deptht','y','x'])\n",
    "              ).where(dtx.deptht <= MLD.isel(x=slice(1,-1))\n",
    "                     ).sum('deptht',skipna=True)\n",
    "        dty = (dty.fillna(0.) * xr.DataArray(e3t_b.isel(z=slice(len(dsT.deptht))).isel(y=slice(1,-1)).data,\n",
    "                                             dims=['deptht','y','x'])\n",
    "              ).where(dty.deptht <= MLD.isel(y=slice(1,-1))\n",
    "                     ).sum('deptht',skipna=True)\n",
    "        \n",
    "        \n",
    "        sx = (s_b.isel(x=slice(1,None))\n",
    "              + s_b.isel(x=slice(None,-1)).data\n",
    "             ) * .5\n",
    "        sy = (s_b.isel(y=slice(1,None))\n",
    "              + s_b.isel(y=slice(None,-1)).data\n",
    "             ) * .5\n",
    "        dsx = sx.diff(dim='x',skipna=True) * e1ub.isel(x=slice(1,-1))**-1\n",
    "        dsy = sy.diff(dim='y',skipna=True) * e2vb.isel(y=slice(1,-1))**-1\n",
    "        \n",
    "        dsx = (dsx.fillna(0.) * xr.DataArray(e3t_b.isel(z=slice(len(dsT.deptht))).isel(x=slice(1,-1)).data,\n",
    "                                             dims=['deptht','y','x'])\n",
    "              ).where(dsx.deptht <= MLD.isel(x=slice(1,-1))\n",
    "                     ).sum('deptht',skipna=True)\n",
    "        dsy = (dsy.fillna(0.) * xr.DataArray(e3t_b.isel(z=slice(len(dsT.deptht))).isel(y=slice(1,-1)).data,\n",
    "                                             dims=['deptht','y','x'])\n",
    "              ).where(dsy.deptht <= MLD.isel(y=slice(1,-1))\n",
    "                     ).sum('deptht',skipna=True)\n",
    "        \n",
    "        \n",
    "        gradB2 = dbx.isel(y=slice(1,-1))**2 + dby.isel(x=slice(1,-1))**2\n",
    "        gradT2 = dtx.isel(y=slice(1,-1))**2 + dty.isel(x=slice(1,-1))**2\n",
    "        gradS2 = dsx.isel(y=slice(1,-1))**2 + dsy.isel(x=slice(1,-1))**2\n",
    "    #     del b_b, dbx, dby\n",
    "\n",
    "        gradbb2H = (Ce * mu.isel(y=slice(1,-1),x=slice(1,-1))\n",
    "                    * gradB2 \n",
    "#                     * MLD.isel(y=slice(1,-1),x=slice(1,-1))**2\n",
    "                    * np.abs(fb).isel(y=slice(1,-1),x=slice(1,-1))**-1\n",
    "                   )\n",
    "        gradtb2H = (Ce * mu.isel(y=slice(1,-1),x=slice(1,-1))\n",
    "                    * gradT2 \n",
    "#                     * MLD.isel(y=slice(1,-1),x=slice(1,-1))**2\n",
    "                    * np.abs(fb).isel(y=slice(1,-1),x=slice(1,-1))**-1\n",
    "                   )\n",
    "        gradsb2H = (Ce * mu.isel(y=slice(1,-1),x=slice(1,-1))\n",
    "                    * gradS2 \n",
    "#                     * MLD.isel(y=slice(1,-1),x=slice(1,-1))**2\n",
    "                    * np.abs(fb).isel(y=slice(1,-1),x=slice(1,-1))**-1\n",
    "                   )\n",
    "\n",
    "#         wsbsb_ML = wsbs_b.where(wsbs_b.depthw <= MLD)\n",
    "#####################  \n",
    "        if i == days[0,0]:\n",
    "            BFK_bar = ((gradbb2H * xr.DataArray(e3t_b[:len(dsT.deptht)], \n",
    "                                                dims=['deptht','y','x'],\n",
    "                                                coords={'deptht':dsT.deptht.data}\n",
    "                                               ).isel(y=slice(1,-1),x=slice(1,-1))\n",
    "                       ).sum('deptht') * MLD.isel(y=slice(1,-1),x=slice(1,-1))**-1\n",
    "                      ).compute()\n",
    "            BFKt_bar = ((gradtb2H * xr.DataArray(e3t_b[:len(dsT.deptht)], \n",
    "                                                dims=['deptht','y','x'],\n",
    "                                                coords={'deptht':dsT.deptht.data}\n",
    "                                               ).isel(y=slice(1,-1),x=slice(1,-1))\n",
    "                       ).sum('deptht') * MLD.isel(y=slice(1,-1),x=slice(1,-1))**-1\n",
    "                      ).compute()\n",
    "            BFKs_bar = ((gradsb2H * xr.DataArray(e3t_b[:len(dsT.deptht)], \n",
    "                                                dims=['deptht','y','x'],\n",
    "                                                coords={'deptht':dsT.deptht.data}\n",
    "                                               ).isel(y=slice(1,-1),x=slice(1,-1))\n",
    "                       ).sum('deptht') * MLD.isel(y=slice(1,-1),x=slice(1,-1))**-1\n",
    "                      ).compute()\n",
    "        else:\n",
    "            BFK_bar = xr.concat([BFK_bar, ((gradbb2H * xr.DataArray(e3t_b[:len(dsT.deptht)], \n",
    "                                                                    dims=['deptht','y','x'],\n",
    "                                                                    coords={'deptht':dsT.deptht.data}\n",
    "                                                                   ).isel(y=slice(1,-1),x=slice(1,-1))\n",
    "                                           ).sum('deptht') * MLD.isel(y=slice(1,-1),x=slice(1,-1))**-1\n",
    "                                          ).compute()\n",
    "                                ],\n",
    "                                'time_counter')\n",
    "            BFKt_bar = xr.concat([BFKt_bar, ((gradtb2H * xr.DataArray(e3t_b[:len(dsT.deptht)], \n",
    "                                                                    dims=['deptht','y','x'],\n",
    "                                                                    coords={'deptht':dsT.deptht.data}\n",
    "                                                                   ).isel(y=slice(1,-1),x=slice(1,-1))\n",
    "                                             ).sum('deptht') * MLD.isel(y=slice(1,-1),x=slice(1,-1))**-1\n",
    "                                            ).compute()\n",
    "                                ],\n",
    "                                'time_counter')\n",
    "            BFKs_bar = xr.concat([BFKs_bar, ((gradsb2H * xr.DataArray(e3t_b[:len(dsT.deptht)], \n",
    "                                                                    dims=['deptht','y','x'],\n",
    "                                                                    coords={'deptht':dsT.deptht.data}\n",
    "                                                                   ).isel(y=slice(1,-1),x=slice(1,-1))\n",
    "                                             ).sum('deptht') * MLD.isel(y=slice(1,-1),x=slice(1,-1))**-1\n",
    "                                            ).compute()\n",
    "                                ],\n",
    "                                'time_counter')\n",
    "\n",
    "        del MLD, gradB2, gradbb2H, gradT2, gradtb2H, gradS2, gradsb2H\n",
    "        \n",
    "#         client.restart()\n",
    "        print(str(l)+'-'+str(i))\n",
    "    \n",
    "#     wsbsb_bar.to_netcdf(op.join(scratch,'wsbs_bar_2009-%2d-%02d_%2d-%02d.nc' % (j,days[k,0],l,days[k,-1])))\n",
    "\n",
    "dsave = BFK_bar.to_dataset(name='BFK')\n",
    "dsave['BFKt'] = BFKt_bar\n",
    "dsave['BFKs'] = BFKs_bar\n",
    "# dsave['MLD'] = MLD_b\n",
    "dsave.to_netcdf(op.join(scratch,'GulfStream/BFKML_bar-24h_%4d-%02d-%02d_%02d-%02d.nc' \n",
    "                        % (year,j,days[0,0],m,days[-1,-1])))\n",
    "    \n",
    "#     if k < len(dirs)-2:\n",
    "#         del BFK_bar"
   ]
  },
  {
   "cell_type": "code",
   "execution_count": 13,
   "metadata": {},
   "outputs": [
    {
     "name": "stdout",
     "output_type": "stream",
     "text": [
      "5-6\n",
      "5-7\n"
     ]
    },
    {
     "name": "stderr",
     "output_type": "stream",
     "text": [
      "distributed.scheduler - ERROR - Couldn't gather keys {\"('truediv-8efab1835910f79726df2b30e7c4b12c', 0, 0, 0)\": []} state: ['waiting'] workers: []\n",
      "NoneType: None\n",
      "distributed.scheduler - ERROR - Workers don't have promised key: [], ('truediv-8efab1835910f79726df2b30e7c4b12c', 0, 0, 0)\n",
      "NoneType: None\n",
      "distributed.scheduler - ERROR - Couldn't gather keys {\"('truediv-8efab1835910f79726df2b30e7c4b12c', 0, 0, 0)\": []} state: ['waiting'] workers: []\n",
      "NoneType: None\n",
      "distributed.scheduler - ERROR - Workers don't have promised key: [], ('truediv-8efab1835910f79726df2b30e7c4b12c', 0, 0, 0)\n",
      "NoneType: None\n"
     ]
    },
    {
     "name": "stdout",
     "output_type": "stream",
     "text": [
      "5-8\n",
      "5-9\n"
     ]
    },
    {
     "name": "stderr",
     "output_type": "stream",
     "text": [
      "distributed.scheduler - ERROR - Couldn't gather keys {\"('truediv-8c5ab1afa5da8fc1d5c8c64124dccfe0', 0, 0, 0)\": []} state: ['waiting'] workers: []\n",
      "NoneType: None\n",
      "distributed.scheduler - ERROR - Workers don't have promised key: [], ('truediv-8c5ab1afa5da8fc1d5c8c64124dccfe0', 0, 0, 0)\n",
      "NoneType: None\n",
      "distributed.scheduler - ERROR - Couldn't gather keys {\"('truediv-6decf9a08dd76337baf96d3fc08f76c7', 0, 0, 0)\": []} state: ['waiting'] workers: []\n",
      "NoneType: None\n",
      "distributed.scheduler - ERROR - Workers don't have promised key: [], ('truediv-6decf9a08dd76337baf96d3fc08f76c7', 0, 0, 0)\n",
      "NoneType: None\n",
      "distributed.scheduler - ERROR - Couldn't gather keys {\"('truediv-6decf9a08dd76337baf96d3fc08f76c7', 0, 0, 0)\": []} state: ['waiting'] workers: []\n",
      "NoneType: None\n",
      "distributed.scheduler - ERROR - Workers don't have promised key: [], ('truediv-6decf9a08dd76337baf96d3fc08f76c7', 0, 0, 0)\n",
      "NoneType: None\n"
     ]
    },
    {
     "name": "stdout",
     "output_type": "stream",
     "text": [
      "5-10\n"
     ]
    },
    {
     "name": "stderr",
     "output_type": "stream",
     "text": [
      "distributed.scheduler - ERROR - Couldn't gather keys {\"('truediv-74ed50917700b661c28133c4ae3601fb', 0, 0, 0)\": []} state: ['waiting'] workers: []\n",
      "NoneType: None\n",
      "distributed.scheduler - ERROR - Workers don't have promised key: [], ('truediv-74ed50917700b661c28133c4ae3601fb', 0, 0, 0)\n",
      "NoneType: None\n",
      "distributed.scheduler - ERROR - Couldn't gather keys {\"('truediv-74ed50917700b661c28133c4ae3601fb', 0, 0, 0)\": []} state: ['waiting'] workers: []\n",
      "NoneType: None\n",
      "distributed.scheduler - ERROR - Workers don't have promised key: [], ('truediv-74ed50917700b661c28133c4ae3601fb', 0, 0, 0)\n",
      "NoneType: None\n"
     ]
    },
    {
     "name": "stdout",
     "output_type": "stream",
     "text": [
      "5-11\n",
      "5-12\n"
     ]
    },
    {
     "name": "stderr",
     "output_type": "stream",
     "text": [
      "distributed.scheduler - ERROR - Couldn't gather keys {\"('truediv-f4bd335f6b4d425293ba83fa369e3dcb', 0, 0, 0)\": []} state: ['waiting'] workers: []\n",
      "NoneType: None\n",
      "distributed.scheduler - ERROR - Workers don't have promised key: [], ('truediv-f4bd335f6b4d425293ba83fa369e3dcb', 0, 0, 0)\n",
      "NoneType: None\n"
     ]
    },
    {
     "name": "stdout",
     "output_type": "stream",
     "text": [
      "5-13\n"
     ]
    },
    {
     "name": "stderr",
     "output_type": "stream",
     "text": [
      "distributed.scheduler - ERROR - Couldn't gather keys {\"('truediv-931e9be2adc707d923c9f590aaf389b6', 0, 0, 0)\": []} state: ['waiting'] workers: []\n",
      "NoneType: None\n",
      "distributed.scheduler - ERROR - Workers don't have promised key: [], ('truediv-931e9be2adc707d923c9f590aaf389b6', 0, 0, 0)\n",
      "NoneType: None\n",
      "distributed.scheduler - ERROR - Couldn't gather keys {\"('truediv-931e9be2adc707d923c9f590aaf389b6', 0, 0, 0)\": []} state: ['waiting'] workers: []\n",
      "NoneType: None\n",
      "distributed.scheduler - ERROR - Workers don't have promised key: [], ('truediv-931e9be2adc707d923c9f590aaf389b6', 0, 0, 0)\n",
      "NoneType: None\n",
      "distributed.utils_perf - WARNING - full garbage collections took 10% CPU time recently (threshold: 10%)\n"
     ]
    },
    {
     "name": "stdout",
     "output_type": "stream",
     "text": [
      "5-14\n"
     ]
    },
    {
     "name": "stderr",
     "output_type": "stream",
     "text": [
      "distributed.utils_perf - WARNING - full garbage collections took 10% CPU time recently (threshold: 10%)\n",
      "distributed.utils_perf - WARNING - full garbage collections took 10% CPU time recently (threshold: 10%)\n"
     ]
    },
    {
     "name": "stdout",
     "output_type": "stream",
     "text": [
      "5-15\n",
      "5-16\n"
     ]
    },
    {
     "name": "stderr",
     "output_type": "stream",
     "text": [
      "distributed.utils_perf - WARNING - full garbage collections took 10% CPU time recently (threshold: 10%)\n",
      "distributed.utils_perf - WARNING - full garbage collections took 10% CPU time recently (threshold: 10%)\n",
      "distributed.utils_perf - WARNING - full garbage collections took 10% CPU time recently (threshold: 10%)\n"
     ]
    },
    {
     "name": "stdout",
     "output_type": "stream",
     "text": [
      "5-17\n"
     ]
    },
    {
     "name": "stderr",
     "output_type": "stream",
     "text": [
      "distributed.utils_perf - WARNING - full garbage collections took 10% CPU time recently (threshold: 10%)\n",
      "distributed.utils_perf - WARNING - full garbage collections took 10% CPU time recently (threshold: 10%)\n",
      "distributed.scheduler - ERROR - Couldn't gather keys {\"('truediv-7423edad01edd29b67a54ccd1cae7dde', 0, 0, 0)\": []} state: ['waiting'] workers: []\n",
      "NoneType: None\n",
      "distributed.scheduler - ERROR - Workers don't have promised key: [], ('truediv-7423edad01edd29b67a54ccd1cae7dde', 0, 0, 0)\n",
      "NoneType: None\n",
      "distributed.scheduler - ERROR - Couldn't gather keys {\"('truediv-7423edad01edd29b67a54ccd1cae7dde', 0, 0, 0)\": []} state: ['waiting'] workers: []\n",
      "NoneType: None\n",
      "distributed.scheduler - ERROR - Workers don't have promised key: [], ('truediv-7423edad01edd29b67a54ccd1cae7dde', 0, 0, 0)\n",
      "NoneType: None\n",
      "distributed.utils_perf - WARNING - full garbage collections took 10% CPU time recently (threshold: 10%)\n"
     ]
    },
    {
     "name": "stdout",
     "output_type": "stream",
     "text": [
      "5-18\n"
     ]
    },
    {
     "name": "stderr",
     "output_type": "stream",
     "text": [
      "distributed.utils_perf - WARNING - full garbage collections took 10% CPU time recently (threshold: 10%)\n",
      "distributed.utils_perf - WARNING - full garbage collections took 10% CPU time recently (threshold: 10%)\n",
      "distributed.utils_perf - WARNING - full garbage collections took 10% CPU time recently (threshold: 10%)\n",
      "distributed.utils_perf - WARNING - full garbage collections took 10% CPU time recently (threshold: 10%)\n",
      "distributed.utils_perf - WARNING - full garbage collections took 10% CPU time recently (threshold: 10%)\n",
      "distributed.utils_perf - WARNING - full garbage collections took 10% CPU time recently (threshold: 10%)\n",
      "distributed.utils_perf - WARNING - full garbage collections took 10% CPU time recently (threshold: 10%)\n"
     ]
    },
    {
     "name": "stdout",
     "output_type": "stream",
     "text": [
      "5-19\n"
     ]
    },
    {
     "name": "stderr",
     "output_type": "stream",
     "text": [
      "distributed.utils_perf - WARNING - full garbage collections took 10% CPU time recently (threshold: 10%)\n",
      "distributed.utils_perf - WARNING - full garbage collections took 10% CPU time recently (threshold: 10%)\n",
      "distributed.utils_perf - WARNING - full garbage collections took 10% CPU time recently (threshold: 10%)\n",
      "distributed.utils_perf - WARNING - full garbage collections took 10% CPU time recently (threshold: 10%)\n",
      "distributed.utils_perf - WARNING - full garbage collections took 10% CPU time recently (threshold: 10%)\n",
      "distributed.utils_perf - WARNING - full garbage collections took 10% CPU time recently (threshold: 10%)\n"
     ]
    },
    {
     "name": "stdout",
     "output_type": "stream",
     "text": [
      "5-20\n"
     ]
    },
    {
     "name": "stderr",
     "output_type": "stream",
     "text": [
      "distributed.utils_perf - WARNING - full garbage collections took 10% CPU time recently (threshold: 10%)\n",
      "distributed.utils_perf - WARNING - full garbage collections took 10% CPU time recently (threshold: 10%)\n",
      "distributed.utils_perf - WARNING - full garbage collections took 10% CPU time recently (threshold: 10%)\n",
      "distributed.utils_perf - WARNING - full garbage collections took 10% CPU time recently (threshold: 10%)\n",
      "distributed.utils_perf - WARNING - full garbage collections took 10% CPU time recently (threshold: 10%)\n"
     ]
    },
    {
     "name": "stdout",
     "output_type": "stream",
     "text": [
      "5-21\n"
     ]
    },
    {
     "name": "stderr",
     "output_type": "stream",
     "text": [
      "distributed.scheduler - ERROR - Couldn't gather keys {\"('truediv-1e06c07f4271d27b68bccf05344a0fea', 0, 0, 0)\": []} state: ['waiting'] workers: []\n",
      "NoneType: None\n",
      "distributed.scheduler - ERROR - Workers don't have promised key: [], ('truediv-1e06c07f4271d27b68bccf05344a0fea', 0, 0, 0)\n",
      "NoneType: None\n",
      "distributed.scheduler - ERROR - Couldn't gather keys {\"('truediv-1e06c07f4271d27b68bccf05344a0fea', 0, 0, 0)\": []} state: ['waiting'] workers: []\n",
      "NoneType: None\n",
      "distributed.scheduler - ERROR - Workers don't have promised key: [], ('truediv-1e06c07f4271d27b68bccf05344a0fea', 0, 0, 0)\n",
      "NoneType: None\n"
     ]
    },
    {
     "name": "stdout",
     "output_type": "stream",
     "text": [
      "5-22\n"
     ]
    },
    {
     "name": "stderr",
     "output_type": "stream",
     "text": [
      "distributed.scheduler - ERROR - Couldn't gather keys {\"('truediv-f546c5bf4fbe42ef97fa329ac76d8416', 0, 0, 0)\": []} state: ['waiting'] workers: []\n",
      "NoneType: None\n",
      "distributed.scheduler - ERROR - Workers don't have promised key: [], ('truediv-f546c5bf4fbe42ef97fa329ac76d8416', 0, 0, 0)\n",
      "NoneType: None\n"
     ]
    },
    {
     "name": "stdout",
     "output_type": "stream",
     "text": [
      "5-23\n",
      "5-24\n"
     ]
    },
    {
     "name": "stderr",
     "output_type": "stream",
     "text": [
      "distributed.utils_perf - WARNING - full garbage collections took 10% CPU time recently (threshold: 10%)\n"
     ]
    },
    {
     "name": "stdout",
     "output_type": "stream",
     "text": [
      "5-25\n"
     ]
    },
    {
     "name": "stderr",
     "output_type": "stream",
     "text": [
      "distributed.utils_perf - WARNING - full garbage collections took 10% CPU time recently (threshold: 10%)\n",
      "distributed.scheduler - ERROR - Couldn't gather keys {\"('truediv-22382889ec4094f7c61ece5973bcd56c', 0, 0, 0)\": []} state: ['waiting'] workers: []\n",
      "NoneType: None\n",
      "distributed.scheduler - ERROR - Workers don't have promised key: [], ('truediv-22382889ec4094f7c61ece5973bcd56c', 0, 0, 0)\n",
      "NoneType: None\n",
      "distributed.scheduler - ERROR - Couldn't gather keys {\"('truediv-22382889ec4094f7c61ece5973bcd56c', 0, 0, 0)\": []} state: ['waiting'] workers: []\n",
      "NoneType: None\n",
      "distributed.scheduler - ERROR - Workers don't have promised key: [], ('truediv-22382889ec4094f7c61ece5973bcd56c', 0, 0, 0)\n",
      "NoneType: None\n",
      "distributed.utils_perf - WARNING - full garbage collections took 10% CPU time recently (threshold: 10%)\n"
     ]
    },
    {
     "name": "stdout",
     "output_type": "stream",
     "text": [
      "5-26\n"
     ]
    },
    {
     "name": "stderr",
     "output_type": "stream",
     "text": [
      "distributed.scheduler - ERROR - Couldn't gather keys {\"('truediv-91406aa08e99fdfcc053f4bc004e31b2', 0, 0, 0)\": []} state: ['waiting'] workers: []\n",
      "NoneType: None\n",
      "distributed.scheduler - ERROR - Workers don't have promised key: [], ('truediv-91406aa08e99fdfcc053f4bc004e31b2', 0, 0, 0)\n",
      "NoneType: None\n",
      "distributed.scheduler - ERROR - Couldn't gather keys {\"('truediv-91406aa08e99fdfcc053f4bc004e31b2', 0, 0, 0)\": []} state: ['waiting'] workers: []\n",
      "NoneType: None\n",
      "distributed.scheduler - ERROR - Workers don't have promised key: [], ('truediv-91406aa08e99fdfcc053f4bc004e31b2', 0, 0, 0)\n",
      "NoneType: None\n",
      "distributed.utils_perf - WARNING - full garbage collections took 10% CPU time recently (threshold: 10%)\n",
      "distributed.scheduler - ERROR - Couldn't gather keys {\"('truediv-0356645b0455c385a50fad1afbfd5652', 0, 0, 0)\": []} state: ['waiting'] workers: []\n",
      "NoneType: None\n",
      "distributed.scheduler - ERROR - Workers don't have promised key: [], ('truediv-0356645b0455c385a50fad1afbfd5652', 0, 0, 0)\n",
      "NoneType: None\n"
     ]
    },
    {
     "name": "stdout",
     "output_type": "stream",
     "text": [
      "5-27\n"
     ]
    },
    {
     "name": "stderr",
     "output_type": "stream",
     "text": [
      "distributed.utils_perf - WARNING - full garbage collections took 10% CPU time recently (threshold: 10%)\n",
      "distributed.utils_perf - WARNING - full garbage collections took 10% CPU time recently (threshold: 10%)\n",
      "distributed.scheduler - ERROR - Couldn't gather keys {\"('truediv-c58fafabb211ea5d3dd56f5829597266', 0, 0, 0)\": []} state: ['waiting'] workers: []\n",
      "NoneType: None\n",
      "distributed.scheduler - ERROR - Workers don't have promised key: [], ('truediv-c58fafabb211ea5d3dd56f5829597266', 0, 0, 0)\n",
      "NoneType: None\n",
      "distributed.scheduler - ERROR - Couldn't gather keys {\"('truediv-c58fafabb211ea5d3dd56f5829597266', 0, 0, 0)\": []} state: ['waiting'] workers: []\n",
      "NoneType: None\n",
      "distributed.scheduler - ERROR - Workers don't have promised key: [], ('truediv-c58fafabb211ea5d3dd56f5829597266', 0, 0, 0)\n",
      "NoneType: None\n",
      "distributed.utils_perf - WARNING - full garbage collections took 10% CPU time recently (threshold: 10%)\n"
     ]
    },
    {
     "name": "stdout",
     "output_type": "stream",
     "text": [
      "5-28\n",
      "5-29\n"
     ]
    },
    {
     "name": "stderr",
     "output_type": "stream",
     "text": [
      "distributed.scheduler - ERROR - Couldn't gather keys {\"('truediv-8e8e6c699f03977d49b0d0a5c3c5b9e4', 0, 0, 0)\": []} state: ['waiting'] workers: []\n",
      "NoneType: None\n",
      "distributed.scheduler - ERROR - Workers don't have promised key: [], ('truediv-8e8e6c699f03977d49b0d0a5c3c5b9e4', 0, 0, 0)\n",
      "NoneType: None\n"
     ]
    },
    {
     "name": "stdout",
     "output_type": "stream",
     "text": [
      "5-30\n"
     ]
    }
   ],
   "source": [
    "e1tb = e1t.isel(y=slice(1,-1),x=slice(1,-1)).coarsen({'y':ncoars,'x':ncoars},\n",
    "                                                     boundary='trim').sum(skipna=True)\n",
    "e2tb = e2t.isel(y=slice(1,-1),x=slice(1,-1)).coarsen({'y':ncoars,'x':ncoars},\n",
    "                                                     boundary='trim').sum(skipna=True)\n",
    "e1ub = e1u.isel(y=slice(1,-1),x=slice(1,-1)).coarsen({'y':ncoars,'x':ncoars},\n",
    "                                                     boundary='trim').sum(skipna=True)\n",
    "e2vb = e2v.isel(y=slice(1,-1),x=slice(1,-1)).coarsen({'y':ncoars,'x':ncoars},\n",
    "                                                     boundary='trim').sum(skipna=True)\n",
    "lat_b = ((dsmask.nav_lat.sel(y=slice(ys,ye),x=slice(xs,xe))\n",
    "          * At).isel(y=slice(1,-1),x=slice(1,-1)).coarsen({'y':ncoars,'x':ncoars},boundary='trim').sum() \n",
    "         * At.isel(y=slice(1,-1),x=slice(1,-1)).coarsen({'y':ncoars,'x':ncoars},boundary='trim').sum()**-1\n",
    "        )\n",
    "f_b = xr.apply_ufunc(gsw.f, lat_b,\n",
    "                     dask='parallelized', output_dtypes=[float,]\n",
    "                    )\n",
    "\n",
    "\n",
    "month = 5\n",
    "year = 2010\n",
    "for k in range(0,len(dirs)-1):\n",
    "    for i in days[k]:\n",
    "        j = month\n",
    "        l = j\n",
    "        m = month+0\n",
    "#         if k > 0:\n",
    "#             j = m\n",
    "        if i < days[0,0]:\n",
    "            l = m\n",
    "        \n",
    "        dsW = xr.open_dataset(op.join(xtra,'%08d-%08d/eNATL60-BLBT02X_1h_%4d%02d%02d_%4d%02d%02d_gridW_%4d%02d%02d-%4d%02d%02d.nc' \n",
    "                                      % (dirs[k],int(dirs[k]+10800*days.shape[0]-1),\n",
    "                                         year,j,days[0,0],year,m,days[-1,-1],\n",
    "                                         year,l,i,year,l,i)),\n",
    "                              chunks={'time_counter':1,'depthw':zchunk}\n",
    "                             ).sel(depthw=slice(None,810))\n",
    "        dsT = xr.open_dataset(op.join(xtra,'%08d-%08d/eNATL60-BLBT02X_1h_%4d%02d%02d_%4d%02d%02d_gridT_%4d%02d%02d-%4d%02d%02d.nc' \n",
    "                                      % (dirs[k],int(dirs[k]+10800*days.shape[0]-1),\n",
    "                                         year,j,days[0,0],year,m,days[-1,-1],\n",
    "                                         year,l,i,year,l,i)),\n",
    "                              chunks={'time_counter':1,'deptht':zchunk}\n",
    "                             ).sel(deptht=slice(None,810))\n",
    "        dsS = xr.open_dataset(op.join(xtra,'%08d-%08d/eNATL60-BLBT02X_1h_%4d%02d%02d_%4d%02d%02d_gridS_%4d%02d%02d-%4d%02d%02d.nc' \n",
    "                                      % (dirs[k],int(dirs[k]+10800*days.shape[0]-1),\n",
    "                                         year,j,days[0,0],year,m,days[-1,-1],\n",
    "                                         year,l,i,year,l,i)),\n",
    "                              chunks={'time_counter':1,'deptht':zchunk}\n",
    "                             ).sel(deptht=slice(None,810))\n",
    "        d2D = xr.open_dataset(op.join(xtra,'%08d-%08d/eNATL60-BLBT02X_1h_%4d%02d%02d_%4d%02d%02d_gridT-2D_%4d%02d%02d-%4d%02d%02d.nc' \n",
    "                                      % (dirs[k],int(dirs[k]+10800*days.shape[0]-1),\n",
    "                                         year,j,days[0,0],year,m,days[-1,-1],\n",
    "                                         year,l,i,year,l,i)),\n",
    "                             )\n",
    "\n",
    "        if i == days[0,0]:\n",
    "            maskT = dsmask.tmask.sel(y=slice(ys,ye),x=slice(xs,xe)\n",
    "                                        ).isel(z=slice(None,len(dsT.deptht)))\n",
    "\n",
    "        CT = dsT.votemper[-1].sel(y=slice(ys,ye),x=slice(xs,xe)\n",
    "                                 ).where(xr.DataArray(maskT.data, dims=['deptht','y','x']\n",
    "                                                     ) != 0.)\n",
    "        SA = dsS.vosaline[-1].sel(y=slice(ys,ye),x=slice(xs,xe)\n",
    "                                 ).where(xr.DataArray(maskT.data, dims=['deptht','y','x']\n",
    "                                                     ) != 0.)\n",
    "        ssh = d2D.sossheig[-1].sel(y=slice(ys,ye),x=slice(xs,xe)\n",
    "                                  ).where(xr.DataArray(maskT.data[0], dims=['y','x']\n",
    "                                                      ) != 0.)\n",
    "        \n",
    "        buoy = -g * (xr.apply_ufunc(gsw.sigma0, SA, CT, \n",
    "                                    dask='parallelized', output_dtypes=[float,]\n",
    "                                   )*1e3-rho0) * rho0**-1\n",
    "        bm = filt(buoy.chunk({'deptht':1}), area=At)\n",
    "        tm = filt(CT.chunk({'deptht':1}), area=At)\n",
    "        sm = filt(SA.chunk({'deptht':1}), area=At)\n",
    "    #     del dsT, dsS, dsW\n",
    "\n",
    "\n",
    "#######################\n",
    "        s_b = ((SA*At).sel(y=slice(1,-1),x=slice(1,-1)).coarsen({'y':ncoars,'x':ncoars}, \n",
    "                                                                boundary='trim').sum(skipna=True)\n",
    "               / At.sel(y=slice(1,-1),x=slice(1,-1)).coarsen({'y':ncoars,'x':ncoars}, \n",
    "                                                             boundary='trim').sum(skipna=True)\n",
    "              )\n",
    "        t_b = ((CT*At).sel(y=slice(1,-1),x=slice(1,-1)).coarsen({'y':ncoars,'x':ncoars}, \n",
    "                                                                boundary='trim').sum(skipna=True)\n",
    "               / At.sel(y=slice(1,-1),x=slice(1,-1)).coarsen({'y':ncoars,'x':ncoars}, \n",
    "                                                             boundary='trim').sum(skipna=True)\n",
    "              )\n",
    "    #     del SA, CT\n",
    "\n",
    "        z10 = 6\n",
    "        sig0_b = xr.apply_ufunc(gsw.sigma0, s_b, t_b, \n",
    "                                dask='parallelized', output_dtypes=[float,]\n",
    "                               )\n",
    "        b_b = -g*(sig0_b+1e3-rho0)*rho0**-1\n",
    "        \n",
    "        e3w = dsmask.e3w_0.sel(y=slice(ys,ye),x=slice(xs,xe)) * (1+ssh*gdepw**-1)\n",
    "        e3t = dsmask.e3t_0.sel(y=slice(ys,ye),x=slice(xs,xe)) * (1+ssh*gdepw**-1)\n",
    "        e3w_b = ((e3w*At).sel(y=slice(1,-1),x=slice(1,-1)).coarsen({'y':ncoars,'x':ncoars},\n",
    "                                                                   boundary='trim').sum(skipna=True) \n",
    "                 * At.sel(y=slice(1,-1),x=slice(1,-1)).coarsen({'y':ncoars,'x':ncoars},\n",
    "                                                               boundary='trim').sum(skipna=True)**-1\n",
    "                )\n",
    "        e3t_b = ((e3t*At).sel(y=slice(1,-1),x=slice(1,-1)).coarsen({'y':ncoars,'x':ncoars},\n",
    "                                                                   boundary='trim').sum(skipna=True) \n",
    "                 * At.sel(y=slice(1,-1),x=slice(1,-1)).coarsen({'y':ncoars,'x':ncoars},\n",
    "                                                               boundary='trim').sum(skipna=True)**-1\n",
    "                )\n",
    "\n",
    "        nMLD_b = z10 + np.abs((sig0_b.isel(deptht=slice(z10,None))\n",
    "                               - sig0_b.isel(deptht=z10)\n",
    "                              ) - 0.03).argmin(dim='deptht')\n",
    "#         MLD = (xr.ones_like(sig0_b) * sig0_b.deptht\n",
    "#               )[{'deptht':nMLD_b.compute()}].compute()\n",
    "        MLD_b = e3t_b.where(e3t_b.z<=nMLD_b.compute()).sum('z').compute()\n",
    "        del nMLD_b, sig0_b\n",
    "        \n",
    "#         if i == days[0,0]:\n",
    "#             MLD_b = MLD\n",
    "#         else:\n",
    "#             MLD_b = xr.concat([MLD_b, MLD], 'time_counter')\n",
    "        \n",
    "\n",
    "#######################    \n",
    "#         bb_ML = ((b_b * xr.DataArray(e3t.data[:len(b_b.deptht)],dims=['deptht'])\n",
    "#                  ).where(b_b.deptht <= MLD).sum('deptht') \n",
    "#                  * MLD**-1)\n",
    "\n",
    "        zt_b = e3t_b[:len(dsT.deptht)].cumsum('z',skipna=True)\n",
    "#         mu1 = 2*(-b_b.deptht) * MLD**-1 + 1\n",
    "#         mu1 = mu1.where(mu1.deptht <= MLD)\n",
    "        mu1 = 2*(-zt_b) * MLD_b**-1 + 1\n",
    "        mu1 = mu1.where(zt_b <= MLD_b)\n",
    "        mu = xr.DataArray(((1.-mu1**2)*(1.+5/21*mu1**2)).data,\n",
    "                         dims=['deptht','y','x'],\n",
    "                         coords={'deptht':dsT.deptht.data}\n",
    "                         ).chunk({'deptht':zchunk})\n",
    "\n",
    "\n",
    "        bmx = (bm.isel(x=slice(1,None))\n",
    "               + bm.isel(x=slice(None,-1)).data\n",
    "              ) * .5\n",
    "        bmy = (bm.isel(y=slice(1,None))\n",
    "               + bm.isel(y=slice(None,-1)).data\n",
    "              ) * .5\n",
    "        dbmx = bmx.diff(dim='x') * e1u.isel(x=slice(1,-1))**-1\n",
    "        dbmy = bmy.diff(dim='y') * e2v.isel(y=slice(1,-1))**-1\n",
    "\n",
    "        dbmx_coar = ((dbmx.isel(y=slice(1,-1))\n",
    "                      *At.sel(y=slice(1,-1),x=slice(1,-1))).coarsen({'y':ncoars,'x':ncoars},\n",
    "                                                                    boundary='trim').sum(skipna=True)\n",
    "                     * At.sel(y=slice(1,-1),x=slice(1,-1)).coarsen({'y':ncoars,'x':ncoars},\n",
    "                                                                   boundary='trim').sum(skipna=True)**-1\n",
    "                    )\n",
    "        dbmy_coar = ((dbmy.isel(x=slice(1,-1))\n",
    "                      *At.sel(y=slice(1,-1),x=slice(1,-1))).coarsen({'y':ncoars,'x':ncoars},\n",
    "                                                                    boundary='trim').sum(skipna=True)\n",
    "                     * At.sel(y=slice(1,-1),x=slice(1,-1)).coarsen({'y':ncoars,'x':ncoars},\n",
    "                                                                   boundary='trim').sum(skipna=True)**-1\n",
    "                    )\n",
    "        \n",
    "        \n",
    "        tmx = (tm.isel(x=slice(1,None))\n",
    "               + tm.isel(x=slice(None,-1)).data\n",
    "              ) * .5\n",
    "        tmy = (tm.isel(y=slice(1,None))\n",
    "               + tm.isel(y=slice(None,-1)).data\n",
    "              ) * .5\n",
    "        dtmx = tmx.diff(dim='x') * e1u.isel(x=slice(1,-1))**-1\n",
    "        dtmy = tmy.diff(dim='y') * e2v.isel(y=slice(1,-1))**-1\n",
    "\n",
    "        dtmx_coar = ((dtmx.isel(y=slice(1,-1))\n",
    "                      *At.sel(y=slice(1,-1),x=slice(1,-1))).coarsen({'y':ncoars,'x':ncoars},\n",
    "                                                                    boundary='trim').sum(skipna=True)\n",
    "                     * At.sel(y=slice(1,-1),x=slice(1,-1)).coarsen({'y':ncoars,'x':ncoars},\n",
    "                                                                   boundary='trim').sum(skipna=True)**-1\n",
    "                    )\n",
    "        dtmy_coar = ((dtmy.isel(x=slice(1,-1))\n",
    "                      *At.sel(y=slice(1,-1),x=slice(1,-1))).coarsen({'y':ncoars,'x':ncoars},\n",
    "                                                                    boundary='trim').sum(skipna=True)\n",
    "                     * At.sel(y=slice(1,-1),x=slice(1,-1)).coarsen({'y':ncoars,'x':ncoars},\n",
    "                                                                   boundary='trim').sum(skipna=True)**-1\n",
    "                    )\n",
    "        \n",
    "        \n",
    "        smx = (sm.isel(x=slice(1,None))\n",
    "               + sm.isel(x=slice(None,-1)).data\n",
    "              ) * .5\n",
    "        smy = (sm.isel(y=slice(1,None))\n",
    "               + sm.isel(y=slice(None,-1)).data\n",
    "              ) * .5\n",
    "        dsmx = smx.diff(dim='x') * e1u.isel(x=slice(1,-1))**-1\n",
    "        dsmy = smy.diff(dim='y') * e2v.isel(y=slice(1,-1))**-1\n",
    "\n",
    "        dsmx_coar = ((dsmx.isel(y=slice(1,-1))\n",
    "                      *At.sel(y=slice(1,-1),x=slice(1,-1))).coarsen({'y':ncoars,'x':ncoars},\n",
    "                                                                    boundary='trim').sum(skipna=True)\n",
    "                     * At.sel(y=slice(1,-1),x=slice(1,-1)).coarsen({'y':ncoars,'x':ncoars},\n",
    "                                                                   boundary='trim').sum(skipna=True)**-1\n",
    "                    )\n",
    "        dsmy_coar = ((dsmy.isel(x=slice(1,-1))\n",
    "                      *At.sel(y=slice(1,-1),x=slice(1,-1))).coarsen({'y':ncoars,'x':ncoars},\n",
    "                                                                    boundary='trim').sum(skipna=True)\n",
    "                     * At.sel(y=slice(1,-1),x=slice(1,-1)).coarsen({'y':ncoars,'x':ncoars},\n",
    "                                                                   boundary='trim').sum(skipna=True)**-1\n",
    "                    )\n",
    "        \n",
    "        dbmxH = (dbmx_coar \n",
    "                 * xr.DataArray(e3t_b.isel(z=slice(len(dsT.deptht))).data,\n",
    "                                dims=['deptht','y','x'])\n",
    "                ).where(dbmx_coar.deptht <= MLD_b).sum('deptht',skipna=True)\n",
    "        dbmyH = (dbmy_coar \n",
    "                 * xr.DataArray(e3t_b.isel(z=slice(len(dsT.deptht))).data,\n",
    "                                dims=['deptht','y','x'])\n",
    "                ).where(dbmy_coar.deptht <= MLD_b).sum('deptht',skipna=True)\n",
    "        dtmxH = (dtmx_coar \n",
    "                 * xr.DataArray(e3t_b.isel(z=slice(len(dsT.deptht))).data,\n",
    "                                dims=['deptht','y','x'])\n",
    "                ).where(dtmx_coar.deptht <= MLD_b).sum('deptht',skipna=True)\n",
    "        dtmyH = (dtmy_coar \n",
    "                 * xr.DataArray(e3t_b.isel(z=slice(len(dsT.deptht))).data,\n",
    "                                dims=['deptht','y','x'])\n",
    "                ).where(dtmy_coar.deptht <= MLD_b).sum('deptht',skipna=True)\n",
    "        dsmxH = (dsmx_coar \n",
    "                 * xr.DataArray(e3t_b.isel(z=slice(len(dsT.deptht))).data,\n",
    "                                dims=['deptht','y','x'])\n",
    "                ).where(dsmx_coar.deptht <= MLD_b).sum('deptht',skipna=True)\n",
    "        dsmyH = (dsmy_coar \n",
    "                 * xr.DataArray(e3t_b.isel(z=slice(len(dsT.deptht))).data,\n",
    "                                dims=['deptht','y','x'])\n",
    "                ).where(dsmy_coar.deptht <= MLD_b).sum('deptht',skipna=True)\n",
    "\n",
    "        \n",
    "        gradB2 = dbmxH**2 + dbmyH**2\n",
    "        gradT2 = dtmxH**2 + dtmyH**2\n",
    "        gradS2 = dsmxH**2 + dsmyH**2\n",
    "    #     del b_b, dbx, dby\n",
    "\n",
    "        gradbb2H = (Ce * mu\n",
    "                    * gradB2 \n",
    "#                     * MLD.isel(y=slice(1,-1),x=slice(1,-1))**2\n",
    "                    * np.abs(f_b)**-1\n",
    "                   )\n",
    "        gradtb2H = (Ce * mu\n",
    "                    * gradT2 \n",
    "#                     * MLD.isel(y=slice(1,-1),x=slice(1,-1))**2\n",
    "                    * np.abs(f_b)**-1\n",
    "                   )\n",
    "        gradsb2H = (Ce * mu\n",
    "                    * gradS2 \n",
    "#                     * MLD.isel(y=slice(1,-1),x=slice(1,-1))**2\n",
    "                    * np.abs(f_b)**-1\n",
    "                   )\n",
    "\n",
    "#         wsbsb_ML = wsbs_b.where(wsbs_b.depthw <= MLD)\n",
    "#####################  \n",
    "        if i == days[0,0]:\n",
    "            BFK_bar = ((gradbb2H * xr.DataArray(e3t_b[:len(dsT.deptht)], \n",
    "                                                dims=['deptht','y','x'],\n",
    "                                                coords={'deptht':dsT.deptht.data}\n",
    "                                               )\n",
    "                       ).sum('deptht') * MLD_b**-1\n",
    "                      ).compute()\n",
    "            BFKt_bar = ((gradtb2H * xr.DataArray(e3t_b[:len(dsT.deptht)], \n",
    "                                                dims=['deptht','y','x'],\n",
    "                                                coords={'deptht':dsT.deptht.data}\n",
    "                                               )\n",
    "                       ).sum('deptht') * MLD_b**-1\n",
    "                      ).compute()\n",
    "            BFKs_bar = ((gradsb2H * xr.DataArray(e3t_b[:len(dsT.deptht)], \n",
    "                                                dims=['deptht','y','x'],\n",
    "                                                coords={'deptht':dsT.deptht.data}\n",
    "                                               )\n",
    "                       ).sum('deptht') * MLD_b**-1\n",
    "                      ).compute()\n",
    "        else:\n",
    "            BFK_bar = xr.concat([BFK_bar, ((gradbb2H * xr.DataArray(e3t_b[:len(dsT.deptht)], \n",
    "                                                                    dims=['deptht','y','x'],\n",
    "                                                                    coords={'deptht':dsT.deptht.data}\n",
    "                                                                   )\n",
    "                                           ).sum('deptht') * MLD_b**-1\n",
    "                                          ).compute()\n",
    "                                ],\n",
    "                                'time_counter')\n",
    "            BFKt_bar = xr.concat([BFKt_bar, ((gradtb2H * xr.DataArray(e3t_b[:len(dsT.deptht)], \n",
    "                                                                    dims=['deptht','y','x'],\n",
    "                                                                    coords={'deptht':dsT.deptht.data}\n",
    "                                                                   )\n",
    "                                             ).sum('deptht') * MLD_b**-1\n",
    "                                            ).compute()\n",
    "                                ],\n",
    "                                'time_counter')\n",
    "            BFKs_bar = xr.concat([BFKs_bar, ((gradsb2H * xr.DataArray(e3t_b[:len(dsT.deptht)], \n",
    "                                                                    dims=['deptht','y','x'],\n",
    "                                                                    coords={'deptht':dsT.deptht.data}\n",
    "                                                                   )\n",
    "                                             ).sum('deptht') * MLD_b**-1\n",
    "                                            ).compute()\n",
    "                                ],\n",
    "                                'time_counter')\n",
    "\n",
    "        del MLD_b, gradB2, gradbb2H, gradT2, gradtb2H, gradS2, gradsb2H\n",
    "        \n",
    "#         client.restart()\n",
    "        print(str(l)+'-'+str(i))\n",
    "    \n",
    "#     wsbsb_bar.to_netcdf(op.join(scratch,'wsbs_bar_2009-%2d-%02d_%2d-%02d.nc' % (j,days[k,0],l,days[k,-1])))\n",
    "\n",
    "dsave = BFK_bar.to_dataset(name='BFK')\n",
    "dsave['BFKt'] = BFKt_bar\n",
    "dsave['BFKs'] = BFKs_bar\n",
    "# dsave['MLD'] = MLD_b\n",
    "dsave.to_netcdf(op.join(scratch,'GulfStream/BFKmesoML_bar_Ncoars%02d-24h_%4d-%02d-%02d_%02d-%02d.nc' \n",
    "                        % (ncoars,year,j,days[0,0],m,days[-1,-1])), mode='w')\n",
    "    \n",
    "#     if k < len(dirs)-2:\n",
    "#         del BFK_bar"
   ]
  },
  {
   "cell_type": "code",
   "execution_count": 14,
   "metadata": {},
   "outputs": [
    {
     "data": {
      "text/plain": [
       "<matplotlib.collections.QuadMesh at 0x2abbfc390080>"
      ]
     },
     "execution_count": 14,
     "metadata": {},
     "output_type": "execute_result"
    },
    {
     "data": {
      "image/png": "[encoded data removed]",
      "text/plain": [
       "<Figure size 432x288 with 2 Axes>"
      ]
     },
     "metadata": {
      "needs_background": "light"
     },
     "output_type": "display_data"
    }
   ],
   "source": [
    "BFK_bar[0].plot()"
   ]
  },
  {
   "cell_type": "code",
   "execution_count": 20,
   "metadata": {
    "collapsed": true,
    "jupyter": {
     "outputs_hidden": true
    }
   },
   "outputs": [
    {
     "name": "stdout",
     "output_type": "stream",
     "text": [
      "1-1\n",
      "1-2\n",
      "1-3\n",
      "1-4\n",
      "1-5\n",
      "1-6\n"
     ]
    },
    {
     "name": "stderr",
     "output_type": "stream",
     "text": [
      "/scratch/cnt0024/hmg2840/tuchida/condapack/lib/python3.7/site-packages/numpy/core/_methods.py:151: RuntimeWarning: invalid value encountered in reduce\n",
      "  ret = umr_sum(arr, axis, dtype, out, keepdims)\n"
     ]
    },
    {
     "name": "stdout",
     "output_type": "stream",
     "text": [
      "1-7\n",
      "1-8\n",
      "1-9\n",
      "1-10\n",
      "1-11\n",
      "1-12\n",
      "1-13\n",
      "1-14\n",
      "1-15\n",
      "1-16\n",
      "1-17\n",
      "1-18\n",
      "1-19\n",
      "1-20\n",
      "1-21\n",
      "1-22\n"
     ]
    },
    {
     "name": "stderr",
     "output_type": "stream",
     "text": [
      "/scratch/cnt0024/hmg2840/tuchida/condapack/lib/python3.7/site-packages/numpy/core/_methods.py:151: RuntimeWarning: invalid value encountered in reduce\n",
      "  ret = umr_sum(arr, axis, dtype, out, keepdims)\n"
     ]
    },
    {
     "name": "stdout",
     "output_type": "stream",
     "text": [
      "1-23\n",
      "1-24\n",
      "1-25\n"
     ]
    },
    {
     "name": "stderr",
     "output_type": "stream",
     "text": [
      "distributed.nanny - WARNING - Restarting worker\n"
     ]
    }
   ],
   "source": [
    "month = 1\n",
    "year = 2010\n",
    "for k in range(0,len(dirs)-1):\n",
    "    for i in days[k]:\n",
    "        j = month\n",
    "        l = j\n",
    "        m = month\n",
    "#         if k > 0:\n",
    "#             j = m\n",
    "        if i < days[0,0]:\n",
    "            l = m\n",
    "#         dsW = xr.open_dataset(op.join(ddir,'%08d-%08d/eNATL60-BLBT02_1h_2009%2d%02d_2009%2d%02d_gridW_2009%2d%02d-2009%2d%02d.nc' \n",
    "#                                       % (dirs[k],dirs[k+1]-1,j,days[k,0],11,days[k,-1],l,i,l,i)),\n",
    "#                               chunks={'time_counter':1,'depthw':zchunk}\n",
    "#                              ).sel(depthw=slice(None,510))\n",
    "        dsT = xr.open_dataset(op.join(xtra,'%08d-%08d/eNATL60-BLBT02X_1h_%4d%02d%02d_%4d%02d%02d_gridT_%4d%02d%02d-%4d%02d%02d.nc' \n",
    "                                      % (dirs[k],int(dirs[k]+10800*days.shape[0]-1),\n",
    "                                         year,j,days[0,0],year,m,days[-1,-1],\n",
    "                                         year,l,i,year,l,i)),\n",
    "                              chunks={'time_counter':1,'deptht':zchunk}\n",
    "                             ).sel(deptht=slice(None,810))\n",
    "        dsS = xr.open_dataset(op.join(xtra,'%08d-%08d/eNATL60-BLBT02X_1h_%4d%02d%02d_%4d%02d%02d_gridS_%4d%02d%02d-%4d%02d%02d.nc' \n",
    "                                      % (dirs[k],int(dirs[k]+10800*days.shape[0]-1),\n",
    "                                         year,j,days[0,0],year,m,days[-1,-1],\n",
    "                                         year,l,i,year,l,i)),\n",
    "                              chunks={'time_counter':1,'deptht':zchunk}\n",
    "                             ).sel(deptht=slice(None,810))\n",
    "        d2D = xr.open_dataset(op.join(xtra,'%08d-%08d/eNATL60-BLBT02X_1h_%4d%02d%02d_%4d%02d%02d_gridT-2D_%4d%02d%02d-%4d%02d%02d.nc' \n",
    "                                      % (dirs[k],int(dirs[k]+10800*days.shape[0]-1),\n",
    "                                         year,j,days[0,0],year,m,days[-1,-1],\n",
    "                                         year,l,i,year,l,i)),\n",
    "                             )\n",
    "\n",
    "        if i == days[0,0]:\n",
    "            maskT = dsmask.tmask[0].sel(y=slice(ys,ye),x=slice(xs,xe)\n",
    "                                        ).isel(z=slice(None,len(dsW.depthw)))\n",
    "\n",
    "        CT = dsT.votemper[-1].sel(y=slice(ys,ye),x=slice(xs,xe)\n",
    "                                 ).where(xr.DataArray(maskT.data, dims=['deptht','y','x']\n",
    "                                                     ) != 0.)\n",
    "        SA = dsS.vosaline[-1].sel(y=slice(ys,ye),x=slice(xs,xe)\n",
    "                                 ).where(xr.DataArray(maskT.data, dims=['deptht','y','x']\n",
    "                                                     ) != 0.)\n",
    "        ssh = d2D.sossheig[-1].sel(y=slice(ys,ye),x=slice(xs,xe)\n",
    "                                  ).where(xr.DataArray(maskT.data[0], dims=['y','x']\n",
    "                                                      ) != 0.)\n",
    "    #     del dsT, dsS, dsW\n",
    "\n",
    "\n",
    "#######################\n",
    "        s_b = ((SA*At).coarsen({'y':5,'x':5}, boundary='trim').sum()\n",
    "               / At.coarsen({'y':5,'x':5}, boundary='trim').sum()\n",
    "              )\n",
    "        t_b = ((CT*At).coarsen({'y':5,'x':5}, boundary='trim').sum()\n",
    "               / At.coarsen({'y':5,'x':5}, boundary='trim').sum()\n",
    "              )\n",
    "    #     del SA, CT\n",
    "\n",
    "        z10 = 6\n",
    "        sig0_b = xr.apply_ufunc(gsw.sigma0, s_b, t_b, \n",
    "                                dask='parallelized', output_dtypes=[float,]\n",
    "                               )\n",
    "        b_b = -g*sig0_b*1e-3\n",
    "\n",
    "#         nMLD_b = z10 + np.abs((sig0_b.isel(deptht=slice(z10,None))\n",
    "#                                - sig0_b.isel(deptht=z10)\n",
    "#                               ) - 0.01).argmin(dim='deptht')\n",
    "#         MLD = (xr.ones_like(sig0_b) * sig0_b.deptht\n",
    "#               )[{'deptht':nMLD_b.compute()}].compute()\n",
    "#         del nMLD_b, sig0_b\n",
    "#         if i == days[0,0]:\n",
    "#             MLD_b = MLD\n",
    "#         else:\n",
    "#             MLD_b = xr.concat([MLD_b, MLD], 'time_counter')\n",
    "        MLD = xr.open_dataset(op.join(scratch,\n",
    "                                      'GulfStream/wsbsb-bar_ML-24h_2010-01-01_01-25.nc')\n",
    "                             ).MLD\n",
    "\n",
    "        e3w = dsmask.e3w_0[0].sel(y=slice(ys,ye),x=slice(xs,xe)) * (1+ssh*gdepw**-1)\n",
    "        e3t = dsmask.e3t_0[0].sel(y=slice(ys,ye),x=slice(xs,xe)) * (1+ssh*gdepw**-1)\n",
    "        e3w_b = ((e3w*At).coarsen({'y':5,'x':5},boundary='trim').sum() \n",
    "                 * At.coarsen({'y':5,'x':5},boundary='trim').sum()**-1\n",
    "                )\n",
    "        e3t_b = ((e3t*At).coarsen({'y':5,'x':5},boundary='trim').sum() \n",
    "                 * At.coarsen({'y':5,'x':5},boundary='trim').sum()**-1\n",
    "                )\n",
    "\n",
    "#######################    \n",
    "#         bb_ML = ((b_b * xr.DataArray(e3t.data[:len(b_b.deptht)],dims=['deptht'])\n",
    "#                  ).where(b_b.deptht <= MLD).sum('deptht') \n",
    "#                  * MLD**-1)\n",
    "\n",
    "        zt_b = e3t_b.sum('z')\n",
    "#         mu1 = 2*(-b_b.deptht) * MLD**-1 + 1\n",
    "#         mu1 = mu1.where(mu1.deptht <= MLD)\n",
    "        mu1 = 2*(-zt_b) * MLD**-1 + 1\n",
    "        mu1 = mu1.where(zt_b <= MLD)\n",
    "        mu = xr.DataArray(((1.-mu1**2)*(1.+5/21*mu1**2)).data,\n",
    "                         dims=['deptht','y','x']\n",
    "                         ).chunk({'deptht':zchunk})\n",
    "\n",
    "        dbx = (b_b*e2tb).diff(dim='x', label='upper') * Aub[:,:-1]**-1\n",
    "        dby = (b_b*e1tb).diff(dim='y', label='upper') * Avb[:-1]**-1\n",
    "\n",
    "        dbx = (dbx.isel(x=slice(1,None))\n",
    "               + dbx.isel(x=slice(None,-1)).data\n",
    "              ) * .5\n",
    "        dby = (dby.isel(y=slice(1,None)) \n",
    "               + dby.isel(y=slice(None,-1)).data\n",
    "              ) * .5\n",
    "        \n",
    "        dbx = (dbx * xr.DataArray(e3t_b.data[:len(b_b.deptht)],dims=['deptht','y','x'])\n",
    "              ).where(dbx.deptht <= MLD.isel(x=slice(1,-1))).sum('deptht')\n",
    "        dby = (dby * xr.DataArray(e3t_b.data[:len(b_b.deptht)],dims=['deptht','y','x'])\n",
    "              ).where(dby.deptht <= MLD.isel(y=slice(1,-1))).sum('deptht')\n",
    "        \n",
    "        gradB2 = dbx.isel(y=slice(1,-1))**2 + dby.isel(x=slice(1,-1))**2\n",
    "    #     del b_b, dbx, dby\n",
    "\n",
    "        gradbb2H = (Ce * mu.isel(y=slice(1,-1),x=slice(1,-1))\n",
    "                    * gradB2\n",
    "                    * np.abs(fb).isel(y=slice(1,-1),x=slice(1,-1))**-1\n",
    "                   )\n",
    "\n",
    "#         wsbsb_ML = wsbs_b.where(wsbs_b.depthw <= MLD)\n",
    "#####################  \n",
    "        if i == days[0,0]:\n",
    "#             wsbsb_bar = ((wsbsb_ML\n",
    "#                           * xr.DataArray(e3w[:len(wsbsb_ML.depthw)], dims='depthw',\n",
    "#                                          coords={'depthw':wsbsb_ML.depthw.data}\n",
    "#                                         )\n",
    "#                          ).sum('depthw') * MLD**-1\n",
    "#                         ).compute()\n",
    "#     #                     ).sum(dim=['y','x']).persist() * Atb.sum(dim=['y','x'])**-1\n",
    "            BFK_bar = gradbb2H\n",
    "        else:\n",
    "#             wsbsb_bar = xr.concat([wsbsb_bar, ((wsbsb_ML\n",
    "#                                                 * xr.DataArray(e3w[:len(wsbsb_ML.depthw)], dims='depthw',\n",
    "#                                                                coords={'depthw':wsbsb_ML.depthw.data}\n",
    "#                                                               )\n",
    "#                                                ).sum('depthw') * MLD**-1\n",
    "#                                               ).compute()\n",
    "#                                   ],\n",
    "#                                  'time_counter')\n",
    "            BFK_bar = xr.concat([BFK_bar, gradbb2H],\n",
    "                                'time_counter')\n",
    "\n",
    "        del MLD, gradB2, gradbb2H\n",
    "        \n",
    "#         client.restart()\n",
    "        print(str(l)+'-'+str(i))\n",
    "    \n",
    "#     wsbsb_bar.to_netcdf(op.join(scratch,'wsbs_bar_2009-%2d-%02d_%2d-%02d.nc' % (j,days[k,0],l,days[k,-1])))\n",
    "\n",
    "BFK_bar.to_netcdf(op.join(scratch,'GulfStream/BFK-3D_bar-24h_%4d-%02d-%02d_%02d-%02d.nc' % (year,j,days[0,0],m,days[-1,-1])))\n",
    "    \n",
    "#     if k < len(dirs)-2:\n",
    "#         del BFK_bar"
   ]
  },
  {
   "cell_type": "code",
   "execution_count": null,
   "metadata": {},
   "outputs": [],
   "source": [
    "fig, (ax1,ax2) = plt.subplots(nrows=1, ncols=2, figsize=(20,7))\n",
    "fig.set_tight_layout(True)\n",
    "wsbsb_bar[0].plot(ax=ax1, vmin=-1e-7, vmax=1e-7, cmap='RdBu_r')\n",
    "(BFK_bar[0]*.1).plot(ax=ax2, vmin=0, vmax=1e-7, cmap='Reds')"
   ]
  },
  {
   "cell_type": "code",
   "execution_count": null,
   "metadata": {},
   "outputs": [],
   "source": [
    "MLD_b.mean('time_counter').plot(vmax=1.4e2, vmin=20, cmap='Blues')"
   ]
  },
  {
   "cell_type": "code",
   "execution_count": null,
   "metadata": {},
   "outputs": [],
   "source": [
    "wsbsb_ML.chunk({'depthw':-1}).mean(['time_counter','depthw']).plot(figsize=(8,5), cmap='RdBu_r', vmin=-1e-7, vmax=1e-7)"
   ]
  },
  {
   "cell_type": "code",
   "execution_count": null,
   "metadata": {},
   "outputs": [],
   "source": [
    "fig, ax = plt.subplots(figsize=(14,4))\n",
    "wsbs_bar.plot(ax=ax, c='r', lw=3)\n",
    "gradbb2H_bar.plot(ax=ax, c='k', ls='--', lw=2)"
   ]
  },
  {
   "cell_type": "code",
   "execution_count": null,
   "metadata": {},
   "outputs": [],
   "source": [
    "gradbb2H.name = 'BFK'\n",
    "wsbsb_ML.name = 'wsbs'\n",
    "from matplotlib.gridspec import GridSpec\n",
    "\n",
    "fig = plt.figure(figsize=(20,5))\n",
    "# fig.set_tight_layout(True)\n",
    "gs = GridSpec(1,5,figure=fig)\n",
    "ax1 = fig.add_subplot(gs[0,:2])\n",
    "ax2 = fig.add_subplot(gs[0,2:4])\n",
    "ax3 = fig.add_subplot(gs[0,4])\n",
    "wsbsb_ML[0,14,1:-1,1:-1].plot(ax=ax1, vmax=5e-8, cmap='coolwarm', rasterized=True)\n",
    "(1e2*gradbb2H[15,0]).plot(ax=ax2, vmin=0., vmax=5e-8, cmap='Reds', rasterized=True)\n",
    "xhist(1e2*gradbb2H[1:].transpose('time_counter','deptht','y','x').chunk({'time_counter':1}), \n",
    "      wsbsb_ML[:,:,1:-1,1:-1].chunk({'time_counter':1}),\n",
    "      bins=[np.logspace(-11,-6,30), np.logspace(-11,-6,30)]).plot(ax=ax3, cmap='Blues')\n",
    "ax3.plot(np.linspace(1e-11,1e-6), np.linspace(1e-11,1e-6), c='grey', ls='--')\n",
    "ax3.set_xscale('log')\n",
    "ax3.set_yscale('log')\n",
    "ax3.set_ylim([1e-11,1e-6])\n",
    "ax3.set_xlim([1e-11,1e-6])\n",
    "ax3.set_xlabel(r\"$\\overline{w'b'}^{xy}$ [m$^2$ s$^{-3}$]\", fontsize=14)\n",
    "ax3.set_ylabel(r\"$\\frac{H_{\\tt ML}^2|\\nabla_{\\tt H}\\overline{b}^{xyz}|^2}{f}$ [m$^2$ s$^{-3}$]\", \n",
    "               fontsize=14)\n",
    "ax1.set_title(r\"$\\overline{w'b'}^{xy}$ [m$^2$ s$^{-3}$]\", fontsize=15)\n",
    "ax2.set_title(r\"$H_{\\tt ML}^2|\\nabla_{\\tt H}\\overline{b}^{xyz}|^2 / f$ [m$^2$ s$^{-3}$]\", \n",
    "             fontsize=15)\n",
    "fig.suptitle(r\"Nov. 2, 2009\", fontsize=17, y=1.02)\n",
    "# plt.savefig('/scratch/cnt0024/hmg2840/tuchida/Figs/Nov-2-2009_GulfStreamPatch.pdf')"
   ]
  },
  {
   "cell_type": "code",
   "execution_count": null,
   "metadata": {},
   "outputs": [],
   "source": []
  }
 ],
 "metadata": {
  "kernelspec": {
   "display_name": "Python 3",
   "language": "python",
   "name": "python3"
  },
  "language_info": {
   "codemirror_mode": {
    "name": "ipython",
    "version": 3
   },
   "file_extension": ".py",
   "mimetype": "text/x-python",
   "name": "python",
   "nbconvert_exporter": "python",
   "pygments_lexer": "ipython3",
   "version": "3.7.3"
  }
 },
 "nbformat": 4,
 "nbformat_minor": 4
}
