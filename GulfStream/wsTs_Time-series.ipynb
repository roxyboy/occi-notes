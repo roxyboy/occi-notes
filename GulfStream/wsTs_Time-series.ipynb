{
 "cells": [
  {
   "cell_type": "code",
   "execution_count": 1,
   "metadata": {},
   "outputs": [
    {
     "name": "stderr",
     "output_type": "stream",
     "text": [
      "/scratch/cnt0024/hmg2840/tuchida/condapack/lib/python3.7/site-packages/distributed/dashboard/core.py:72: UserWarning: \n",
      "Failed to start diagnostics server on port 8787. [Errno 13] Permission denied\n",
      "  warnings.warn(\"\\n\" + msg)\n"
     ]
    },
    {
     "data": {
      "text/html": [
       "<table style=\"border: 2px solid white;\">\n",
       "<tr>\n",
       "<td style=\"vertical-align: top; border: 0px solid white\">\n",
       "<h3 style=\"text-align: left;\">Client</h3>\n",
       "<ul style=\"text-align: left; list-style: none; margin: 0; padding: 0;\">\n",
       "  <li><b>Scheduler: </b>tcp://127.0.0.1:40396</li>\n",
       "  <li><b>Dashboard: </b><a href='http://127.0.0.1:33966/status' target='_blank'>http://127.0.0.1:33966/status</a>\n",
       "</ul>\n",
       "</td>\n",
       "<td style=\"vertical-align: top; border: 0px solid white\">\n",
       "<h3 style=\"text-align: left;\">Cluster</h3>\n",
       "<ul style=\"text-align: left; list-style:none; margin: 0; padding: 0;\">\n",
       "  <li><b>Workers: </b>12</li>\n",
       "  <li><b>Cores: </b>72</li>\n",
       "  <li><b>Memory: </b>202.37 GB</li>\n",
       "</ul>\n",
       "</td>\n",
       "</tr>\n",
       "</table>"
      ],
      "text/plain": [
       "<Client: 'tcp://127.0.0.1:40396' processes=12 threads=72, memory=202.37 GB>"
      ]
     },
     "execution_count": 1,
     "metadata": {},
     "output_type": "execute_result"
    }
   ],
   "source": [
    "from dask.distributed import Client, LocalCluster\n",
    "# from dask_jobqueue import SLURMCluster\n",
    "\n",
    "cluster = LocalCluster()\n",
    "# cluster = SLURMCluster(cores=12, name='test', walltime='01:30:00',\n",
    "#                        job_extra=['--constraint=HSW24','--exclusive','--nodes=1'], \n",
    "#                        memory='118GB', interface='ib0'\n",
    "#                       ) \n",
    "cluster.scale(12)\n",
    "# # cluster.adapt(minimum=1, maximum=48)\n",
    "\n",
    "client = Client(cluster)\n",
    "# client = Client()\n",
    "client"
   ]
  },
  {
   "cell_type": "code",
   "execution_count": 2,
   "metadata": {},
   "outputs": [
    {
     "name": "stdout",
     "output_type": "stream",
     "text": [
      "             JOBID PARTITION     NAME     USER ST       TIME  NODES NODELIST(REASON)\n",
      "12\n"
     ]
    }
   ],
   "source": [
    "!squeue -u tuchida\n",
    "\n",
    "import time\n",
    "nb_workers = 0\n",
    "while True:\n",
    "    nb_workers = len(client.scheduler_info()[\"workers\"])\n",
    "    if nb_workers >= 2:\n",
    "        break\n",
    "    time.sleep(1)\n",
    "print(nb_workers)"
   ]
  },
  {
   "cell_type": "code",
   "execution_count": 3,
   "metadata": {},
   "outputs": [],
   "source": [
    "import xarray as xr\n",
    "import numpy as np\n",
    "import xscale\n",
    "import gsw\n",
    "import os.path as op\n",
    "from xhistogram.xarray import histogram as xhist\n",
    "\n",
    "from matplotlib.gridspec import GridSpec\n",
    "import matplotlib.pyplot as plt\n",
    "%matplotlib inline"
   ]
  },
  {
   "cell_type": "code",
   "execution_count": 4,
   "metadata": {},
   "outputs": [],
   "source": [
    "ddir = '/store/CT1/hmg2840/lbrodeau/eNATL60/eNATL60-BLBT02-S/'\n",
    "xtra = '/store/CT1/hmg2840/lbrodeau/eNATL60/eNATL60-BLBT02X-S/'\n",
    "scratch = '/scratch/cnt0024/hmg2840/tuchida/temp'"
   ]
  },
  {
   "cell_type": "code",
   "execution_count": 5,
   "metadata": {},
   "outputs": [
    {
     "data": {
      "text/html": [
       "<pre>&lt;xarray.Dataset&gt;\n",
       "Dimensions:       (t: 1, x: 8354, y: 4729, z: 300)\n",
       "Dimensions without coordinates: t, x, y, z\n",
       "Data variables:\n",
       "    nav_lon       (y, x) float32 dask.array&lt;chunksize=(4729, 8354), meta=np.ndarray&gt;\n",
       "    nav_lat       (y, x) float32 dask.array&lt;chunksize=(4729, 8354), meta=np.ndarray&gt;\n",
       "    nav_lev       (z) float32 dask.array&lt;chunksize=(4,), meta=np.ndarray&gt;\n",
       "    time_counter  (t) float64 dask.array&lt;chunksize=(1,), meta=np.ndarray&gt;\n",
       "    tmask         (t, z, y, x) int8 dask.array&lt;chunksize=(1, 4, 4729, 8354), meta=np.ndarray&gt;\n",
       "    umask         (t, z, y, x) int8 dask.array&lt;chunksize=(1, 4, 4729, 8354), meta=np.ndarray&gt;\n",
       "    vmask         (t, z, y, x) int8 dask.array&lt;chunksize=(1, 4, 4729, 8354), meta=np.ndarray&gt;\n",
       "    fmask         (t, z, y, x) int8 dask.array&lt;chunksize=(1, 4, 4729, 8354), meta=np.ndarray&gt;\n",
       "    tmaskutil     (t, y, x) int8 dask.array&lt;chunksize=(1, 4729, 8354), meta=np.ndarray&gt;\n",
       "    umaskutil     (t, y, x) int8 dask.array&lt;chunksize=(1, 4729, 8354), meta=np.ndarray&gt;\n",
       "    vmaskutil     (t, y, x) int8 dask.array&lt;chunksize=(1, 4729, 8354), meta=np.ndarray&gt;\n",
       "    fmaskutil     (t, y, x) int8 dask.array&lt;chunksize=(1, 4729, 8354), meta=np.ndarray&gt;\n",
       "    glamt         (t, y, x) float32 dask.array&lt;chunksize=(1, 4729, 8354), meta=np.ndarray&gt;\n",
       "    glamu         (t, y, x) float32 dask.array&lt;chunksize=(1, 4729, 8354), meta=np.ndarray&gt;\n",
       "    glamv         (t, y, x) float32 dask.array&lt;chunksize=(1, 4729, 8354), meta=np.ndarray&gt;\n",
       "    glamf         (t, y, x) float32 dask.array&lt;chunksize=(1, 4729, 8354), meta=np.ndarray&gt;\n",
       "    gphit         (t, y, x) float32 dask.array&lt;chunksize=(1, 4729, 8354), meta=np.ndarray&gt;\n",
       "    gphiu         (t, y, x) float32 dask.array&lt;chunksize=(1, 4729, 8354), meta=np.ndarray&gt;\n",
       "    gphiv         (t, y, x) float32 dask.array&lt;chunksize=(1, 4729, 8354), meta=np.ndarray&gt;\n",
       "    gphif         (t, y, x) float32 dask.array&lt;chunksize=(1, 4729, 8354), meta=np.ndarray&gt;\n",
       "    e1t           (t, y, x) float64 dask.array&lt;chunksize=(1, 4729, 8354), meta=np.ndarray&gt;\n",
       "    e1u           (t, y, x) float64 dask.array&lt;chunksize=(1, 4729, 8354), meta=np.ndarray&gt;\n",
       "    e1v           (t, y, x) float64 dask.array&lt;chunksize=(1, 4729, 8354), meta=np.ndarray&gt;\n",
       "    e1f           (t, y, x) float64 dask.array&lt;chunksize=(1, 4729, 8354), meta=np.ndarray&gt;\n",
       "    e2t           (t, y, x) float64 dask.array&lt;chunksize=(1, 4729, 8354), meta=np.ndarray&gt;\n",
       "    e2u           (t, y, x) float64 dask.array&lt;chunksize=(1, 4729, 8354), meta=np.ndarray&gt;\n",
       "    e2v           (t, y, x) float64 dask.array&lt;chunksize=(1, 4729, 8354), meta=np.ndarray&gt;\n",
       "    e2f           (t, y, x) float64 dask.array&lt;chunksize=(1, 4729, 8354), meta=np.ndarray&gt;\n",
       "    ff            (t, y, x) float64 dask.array&lt;chunksize=(1, 4729, 8354), meta=np.ndarray&gt;\n",
       "    mbathy        (t, y, x) int16 dask.array&lt;chunksize=(1, 4729, 8354), meta=np.ndarray&gt;\n",
       "    misf          (t, y, x) int16 dask.array&lt;chunksize=(1, 4729, 8354), meta=np.ndarray&gt;\n",
       "    isfdraft      (t, y, x) float32 dask.array&lt;chunksize=(1, 4729, 8354), meta=np.ndarray&gt;\n",
       "    e3t_0         (t, z, y, x) float64 dask.array&lt;chunksize=(1, 4, 4729, 8354), meta=np.ndarray&gt;\n",
       "    e3u_0         (t, z, y, x) float64 dask.array&lt;chunksize=(1, 4, 4729, 8354), meta=np.ndarray&gt;\n",
       "    e3v_0         (t, z, y, x) float64 dask.array&lt;chunksize=(1, 4, 4729, 8354), meta=np.ndarray&gt;\n",
       "    e3w_0         (t, z, y, x) float64 dask.array&lt;chunksize=(1, 4, 4729, 8354), meta=np.ndarray&gt;\n",
       "    gdept_0       (t, z, y, x) float32 dask.array&lt;chunksize=(1, 4, 4729, 8354), meta=np.ndarray&gt;\n",
       "    gdepu         (t, z, y, x) float32 dask.array&lt;chunksize=(1, 4, 4729, 8354), meta=np.ndarray&gt;\n",
       "    gdepv         (t, z, y, x) float32 dask.array&lt;chunksize=(1, 4, 4729, 8354), meta=np.ndarray&gt;\n",
       "    gdepw_0       (t, z, y, x) float32 dask.array&lt;chunksize=(1, 4, 4729, 8354), meta=np.ndarray&gt;\n",
       "    gdept_1d      (t, z) float64 dask.array&lt;chunksize=(1, 4), meta=np.ndarray&gt;\n",
       "    gdepw_1d      (t, z) float64 dask.array&lt;chunksize=(1, 4), meta=np.ndarray&gt;\n",
       "    e3t_1d        (t, z) float64 dask.array&lt;chunksize=(1, 4), meta=np.ndarray&gt;\n",
       "    e3w_1d        (t, z) float64 dask.array&lt;chunksize=(1, 4), meta=np.ndarray&gt;\n",
       "Attributes:\n",
       "    file_name:  mesh_mask.nc\n",
       "    TimeStamp:  13/07/2018 22:32:53 +0200</pre>"
      ],
      "text/plain": [
       "<xarray.Dataset>\n",
       "Dimensions:       (t: 1, x: 8354, y: 4729, z: 300)\n",
       "Dimensions without coordinates: t, x, y, z\n",
       "Data variables:\n",
       "    nav_lon       (y, x) float32 dask.array<chunksize=(4729, 8354), meta=np.ndarray>\n",
       "    nav_lat       (y, x) float32 dask.array<chunksize=(4729, 8354), meta=np.ndarray>\n",
       "    nav_lev       (z) float32 dask.array<chunksize=(4,), meta=np.ndarray>\n",
       "    time_counter  (t) float64 dask.array<chunksize=(1,), meta=np.ndarray>\n",
       "    tmask         (t, z, y, x) int8 dask.array<chunksize=(1, 4, 4729, 8354), meta=np.ndarray>\n",
       "    umask         (t, z, y, x) int8 dask.array<chunksize=(1, 4, 4729, 8354), meta=np.ndarray>\n",
       "    vmask         (t, z, y, x) int8 dask.array<chunksize=(1, 4, 4729, 8354), meta=np.ndarray>\n",
       "    fmask         (t, z, y, x) int8 dask.array<chunksize=(1, 4, 4729, 8354), meta=np.ndarray>\n",
       "    tmaskutil     (t, y, x) int8 dask.array<chunksize=(1, 4729, 8354), meta=np.ndarray>\n",
       "    umaskutil     (t, y, x) int8 dask.array<chunksize=(1, 4729, 8354), meta=np.ndarray>\n",
       "    vmaskutil     (t, y, x) int8 dask.array<chunksize=(1, 4729, 8354), meta=np.ndarray>\n",
       "    fmaskutil     (t, y, x) int8 dask.array<chunksize=(1, 4729, 8354), meta=np.ndarray>\n",
       "    glamt         (t, y, x) float32 dask.array<chunksize=(1, 4729, 8354), meta=np.ndarray>\n",
       "    glamu         (t, y, x) float32 dask.array<chunksize=(1, 4729, 8354), meta=np.ndarray>\n",
       "    glamv         (t, y, x) float32 dask.array<chunksize=(1, 4729, 8354), meta=np.ndarray>\n",
       "    glamf         (t, y, x) float32 dask.array<chunksize=(1, 4729, 8354), meta=np.ndarray>\n",
       "    gphit         (t, y, x) float32 dask.array<chunksize=(1, 4729, 8354), meta=np.ndarray>\n",
       "    gphiu         (t, y, x) float32 dask.array<chunksize=(1, 4729, 8354), meta=np.ndarray>\n",
       "    gphiv         (t, y, x) float32 dask.array<chunksize=(1, 4729, 8354), meta=np.ndarray>\n",
       "    gphif         (t, y, x) float32 dask.array<chunksize=(1, 4729, 8354), meta=np.ndarray>\n",
       "    e1t           (t, y, x) float64 dask.array<chunksize=(1, 4729, 8354), meta=np.ndarray>\n",
       "    e1u           (t, y, x) float64 dask.array<chunksize=(1, 4729, 8354), meta=np.ndarray>\n",
       "    e1v           (t, y, x) float64 dask.array<chunksize=(1, 4729, 8354), meta=np.ndarray>\n",
       "    e1f           (t, y, x) float64 dask.array<chunksize=(1, 4729, 8354), meta=np.ndarray>\n",
       "    e2t           (t, y, x) float64 dask.array<chunksize=(1, 4729, 8354), meta=np.ndarray>\n",
       "    e2u           (t, y, x) float64 dask.array<chunksize=(1, 4729, 8354), meta=np.ndarray>\n",
       "    e2v           (t, y, x) float64 dask.array<chunksize=(1, 4729, 8354), meta=np.ndarray>\n",
       "    e2f           (t, y, x) float64 dask.array<chunksize=(1, 4729, 8354), meta=np.ndarray>\n",
       "    ff            (t, y, x) float64 dask.array<chunksize=(1, 4729, 8354), meta=np.ndarray>\n",
       "    mbathy        (t, y, x) int16 dask.array<chunksize=(1, 4729, 8354), meta=np.ndarray>\n",
       "    misf          (t, y, x) int16 dask.array<chunksize=(1, 4729, 8354), meta=np.ndarray>\n",
       "    isfdraft      (t, y, x) float32 dask.array<chunksize=(1, 4729, 8354), meta=np.ndarray>\n",
       "    e3t_0         (t, z, y, x) float64 dask.array<chunksize=(1, 4, 4729, 8354), meta=np.ndarray>\n",
       "    e3u_0         (t, z, y, x) float64 dask.array<chunksize=(1, 4, 4729, 8354), meta=np.ndarray>\n",
       "    e3v_0         (t, z, y, x) float64 dask.array<chunksize=(1, 4, 4729, 8354), meta=np.ndarray>\n",
       "    e3w_0         (t, z, y, x) float64 dask.array<chunksize=(1, 4, 4729, 8354), meta=np.ndarray>\n",
       "    gdept_0       (t, z, y, x) float32 dask.array<chunksize=(1, 4, 4729, 8354), meta=np.ndarray>\n",
       "    gdepu         (t, z, y, x) float32 dask.array<chunksize=(1, 4, 4729, 8354), meta=np.ndarray>\n",
       "    gdepv         (t, z, y, x) float32 dask.array<chunksize=(1, 4, 4729, 8354), meta=np.ndarray>\n",
       "    gdepw_0       (t, z, y, x) float32 dask.array<chunksize=(1, 4, 4729, 8354), meta=np.ndarray>\n",
       "    gdept_1d      (t, z) float64 dask.array<chunksize=(1, 4), meta=np.ndarray>\n",
       "    gdepw_1d      (t, z) float64 dask.array<chunksize=(1, 4), meta=np.ndarray>\n",
       "    e3t_1d        (t, z) float64 dask.array<chunksize=(1, 4), meta=np.ndarray>\n",
       "    e3w_1d        (t, z) float64 dask.array<chunksize=(1, 4), meta=np.ndarray>\n",
       "Attributes:\n",
       "    file_name:  mesh_mask.nc\n",
       "    TimeStamp:  13/07/2018 22:32:53 +0200"
      ]
     },
     "execution_count": 5,
     "metadata": {},
     "output_type": "execute_result"
    }
   ],
   "source": [
    "g = 9.81\n",
    "Ce = 0.01\n",
    "ys,ye = (2000,2500)\n",
    "xs,xe = (2300,3100)\n",
    "zchunk = 4\n",
    "\n",
    "dsmask = xr.open_dataset(op.join(ddir,'../eNATL60-I/mesh_mask_eNATL60_3.6.nc'), chunks={'z':zchunk})\n",
    "dsmask"
   ]
  },
  {
   "cell_type": "code",
   "execution_count": 6,
   "metadata": {},
   "outputs": [],
   "source": [
    "At = (dsmask.e1t * dsmask.e2t)[0].sel(y=slice(ys,ye),x=slice(xs,xe))\n",
    "Au = (dsmask.e1u * dsmask.e2u)[0].sel(y=slice(ys,ye),x=slice(xs,xe))\n",
    "Av = (dsmask.e1v * dsmask.e2v)[0].sel(y=slice(ys,ye),x=slice(xs,xe))\n",
    "# e1u = dsmask.e1u[0].sel(y=slice(ys,ye),x=slice(xs,xe))\n",
    "# e2u = dsmask.e2u[0].sel(y=slice(ys,ye),x=slice(xs,xe))\n",
    "# e1v = dsmask.e1v[0].sel(y=slice(ys,ye),x=slice(xs,xe))\n",
    "# e2v = dsmask.e2v[0].sel(y=slice(ys,ye),x=slice(xs,xe))\n",
    "e2t = dsmask.e2t[0].sel(y=slice(ys,ye),x=slice(xs,xe))\n",
    "e1t = dsmask.e1t[0].sel(y=slice(ys,ye),x=slice(xs,xe))\n",
    "e3t = dsmask.e3t_1d[0]\n",
    "e3w = dsmask.e3w_1d[0]"
   ]
  },
  {
   "cell_type": "code",
   "execution_count": null,
   "metadata": {
    "jupyter": {
     "source_hidden": true
    }
   },
   "outputs": [],
   "source": [
    "cori = gsw.f(dsmask.nav_lat.sel(y=slice(ys,ye),x=slice(xs,xe)))\n",
    "fb = xr.apply_ufunc(gsw.f,(dsmask.nav_lat.sel(y=slice(ys,ye),x=slice(xs,xe))*At).coarsen({'y':5,'x':5}, boundary='trim').sum()\n",
    "                           / At.coarsen({'y':5,'x':5}, boundary='trim').sum(),\n",
    "                    dask='parallelized', output_dtypes=[float,]\n",
    "                   )\n",
    "e1tb = e1t.coarsen({'y':5,'x':5},boundary='trim').sum()\n",
    "e2tb = e2t.coarsen({'y':5,'x':5},boundary='trim').sum()\n",
    "Aub = Au.coarsen({'y':5,'x':5}, boundary='trim').sum()\n",
    "Avb = Av.coarsen({'y':5,'x':5}, boundary='trim').sum()\n",
    "# Atb = At.coarsen({'y':5,'x':5}, boundary='trim').sum()"
   ]
  },
  {
   "cell_type": "code",
   "execution_count": 7,
   "metadata": {},
   "outputs": [],
   "source": [
    "def filt(da, area=None):\n",
    "    \n",
    "    if area is not None:\n",
    "        win_2D = (da * area).window\n",
    "    else:\n",
    "        win_2D = da.window\n",
    "    \n",
    "    win_2D.set(window='hanning', cutoff=20, dim=['y','x'], n=[30,30])\n",
    "    bw = win_2D.boundary_weights(drop_dims=[])\n",
    "    da_LS = win_2D.convolve(weights=bw)\n",
    "    \n",
    "    if area is not None:\n",
    "        area_win = area.window\n",
    "        area_win.set(window='hanning', cutoff=20, dim=['y','x'], n=[30,30])\n",
    "        bw = area_win.boundary_weights(drop_dims=[])\n",
    "        da_LS *= area_win.convolve(weights=bw)**-1\n",
    "    \n",
    "    da_SS = da - da_LS\n",
    "    \n",
    "    return da_SS"
   ]
  },
  {
   "cell_type": "code",
   "execution_count": null,
   "metadata": {
    "jupyter": {
     "source_hidden": true
    }
   },
   "outputs": [],
   "source": [
    "xr.open_dataset(op.join(ddir,'00658801-00669600/eNATL60-BLBT02_1h_20091102_20091106_gridW_20091102-20091102.nc'),\n",
    "               chunks=({'time_counter':1,'depthw':1})).sel(depthw=slice(None,510)).vovecrtz[0,0].data.nbytes*1e-6"
   ]
  },
  {
   "cell_type": "code",
   "execution_count": null,
   "metadata": {
    "jupyter": {
     "source_hidden": true
    }
   },
   "outputs": [],
   "source": [
    "dsW = xr.open_mfdataset(op.join(ddir,'00658801-00669600/eNATL60-BLBT02_1h_20091102_20091106_gridW_200911*.nc'),\n",
    "                        chunks={'time_counter':1,'depthw':1}, combine='by_coords'\n",
    "                       ).sel(depthw=slice(None,510))\n",
    "dsT = xr.open_mfdataset(op.join(ddir,'00658801-00669600/eNATL60-BLBT02_1h_20091102_20091106_gridT_200911*.nc'),\n",
    "                        chunks={'time_counter':1,'deptht':1}, combine='by_coords'\n",
    "                       ).sel(deptht=slice(None,510))\n",
    "dsS = xr.open_mfdataset(op.join(ddir,'00658801-00669600/eNATL60-BLBT02_1h_20091102_20091106_gridS_200911*.nc'),\n",
    "                        chunks={'time_counter':1,'deptht':1}, combine='by_coords'\n",
    "                       ).sel(deptht=slice(None,510))\n",
    "dsW"
   ]
  },
  {
   "cell_type": "code",
   "execution_count": 10,
   "metadata": {
    "collapsed": true,
    "jupyter": {
     "outputs_hidden": true,
     "source_hidden": true
    }
   },
   "outputs": [
    {
     "data": {
      "text/html": [
       "<pre>&lt;xarray.DataArray (time_counter: 120, depthw: 73, y: 500, x: 800)&gt;\n",
       "dask.array&lt;mul, shape=(120, 73, 500, 800), dtype=float64, chunksize=(1, 1, 500, 800), chunktype=numpy.ndarray&gt;\n",
       "Coordinates:\n",
       "  * depthw         (depthw) float64 1.0 2.157 3.471 4.943 ... 475.4 487.9 500.5\n",
       "    nav_lat        (y, x) float32 dask.array&lt;chunksize=(500, 800), meta=np.ndarray&gt;\n",
       "    nav_lon        (y, x) float32 dask.array&lt;chunksize=(500, 800), meta=np.ndarray&gt;\n",
       "    time_centered  (time_counter) datetime64[ns] dask.array&lt;chunksize=(1,), meta=np.ndarray&gt;\n",
       "  * time_counter   (time_counter) datetime64[ns] 2009-11-02T00:30:00 ... 2009-11-06T23:30:00\n",
       "Dimensions without coordinates: y, x</pre>"
      ],
      "text/plain": [
       "<xarray.DataArray (time_counter: 120, depthw: 73, y: 500, x: 800)>\n",
       "dask.array<mul, shape=(120, 73, 500, 800), dtype=float64, chunksize=(1, 1, 500, 800), chunktype=numpy.ndarray>\n",
       "Coordinates:\n",
       "  * depthw         (depthw) float64 1.0 2.157 3.471 4.943 ... 475.4 487.9 500.5\n",
       "    nav_lat        (y, x) float32 dask.array<chunksize=(500, 800), meta=np.ndarray>\n",
       "    nav_lon        (y, x) float32 dask.array<chunksize=(500, 800), meta=np.ndarray>\n",
       "    time_centered  (time_counter) datetime64[ns] dask.array<chunksize=(1,), meta=np.ndarray>\n",
       "  * time_counter   (time_counter) datetime64[ns] 2009-11-02T00:30:00 ... 2009-11-06T23:30:00\n",
       "Dimensions without coordinates: y, x"
      ]
     },
     "execution_count": 10,
     "metadata": {},
     "output_type": "execute_result"
    }
   ],
   "source": [
    "maskT = dsmask.tmask[0].sel(y=slice(ys,ye),x=slice(xs,xe)).isel(z=slice(None,len(dsW.depthw)))\n",
    "    \n",
    "CT = dsT.votemper.sel(y=slice(ys,ye),x=slice(xs,xe)\n",
    "                     ).where(xr.DataArray(maskT.data, dims=['deptht','y','x']).chunk({'deptht':1})!=0.\n",
    "                            )\n",
    "SA = dsS.vosaline.sel(y=slice(ys,ye),x=slice(xs,xe)\n",
    "                     ).where(xr.DataArray(maskT.data, dims=['deptht','y','x']).chunk({'deptht':1})!=0.\n",
    "                            )\n",
    "w = dsW.vovecrtz.sel(y=slice(ys,ye),x=slice(xs,xe)\n",
    "                    ).where(xr.DataArray(maskT.data, dims=['depthw','y','x']).chunk({'deptht':1})!=0.\n",
    "                           )\n",
    "\n",
    "buoy = -g*xr.apply_ufunc(gsw.sigma0, SA, CT, \n",
    "                         dask='parallelized', output_dtypes=[float,]\n",
    "                        )*1e-3\n",
    "\n",
    "ws = filt(w.chunk({'depthw':1}), area=At)\n",
    "bs = filt(buoy.chunk({'deptht':1}), area=At)\n",
    "\n",
    "wsbs = (ws.isel(depthw=slice(1,None)) \n",
    "        * bs.chunk({'deptht':-1}).interp({'deptht':ws.depthw.isel(depthw=slice(1,None)).data},\n",
    "                                         method='linear').data\n",
    "       )\n",
    "wsbs"
   ]
  },
  {
   "cell_type": "code",
   "execution_count": null,
   "metadata": {
    "jupyter": {
     "source_hidden": true
    }
   },
   "outputs": [],
   "source": [
    "wsbs[:,15].mean('time_counter').plot(figsize=(12,7), vmin=-1e-7, vmax=1e-7, cmap='RdBu_r')"
   ]
  },
  {
   "cell_type": "code",
   "execution_count": null,
   "metadata": {
    "jupyter": {
     "source_hidden": true
    }
   },
   "outputs": [],
   "source": [
    "wsbs_b = ((wsbs*At).coarsen({'y':5,'x':5},boundary='trim').sum() \n",
    "          * At.coarsen({'y':5,'x':5},boundary='trim').sum()**-1\n",
    "         )\n",
    "s_b = ((SA*At).coarsen({'y':5,'x':5}, boundary='trim').sum()\n",
    "       / At.coarsen({'y':5,'x':5}, boundary='trim').sum()\n",
    "      )\n",
    "t_b = ((CT*At).coarsen({'y':5,'x':5}, boundary='trim').sum()\n",
    "       / At.coarsen({'y':5,'x':5}, boundary='trim').sum()\n",
    "      )\n",
    "\n",
    "z10 = 6\n",
    "sig0_b = xr.apply_ufunc(gsw.sigma0, s_b, t_b, \n",
    "                        dask='parallelized', output_dtypes=[float,]\n",
    "                       ).persist()\n",
    "b_b = -g*sig0_b*1e-3\n",
    "\n",
    "nMLD_b = z10 + np.abs((sig0_b.isel(deptht=slice(z10,None))\n",
    "                       - sig0_b.isel(deptht=z10)\n",
    "                      ) - 0.03).argmin(dim='deptht')"
   ]
  },
  {
   "cell_type": "code",
   "execution_count": 13,
   "metadata": {
    "collapsed": true,
    "jupyter": {
     "outputs_hidden": true,
     "source_hidden": true
    }
   },
   "outputs": [
    {
     "data": {
      "text/html": [
       "<pre>&lt;xarray.DataArray (time: 5, x: 4)&gt;\n",
       "dask.array&lt;concatenate, shape=(5, 4), dtype=float64, chunksize=(1, 4), chunktype=numpy.ndarray&gt;\n",
       "Dimensions without coordinates: time, x</pre>"
      ],
      "text/plain": [
       "<xarray.DataArray (time: 5, x: 4)>\n",
       "dask.array<concatenate, shape=(5, 4), dtype=float64, chunksize=(1, 4), chunktype=numpy.ndarray>\n",
       "Dimensions without coordinates: time, x"
      ]
     },
     "execution_count": 13,
     "metadata": {},
     "output_type": "execute_result"
    }
   ],
   "source": [
    "import dask.array as dsar\n",
    "xr.concat([xr.DataArray(np.random.random((2,4)), dims=['time','x']).chunk({'time':1}),\n",
    "           xr.DataArray(np.random.random((3,4)), dims=['time','x']).chunk({'time':1})], 'time')"
   ]
  },
  {
   "cell_type": "code",
   "execution_count": 8,
   "metadata": {},
   "outputs": [
    {
     "name": "stdout",
     "output_type": "stream",
     "text": [
      "[[3 4 5 6 7]] [594001 594001]\n"
     ]
    }
   ],
   "source": [
    "# dirs = np.arange(594001+6*10800,669600+10800,10800,dtype=int)\n",
    "# days = np.concatenate((np.arange(28,32,dtype=int), np.arange(1,2,dtype=int))).reshape((1,5))\n",
    "days = np.arange(3,8, dtype=int).reshape((1,5))\n",
    "dirs = np.repeat(np.array([594001]),days.shape[0]+1)\n",
    "print(days,dirs)"
   ]
  },
  {
   "cell_type": "code",
   "execution_count": 9,
   "metadata": {},
   "outputs": [
    {
     "name": "stderr",
     "output_type": "stream",
     "text": [
      "distributed.scheduler - ERROR - Couldn't gather keys {\"('truediv-94600e5c7ba060aef8cf9a52e3a0d0e0', 0, 0, 0)\": []} state: ['waiting'] workers: []\n",
      "NoneType: None\n",
      "distributed.scheduler - ERROR - Workers don't have promised key: [], ('truediv-94600e5c7ba060aef8cf9a52e3a0d0e0', 0, 0, 0)\n",
      "NoneType: None\n"
     ]
    },
    {
     "name": "stdout",
     "output_type": "stream",
     "text": [
      "10-3\n",
      "10-4\n",
      "10-5\n",
      "10-6\n",
      "10-7\n"
     ]
    }
   ],
   "source": [
    "month = 10\n",
    "year = 2009\n",
    "for k in range(0,len(dirs)-1):\n",
    "    for i in days[k]:\n",
    "        j = month\n",
    "        l = j\n",
    "        m = month\n",
    "#         if k > 0:\n",
    "#             j = m\n",
    "        if i < days[0,0]:\n",
    "            l = m\n",
    "        dsW = xr.open_dataset(op.join(ddir,'%08d-%08d/eNATL60-BLBT02_1h_%4d%02d%02d_%4d%02d%02d_gridW_%4d%02d%02d-%4d%02d%02d.nc' \n",
    "                                      % (dirs[k],int(dirs[k]+10800*days.shape[0]-1),\n",
    "                                         year,j,days[0,0],year,m,days[-1,-1],\n",
    "                                         year,l,i,year,l,i)),\n",
    "                              chunks={'depthw':zchunk}\n",
    "                             ).sel(depthw=slice(None,510))\n",
    "        dsT = xr.open_dataset(op.join(ddir,'%08d-%08d/eNATL60-BLBT02_1h_%4d%02d%02d_%4d%02d%02d_gridT_%4d%02d%02d-%4d%02d%02d.nc' \n",
    "                                      % (dirs[k],int(dirs[k]+10800*days.shape[0]-1),\n",
    "                                         year,j,days[0,0],year,m,days[-1,-1],\n",
    "                                         year,l,i,year,l,i)),\n",
    "                              chunks={'deptht':zchunk}\n",
    "                             ).sel(deptht=slice(None,510))\n",
    "        dsS = xr.open_dataset(op.join(ddir,'%08d-%08d/eNATL60-BLBT02_1h_%4d%02d%02d_%4d%02d%02d_gridS_%4d%02d%02d-%4d%02d%02d.nc' \n",
    "                                      % (dirs[k],int(dirs[k]+10800*days.shape[0]-1),\n",
    "                                         year,j,days[0,0],year,m,days[-1,-1],\n",
    "                                         year,l,i,year,l,i)),\n",
    "                              chunks={'deptht':zchunk}\n",
    "                             ).sel(deptht=slice(None,510))\n",
    "\n",
    "        if i == days[0,0]:\n",
    "            maskT = dsmask.tmask[0].sel(y=slice(ys,ye),x=slice(xs,xe)\n",
    "                                       ).isel(z=slice(None,len(dsW.depthw)))\n",
    "\n",
    "        CT = dsT.votemper.sel(y=slice(ys,ye),x=slice(xs,xe)\n",
    "                             )[-1].where(xr.DataArray(maskT.data, dims=['deptht','y','x']\n",
    "                                                 ) != 0.)\n",
    "        SA = dsS.vosaline.sel(y=slice(ys,ye),x=slice(xs,xe)\n",
    "                             )[-1].where(xr.DataArray(maskT.data, dims=['deptht','y','x']\n",
    "                                                 ) != 0.)\n",
    "        w = dsW.vovecrtz.sel(y=slice(ys,ye),x=slice(xs,xe)\n",
    "                            )[-1].where(xr.DataArray(maskT.data, dims=['depthw','y','x']\n",
    "                                                ) != 0.)\n",
    "    #     del dsT, dsS, dsW\n",
    "\n",
    "        ws = filt(w, area=At).chunk({'depthw':zchunk})\n",
    "        ts = filt(CT, area=At).chunk({'deptht':-1})\n",
    "        ss = filt(SA, area=At).chunk({'deptht':-1})\n",
    "\n",
    "        wsts = (ws.isel(depthw=slice(1,None)) \n",
    "                * ts.interp({'deptht':ws.depthw.isel(depthw=slice(1,None)).data},\n",
    "                            method='linear').data\n",
    "               )\n",
    "        wsss = (ws.isel(depthw=slice(1,None)) \n",
    "                * ss.interp({'deptht':ws.depthw.isel(depthw=slice(1,None)).data},\n",
    "                            method='linear').data\n",
    "               )\n",
    "\n",
    "        wsts_b = ((wsts*At).coarsen({'y':5,'x':5},boundary='trim').sum() \n",
    "                  * At.coarsen({'y':5,'x':5},boundary='trim').sum()**-1\n",
    "                 )\n",
    "        wsss_b = ((wsss*At).coarsen({'y':5,'x':5},boundary='trim').sum() \n",
    "                  * At.coarsen({'y':5,'x':5},boundary='trim').sum()**-1\n",
    "                 )\n",
    "    #     del w, buoy, ws, bs, wsbs\n",
    "\n",
    "#######################\n",
    "        s_b = ((SA*At).coarsen({'y':5,'x':5}, boundary='trim').sum()\n",
    "               / At.coarsen({'y':5,'x':5}, boundary='trim').sum()\n",
    "              )\n",
    "        t_b = ((CT*At).coarsen({'y':5,'x':5}, boundary='trim').sum()\n",
    "               / At.coarsen({'y':5,'x':5}, boundary='trim').sum()\n",
    "              )\n",
    "    #     del SA, CT\n",
    "#         pres = xr.apply_ufunc(gsw.p_from_z, CT.deptht, CT.lat[2::5,2::5])\n",
    "#         N2, _ = xr.apply_ufunc(gsw.Nsquared(), s_b, t_b, CT.lat[2::5,2::5])\n",
    "        z10 = 6\n",
    "        sig0_b = xr.apply_ufunc(gsw.sigma0, s_b, t_b, \n",
    "                                dask='parallelized', output_dtypes=[float,]\n",
    "                               )\n",
    "#         b_b = -g*sig0_b*1e-3\n",
    "\n",
    "        nMLD_b = z10 + np.abs((sig0_b.isel(deptht=slice(z10,None))\n",
    "                               - sig0_b.isel(deptht=z10)\n",
    "                              ) - 0.03).argmin(dim='deptht')\n",
    "        MLD = (xr.ones_like(sig0_b) * sig0_b.deptht\n",
    "              )[{'deptht':nMLD_b.compute()}].compute()\n",
    "        del nMLD_b, sig0_b\n",
    "        if i == days[0,0]:\n",
    "            MLD_b = MLD\n",
    "        else:\n",
    "            MLD_b = xr.concat([MLD_b, MLD], 'time_counter')\n",
    "\n",
    "\n",
    "#######################    \n",
    "        wstsb_ML = wsts_b.where(wsts_b.depthw <= MLD)\n",
    "        wsssb_ML = wsss_b.where(wsss_b.depthw <= MLD)\n",
    "#####################  \n",
    "        if i == days[0,0]:\n",
    "            wstsb_bar = ((wstsb_ML\n",
    "                          * xr.DataArray(e3w[:len(wstsb_ML.depthw)], dims='depthw',\n",
    "                                         coords={'depthw':wstsb_ML.depthw.data}\n",
    "                                        )\n",
    "                         ).sum('depthw') * MLD**-1\n",
    "                        ).compute()\n",
    "            wsssb_bar = ((wsssb_ML\n",
    "                          * xr.DataArray(e3w[:len(wsssb_ML.depthw)], dims='depthw',\n",
    "                                         coords={'depthw':wsssb_ML.depthw.data}\n",
    "                                        )\n",
    "                         ).sum('depthw') * MLD**-1\n",
    "                        ).compute()\n",
    "\n",
    "        else:\n",
    "            wstsb_bar = xr.concat([wstsb_bar, ((wstsb_ML\n",
    "                                                * xr.DataArray(e3w[:len(wstsb_ML.depthw)], dims='depthw',\n",
    "                                                               coords={'depthw':wstsb_ML.depthw.data}\n",
    "                                                              )\n",
    "                                               ).sum('depthw') * MLD**-1\n",
    "                                              ).compute()\n",
    "                                  ],\n",
    "                                 'time_counter')\n",
    "            wsssb_bar = xr.concat([wsssb_bar, ((wsssb_ML\n",
    "                                                * xr.DataArray(e3w[:len(wsssb_ML.depthw)], dims='depthw',\n",
    "                                                               coords={'depthw':wsssb_ML.depthw.data}\n",
    "                                                              )\n",
    "                                               ).sum('depthw') * MLD**-1\n",
    "                                              ).compute()\n",
    "                                  ],\n",
    "                                 'time_counter')\n",
    "\n",
    "\n",
    "        del MLD, wstsb_ML, wsssb_ML\n",
    "        \n",
    "#         client.restart()\n",
    "        print(str(l)+'-'+str(i))\n",
    "    \n",
    "wstsb_bar.to_netcdf(op.join(scratch,'GulfStream/wsTs_bar-24h_%4d-%02d-%02d_%02d-%02d.nc' % (year,j,days[0,0],l,days[-1,-1])))\n",
    "wsssb_bar.to_netcdf(op.join(scratch,'GulfStream/wsSs_bar-24h_%4d-%02d-%02d_%02d-%02d.nc' % (year,j,days[0,0],l,days[-1,-1])))\n",
    "MLD_b.to_netcdf(op.join(scratch,'GulfStream/MLD_bar-24h_%4d-%02d-%02d_%02d-%02d.nc' % (year,j,days[0,0],l,days[-1,-1])))\n",
    "    \n",
    "#     if k < len(dirs)-2:\n",
    "#         del wstsb_bar"
   ]
  },
  {
   "cell_type": "code",
   "execution_count": null,
   "metadata": {},
   "outputs": [],
   "source": [
    "fig, (ax1,ax2) = plt.subplots(nrows=1, ncols=2, figsize=(20,7))\n",
    "fig.set_tight_layout(True)\n",
    "wsbsb_bar[0].plot(ax=ax1, vmin=-1e-7, vmax=1e-7, cmap='RdBu_r')\n",
    "(BFK_bar[0]*.1).plot(ax=ax2, vmin=0, vmax=1e-7, cmap='Reds')"
   ]
  },
  {
   "cell_type": "code",
   "execution_count": null,
   "metadata": {},
   "outputs": [],
   "source": [
    "MLD_b.mean('time_counter').plot(vmax=1.4e2, vmin=20, cmap='Blues')"
   ]
  },
  {
   "cell_type": "code",
   "execution_count": null,
   "metadata": {},
   "outputs": [],
   "source": [
    "wsbsb_ML.chunk({'depthw':-1}).mean(['time_counter','depthw']).plot(figsize=(8,5), cmap='RdBu_r', vmin=-1e-7, vmax=1e-7)"
   ]
  },
  {
   "cell_type": "code",
   "execution_count": null,
   "metadata": {},
   "outputs": [],
   "source": [
    "fig, ax = plt.subplots(figsize=(14,4))\n",
    "wsbs_bar.plot(ax=ax, c='r', lw=3)\n",
    "gradbb2H_bar.plot(ax=ax, c='k', ls='--', lw=2)"
   ]
  },
  {
   "cell_type": "code",
   "execution_count": null,
   "metadata": {},
   "outputs": [],
   "source": [
    "gradbb2H.name = 'BFK'\n",
    "wsbsb_ML.name = 'wsbs'\n",
    "from matplotlib.gridspec import GridSpec\n",
    "\n",
    "fig = plt.figure(figsize=(20,5))\n",
    "# fig.set_tight_layout(True)\n",
    "gs = GridSpec(1,5,figure=fig)\n",
    "ax1 = fig.add_subplot(gs[0,:2])\n",
    "ax2 = fig.add_subplot(gs[0,2:4])\n",
    "ax3 = fig.add_subplot(gs[0,4])\n",
    "wsbsb_ML[0,14,1:-1,1:-1].plot(ax=ax1, vmax=5e-8, cmap='coolwarm', rasterized=True)\n",
    "(1e2*gradbb2H[15,0]).plot(ax=ax2, vmin=0., vmax=5e-8, cmap='Reds', rasterized=True)\n",
    "xhist(1e2*gradbb2H[1:].transpose('time_counter','deptht','y','x').chunk({'time_counter':1}), \n",
    "      wsbsb_ML[:,:,1:-1,1:-1].chunk({'time_counter':1}),\n",
    "      bins=[np.logspace(-11,-6,30), np.logspace(-11,-6,30)]).plot(ax=ax3, cmap='Blues')\n",
    "ax3.plot(np.linspace(1e-11,1e-6), np.linspace(1e-11,1e-6), c='grey', ls='--')\n",
    "ax3.set_xscale('log')\n",
    "ax3.set_yscale('log')\n",
    "ax3.set_ylim([1e-11,1e-6])\n",
    "ax3.set_xlim([1e-11,1e-6])\n",
    "ax3.set_xlabel(r\"$\\overline{w'b'}^{xy}$ [m$^2$ s$^{-3}$]\", fontsize=14)\n",
    "ax3.set_ylabel(r\"$\\frac{H_{\\tt ML}^2|\\nabla_{\\tt H}\\overline{b}^{xyz}|^2}{f}$ [m$^2$ s$^{-3}$]\", \n",
    "               fontsize=14)\n",
    "ax1.set_title(r\"$\\overline{w'b'}^{xy}$ [m$^2$ s$^{-3}$]\", fontsize=15)\n",
    "ax2.set_title(r\"$H_{\\tt ML}^2|\\nabla_{\\tt H}\\overline{b}^{xyz}|^2 / f$ [m$^2$ s$^{-3}$]\", \n",
    "             fontsize=15)\n",
    "fig.suptitle(r\"Nov. 2, 2009\", fontsize=17, y=1.02)\n",
    "# plt.savefig('/scratch/cnt0024/hmg2840/tuchida/Figs/Nov-2-2009_GulfStreamPatch.pdf')"
   ]
  },
  {
   "cell_type": "code",
   "execution_count": null,
   "metadata": {},
   "outputs": [],
   "source": []
  }
 ],
 "metadata": {
  "kernelspec": {
   "display_name": "Python 3",
   "language": "python",
   "name": "python3"
  },
  "language_info": {
   "codemirror_mode": {
    "name": "ipython",
    "version": 3
   },
   "file_extension": ".py",
   "mimetype": "text/x-python",
   "name": "python",
   "nbconvert_exporter": "python",
   "pygments_lexer": "ipython3",
   "version": "3.7.3"
  }
 },
 "nbformat": 4,
 "nbformat_minor": 4
}
